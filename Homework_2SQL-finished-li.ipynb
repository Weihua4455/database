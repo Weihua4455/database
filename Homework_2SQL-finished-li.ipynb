{
 "cells": [
  {
   "cell_type": "markdown",
   "metadata": {},
   "source": [
    "# Homework 2: SQL in Python (Data and Databases 2018)\n",
    "\n",
    "The next four homework assignments will be in this iPython notebook format. Read the instructions as you go, and type in the necessary code--then run the cells to see if you got it right. Don't worry if you are new to python for this assignment--the only \"code\" you will be writing are SQL statements that you will paste into each myquery variable.\n",
    "\n",
    "\n",
    "## The Challenges\n",
    "\n",
    "For this homework we will be using the tables we imported from the [UN data site](http://data.un.org/Explorer.aspx). You should already have `wind` and `solar` installed. As you will see, this homework asks that you find one more table of your choice from the UN's Energy statistics an import it into the the same database. [I have posted the instructions here](http://floatingmedia.com/columbia/csv_to_sql.html)\n",
    "\n",
    "These are relatively simple CSV files--the only really important columns are `country`, `year` and `usage`. But the tricky part is that most countries have multiple entries: one for every year the UN has been gathering data on that country. So most of these queries are going to ask you to get electrical usage results based on country and year. (Major hint: JOINs are going to need to be based on country AND year.)\n",
    "\n",
    "In the questions below, we focus on exploratory queries--with an emphasis on aggregates and joins. Read the questions carefully, and then write SQL statements that will get you the correct results. (You will want to explore tables and test out queries directly in the shell before you paste them into Python--the error handling for SQL in Python can be confusing, and there should be no errors in the prewritten Python parts of this document. Also, sometimes an error in Python will break your connection with the database--see conn.rollback() below for that solution.\n"
   ]
  },
  {
   "cell_type": "markdown",
   "metadata": {},
   "source": [
    "First things first: Connect to database! \n",
    "(Make sure the cell is selected, then go to the cell menubar and choose \"Run Cells\")"
   ]
  },
  {
   "cell_type": "code",
   "execution_count": 4,
   "metadata": {},
   "outputs": [
    {
     "name": "stdout",
     "output_type": "stream",
     "text": [
      "<class 'pg8000.core.Connection'>\n"
     ]
    }
   ],
   "source": [
    "import pg8000\n",
    "conn = pg8000.connect(database=\"unenergy2018\",user=\"postgres\")\n",
    "#conn = pg8000.connect(database=\"undata\")\n",
    "print(type(conn))"
   ]
  },
  {
   "cell_type": "markdown",
   "metadata": {},
   "source": [
    "If the connection isn't working make sure that you have typed in the name of the database correctly, and your username as well. \n",
    "\n",
    "If you get an error when running one of the SQL cells below, run this conn.rollback() cell to restart your connection."
   ]
  },
  {
   "cell_type": "code",
   "execution_count": 5,
   "metadata": {},
   "outputs": [],
   "source": [
    "conn.rollback()"
   ]
  },
  {
   "cell_type": "markdown",
   "metadata": {},
   "source": [
    "## Question 1: Simple(ish) Query \n",
    "\n",
    "Create a statement that searches for the top 15 countries for solar energy usage in 2014. So figure out first what table you are searching and what columns you need (you can figure out the columns by looking at the sample results below). Then you need to test by year so you only get results from 2014, and order it correctly.\n",
    "\n",
    "```\n",
    "Germany 36056.0 mil\n",
    "United States 24603.0 mil\n",
    "Japan 24506.0 mil\n",
    "Italy 22306.0 mil\n",
    "China 15189.0 mil\n",
    "Spain 13673.0 mil\n",
    "France 5913.0 mil\n",
    "India 5020.0 mil\n",
    "Australia 4858.0 mil\n",
    "United Kingdom 4040.0 mil\n",
    "Greece 3792.0 mil\n",
    "Belgium 2883.0 mil\n",
    "Korea, Republic of 2557.0 mil\n",
    "South Africa 2206.0 mil\n",
    "Czechia 2123.0 mil\n",
    "```"
   ]
  },
  {
   "cell_type": "code",
   "execution_count": 6,
   "metadata": {},
   "outputs": [
    {
     "name": "stdout",
     "output_type": "stream",
     "text": [
      "Germany 36056.0 mil\n",
      "United States 24603.0 mil\n",
      "Japan 24506.0 mil\n",
      "Italy 22306.0 mil\n",
      "China 15189.0 mil\n",
      "Spain 13673.0 mil\n",
      "France 5913.0 mil\n",
      "India 5020.0 mil\n",
      "Australia 4858.0 mil\n",
      "United Kingdom 4040.0 mil\n",
      "Greece 3792.0 mil\n",
      "Belgium 2883.0 mil\n",
      "Korea, Republic of 2557.0 mil\n",
      "South Africa 2206.0 mil\n",
      "Czechia 2123.0 mil\n"
     ]
    }
   ],
   "source": [
    "cursor = conn.cursor()\n",
    "myquery = '''\n",
    "SELECT country, usage FROM solar\n",
    "WHERE year = 2014\n",
    "ORDER BY usage DESC\n",
    "NULLS LAST\n",
    "LIMIT 15;\n",
    "'''\n",
    "cursor.execute(myquery)\n",
    "for row in cursor:\n",
    "    print(row[0], row[1], \"mil\")"
   ]
  },
  {
   "cell_type": "markdown",
   "metadata": {},
   "source": [
    "## Question 2: aggregate query\n",
    "\n",
    "Using avg(), get the average solar energy usage for each country, and it display only the countries with an average that is above 500 (million). (Remember for aggregates you need to use HAVING to test values, instead of WHERE). Make sure it is properly ordered like the results below, and wrap your avg column in round() to get round numbers:\n",
    "\n",
    "```\n",
    "19843.0 China\n",
    "7297.0 Germany\n",
    "5164.0 India\n",
    "4514.0 United States\n",
    "4042.0 Japan\n",
    "3831.0 Italy\n",
    "3030.0 Spain\n",
    "1155.0 Greece\n",
    "1147.0 Czechia\n",
    "1134.0 France\n",
    "1057.0 Belgium\n",
    "902.0 United Kingdom\n",
    "876.0 Australia\n",
    "704.0 Bulgaria\n",
    "547.0 Thailand\n",
    "```"
   ]
  },
  {
   "cell_type": "code",
   "execution_count": 7,
   "metadata": {},
   "outputs": [
    {
     "name": "stdout",
     "output_type": "stream",
     "text": [
      "19843.0 China\n",
      "7297.0 Germany\n",
      "5164.0 India\n",
      "4514.0 United States\n",
      "4042.0 Japan\n",
      "3831.0 Italy\n",
      "3030.0 Spain\n",
      "1155.0 Greece\n",
      "1147.0 Czechia\n",
      "1134.0 France\n",
      "1057.0 Belgium\n",
      "902.0 United Kingdom\n",
      "876.0 Australia\n",
      "704.0 Bulgaria\n",
      "547.0 Thailand\n"
     ]
    }
   ],
   "source": [
    "cursor = conn.cursor()\n",
    "myquery = '''\n",
    "SELECT round(avg(usage)), country FROM solar\n",
    "GROUP BY country\n",
    "HAVING avg(usage) > 500\n",
    "ORDER BY avg(usage) DESC;\n",
    "'''\n",
    "cursor.execute(myquery)\n",
    "for row in cursor:\n",
    "    print(row[0],row[1])"
   ]
  },
  {
   "cell_type": "markdown",
   "metadata": {},
   "source": [
    "## Question 3: aggregate query 2\n",
    "\n",
    "Get a list of countries whose Solar Energy data first started being collected in 2012. This is tricky to figure out, but the query should be pretty simple. The main thing you need to figure out is which aggregate function will find the earliest date, and then you need to test if year is 2012. And make it alphabetical by country.\n",
    "\n",
    "\n",
    "```\n",
    "2012 American Samoa\n",
    "2012 Botswana\n",
    "2012 Gabon\n",
    "2012 Lithuania\n",
    "2012 Marshall Islands\n",
    "2012 Mauritius\n",
    "2012 Poland\n",
    "2012 South Sudan\n",
    "2012 St. Helena and Depend.\n",
    "2012 St. Kitts-Nevis\n",
    "```\n"
   ]
  },
  {
   "cell_type": "code",
   "execution_count": 8,
   "metadata": {
    "scrolled": true
   },
   "outputs": [
    {
     "name": "stdout",
     "output_type": "stream",
     "text": [
      "2012 American Samoa\n",
      "2012 Botswana\n",
      "2012 Gabon\n",
      "2012 Lithuania\n",
      "2012 Marshall Islands\n",
      "2012 Mauritius\n",
      "2012 Poland\n",
      "2012 South Sudan\n",
      "2012 St. Helena and Depend.\n",
      "2012 St. Kitts-Nevis\n"
     ]
    }
   ],
   "source": [
    "cursor = conn.cursor()\n",
    "myquery = '''\n",
    "SELECT min(year), country FROM solar\n",
    "GROUP BY country\n",
    "HAVING min(year) = 2012\n",
    "ORDER BY country;\n",
    "'''\n",
    "cursor.execute(myquery)\n",
    "for row in cursor:\n",
    "    print(row[0], row[1])"
   ]
  },
  {
   "cell_type": "markdown",
   "metadata": {},
   "source": [
    "## Question 4: JOIN\n",
    "\n",
    "Get the usage of solar AND wind power for Germany for each year in the tables. There should be four columns total, and you will be joining on two criteria.\n",
    "\n",
    "(Please note that in the results below I am using Python to add in the strings \"solar:\" and \"wind:\")\n",
    "\n",
    "\n",
    "\n",
    "```\n",
    "Germany 1991 \twind: 215.0 \tsolar 1.0\n",
    "Germany 1992 \twind: 291.0 \tsolar 4.0\n",
    "Germany 1993 \twind: 674.0 \tsolar 3.0\n",
    "Germany 1994 \twind: 1428.0 \tsolar 7.0\n",
    "Germany 1995 \twind: 1712.0 \tsolar 7.0\n",
    "Germany 1996 \twind: 2078.0 \tsolar 12.0\n",
    "Germany 1997 \twind: 3034.0 \tsolar 18.0\n",
    "Germany 1998 \twind: 4593.0 \tsolar 35.0\n",
    "Germany 1999 \twind: 5528.0 \tsolar 30.0\n",
    "Germany 2000 \twind: 9352.0 \tsolar 60.0\n",
    "Germany 2001 \twind: 10456.0 \tsolar 116.0\n",
    "Germany 2002 \twind: 15856.0 \tsolar 188.0\n",
    "Germany 2003 \twind: 18713.0 \tsolar 313.0\n",
    "Germany 2004 \twind: 25509.0 \tsolar 557.0\n",
    "Germany 2005 \twind: 27229.0 \tsolar 1282.0\n",
    "Germany 2006 \twind: 30710.0 \tsolar 2220.0\n",
    "Germany 2007 \twind: 39713.0 \tsolar 3075.0\n",
    "Germany 2008 \twind: 40574.0 \tsolar 4420.0\n",
    "Germany 2009 \twind: 38647.0 \tsolar 6584.0\n",
    "Germany 2010 \twind: 37793.0 \tsolar 11729.0\n",
    "Germany 2011 \twind: 48883.0 \tsolar 19599.0\n",
    "Germany 2012 \twind: 50670.0 \tsolar 26380.0\n",
    "Germany 2013 \twind: 51708.0 \tsolar 31010.0\n",
    "Germany 2014 \twind: 57357.0 \tsolar 36056.0\n",
    "Germany 2015 \twind: 79206.0 \tsolar 38726.0\n",
    "```\n",
    "\n",
    "Hint: after the join you need to test that the country is Germany, then order by what?"
   ]
  },
  {
   "cell_type": "code",
   "execution_count": 9,
   "metadata": {},
   "outputs": [
    {
     "name": "stdout",
     "output_type": "stream",
     "text": [
      "Germany 1991 \twind: 215.0 \tsolar 1.0\n",
      "Germany 1992 \twind: 291.0 \tsolar 4.0\n",
      "Germany 1993 \twind: 674.0 \tsolar 3.0\n",
      "Germany 1994 \twind: 1428.0 \tsolar 7.0\n",
      "Germany 1995 \twind: 1712.0 \tsolar 7.0\n",
      "Germany 1996 \twind: 2078.0 \tsolar 12.0\n",
      "Germany 1997 \twind: 3034.0 \tsolar 18.0\n",
      "Germany 1998 \twind: 4593.0 \tsolar 35.0\n",
      "Germany 1999 \twind: 5528.0 \tsolar 30.0\n",
      "Germany 2000 \twind: 9352.0 \tsolar 60.0\n",
      "Germany 2001 \twind: 10456.0 \tsolar 116.0\n",
      "Germany 2002 \twind: 15856.0 \tsolar 188.0\n",
      "Germany 2003 \twind: 18713.0 \tsolar 313.0\n",
      "Germany 2004 \twind: 25509.0 \tsolar 557.0\n",
      "Germany 2005 \twind: 27229.0 \tsolar 1282.0\n",
      "Germany 2006 \twind: 30710.0 \tsolar 2220.0\n",
      "Germany 2007 \twind: 39713.0 \tsolar 3075.0\n",
      "Germany 2008 \twind: 40574.0 \tsolar 4420.0\n",
      "Germany 2009 \twind: 38647.0 \tsolar 6584.0\n",
      "Germany 2010 \twind: 37793.0 \tsolar 11729.0\n",
      "Germany 2011 \twind: 48883.0 \tsolar 19599.0\n",
      "Germany 2012 \twind: 50670.0 \tsolar 26380.0\n",
      "Germany 2013 \twind: 51708.0 \tsolar 31010.0\n",
      "Germany 2014 \twind: 57357.0 \tsolar 36056.0\n",
      "Germany 2015 \twind: 79206.0 \tsolar 38726.0\n"
     ]
    }
   ],
   "source": [
    "cursor = conn.cursor()\n",
    "myquery = '''\n",
    "SELECT solar.country, solar.year, wind.usage, solar.usage\n",
    "FROM solar JOIN wind ON solar.country = wind.country AND solar.year = wind.year\n",
    "WHERE solar.country = 'Germany'\n",
    "ORDER BY solar.year;\n",
    "'''\n",
    "cursor.execute(myquery)\n",
    "for row in cursor:\n",
    "    print(row[0],row[1],\"\\twind:\",row[2],\"\\tsolar\",row[3])"
   ]
  },
  {
   "cell_type": "markdown",
   "metadata": {},
   "source": [
    "## Question 5: join with aggregates\n",
    "\n",
    "Get the average wind usage and solar usage for each country. Order your results by average solar usage, and show only the top ten countries.\n",
    "\n",
    "```\n",
    "China wind: 161013.67 \tsolar: 19843.00\n",
    "Germany wind: 24077.16 \tsolar: 7297.28\n",
    "India wind: 30228.33 \tsolar: 5164.00\n",
    "United States wind: 45975.35 \tsolar: 4514.35\n",
    "Japan wind: 1684.00 \tsolar: 4042.46\n",
    "Italy wind: 4050.92 \tsolar: 3830.77\n",
    "Spain wind: 18894.12 \tsolar: 3029.77\n",
    "Greece wind: 2751.42 \tsolar: 1155.08\n",
    "Czechia wind: 338.60 \tsolar: 1147.20\n",
    "France wind: 5171.45 \tsolar: 1133.50\n",
    "```"
   ]
  },
  {
   "cell_type": "code",
   "execution_count": 10,
   "metadata": {},
   "outputs": [
    {
     "name": "stdout",
     "output_type": "stream",
     "text": [
      "China wind: 161013.67 \tsolar: 19843.00\n",
      "Germany wind: 24077.16 \tsolar: 7297.28\n",
      "India wind: 30228.33 \tsolar: 5164.00\n",
      "United States wind: 45975.35 \tsolar: 4514.35\n",
      "Japan wind: 1684.00 \tsolar: 4042.46\n",
      "Italy wind: 4050.92 \tsolar: 3830.77\n",
      "Spain wind: 18894.12 \tsolar: 3029.77\n",
      "Greece wind: 2751.42 \tsolar: 1155.08\n",
      "Czechia wind: 338.60 \tsolar: 1147.20\n",
      "France wind: 5171.45 \tsolar: 1133.50\n"
     ]
    }
   ],
   "source": [
    "cursor = conn.cursor()\n",
    "myquery = '''\n",
    "\n",
    "\n",
    "SELECT solar.country, avg(wind.usage), avg(solar.usage)\n",
    "FROM solar JOIN wind ON solar.country = wind.country AND solar.year = wind.year\n",
    "GROUP BY solar.country\n",
    "ORDER BY avg(solar.usage) DESC\n",
    "LIMIT 10;\n",
    "\n",
    "'''\n",
    "cursor.execute(myquery)\n",
    "for row in cursor:\n",
    "    print(row[0],\"wind:\",\"%.2f\" % row[1],\"\\tsolar:\",\"%.2f\" % row[2])"
   ]
  },
  {
   "cell_type": "markdown",
   "metadata": {},
   "source": [
    "## Question 6: same thing but slightly more complicated\n",
    "\n",
    "Get the average wind usage and solar usage for each country, FROM 2010 TO THE PRESENT. Order your results by average solar usage, and show only the top ten countries.\n",
    "\n",
    "```\n",
    "China wind: 161013.67 \tsolar: 19843.00\n",
    "Germany wind: 36398.50 \tsolar: 11394.69\n",
    "United States wind: 72631.81 \tsolar: 6827.31\n",
    "Japan wind: 2733.31 \tsolar: 6528.75\n",
    "Italy wind: 6532.00 \tsolar: 6217.81\n",
    "India wind: 30228.33 \tsolar: 5164.00\n",
    "Spain wind: 30334.50 \tsolar: 4916.38\n",
    "France wind: 7105.50 \tsolar: 1558.00\n",
    "Australia wind: 3872.00 \tsolar: 1249.56\n",
    "Greece wind: 2751.42 \tsolar: 1155.08\n",
    "```"
   ]
  },
  {
   "cell_type": "code",
   "execution_count": 11,
   "metadata": {
    "scrolled": true
   },
   "outputs": [
    {
     "name": "stdout",
     "output_type": "stream",
     "text": [
      "Germany wind: 54269.50 \tsolar: 27250.00\n",
      "China wind: 161013.67 \tsolar: 19843.00\n",
      "Italy wind: 12884.67 \tsolar: 16400.17\n",
      "United States wind: 150753.50 \tsolar: 16068.67\n",
      "Japan wind: 4621.17 \tsolar: 15094.33\n",
      "Spain wind: 48940.83 \tsolar: 11530.50\n",
      "India wind: 30228.33 \tsolar: 5164.00\n",
      "France wind: 15240.17 \tsolar: 4103.50\n",
      "Australia wind: 7964.33 \tsolar: 3194.50\n",
      "United Kingdom wind: 24402.33 \tsolar: 2541.00\n"
     ]
    }
   ],
   "source": [
    "cursor = conn.cursor()\n",
    "myquery = '''\n",
    "SELECT solar.country, avg(wind.usage), avg(solar.usage)\n",
    "FROM solar JOIN wind on solar.country = wind.country AND solar.year = wind.year\n",
    "WHERE solar.year > 2009\n",
    "GROUP BY solar.country\n",
    "ORDER BY avg(solar.usage) DESC\n",
    "LIMIT 10;\n",
    "'''\n",
    "cursor.execute(myquery)\n",
    "for row in cursor:\n",
    "    print(row[0],\"wind:\",\"%.2f\" % row[1],\"\\tsolar:\",\"%.2f\" % row[2])"
   ]
  },
  {
   "cell_type": "markdown",
   "metadata": {},
   "source": [
    "## Question 7: similar, but even more challenging.\n",
    "\n",
    "Get the average wind usage and solar usage for each country, FROM 2000 TO THE PRESENT. But only include countries that have solar and wind data from the year 2000. Hint: you will need to use a subquery (subtable) to pull out all of the countries that have data from 2000. And then you will need to join in both the solar and the wind table to that subquery. Don't put any limits on this query.\n",
    "\n",
    "```\n",
    "Germany wind: 24077.16 \tsolar: 7297.28\n",
    "United States wind: 45975.35 \tsolar: 4514.35\n",
    "Japan wind: 1684.00 \tsolar: 4042.46\n",
    "Italy wind: 4050.92 \tsolar: 3830.77\n",
    "Spain wind: 18894.12 \tsolar: 3029.77\n",
    "France wind: 5171.45 \tsolar: 1133.50\n",
    "Australia wind: 2818.77 \tsolar: 914.82\n",
    "United Kingdom wind: 10732.82 \tsolar: 901.76\n",
    "Korea, Republic of wind: 351.61 \tsolar: 515.57\n",
    "Canada wind: 4917.46 \tsolar: 357.08\n",
    "Switzerland wind: 30.45 \tsolar: 165.60\n",
    "Austria wind: 1387.00 \tsolar: 148.00\n",
    "Netherlands wind: 2363.36 \tsolar: 123.56\n",
    "Portugal wind: 3416.27 \tsolar: 116.77\n",
    "Denmark wind: 7548.65 \tsolar: 109.65\n",
    "Martinique wind: 1.51 \tsolar: 40.86\n",
    "Mexico wind: 1049.96 \tsolar: 33.62\n",
    "Sri Lanka wind: 73.45 \tsolar: 12.39\n",
    "Sweden wind: 2880.00 \tsolar: 10.96\n",
    "Finland wind: 294.92 \tsolar: 3.12\n",
    "```"
   ]
  },
  {
   "cell_type": "code",
   "execution_count": 13,
   "metadata": {
    "scrolled": false
   },
   "outputs": [
    {
     "name": "stdout",
     "output_type": "stream",
     "text": [
      "Sweden wind: 2880.00 \tsolar: 10.96\n",
      "Sri Lanka wind: 73.45 \tsolar: 12.39\n",
      "Portugal wind: 3416.27 \tsolar: 116.77\n",
      "Finland wind: 294.92 \tsolar: 3.12\n",
      "France wind: 5171.45 \tsolar: 1133.50\n",
      "United States wind: 45975.35 \tsolar: 4514.35\n",
      "Netherlands wind: 2363.36 \tsolar: 123.56\n",
      "Australia wind: 2818.77 \tsolar: 914.82\n",
      "Spain wind: 18894.12 \tsolar: 3029.77\n",
      "Italy wind: 4050.92 \tsolar: 3830.77\n",
      "United Kingdom wind: 10732.82 \tsolar: 901.76\n",
      "Germany wind: 24077.16 \tsolar: 7297.28\n",
      "Canada wind: 4917.46 \tsolar: 357.08\n",
      "Korea, Republic of wind: 351.61 \tsolar: 515.57\n",
      "Japan wind: 1684.00 \tsolar: 4042.46\n",
      "Denmark wind: 7548.65 \tsolar: 109.65\n",
      "Switzerland wind: 30.45 \tsolar: 165.60\n",
      "Austria wind: 1387.00 \tsolar: 148.00\n",
      "Mexico wind: 1049.96 \tsolar: 33.62\n",
      "Costa Rica wind: 399.35 \tsolar: 8.98\n"
     ]
    }
   ],
   "source": [
    "cursor = conn.cursor()\n",
    "myquery = '''\n",
    "SELECT sub.country, avg(wind.usage), avg(solar.usage)\n",
    "FROM solar \n",
    "JOIN wind ON solar.country = wind.country AND solar.year = wind.year\n",
    "JOIN (SELECT solar.country, min(solar.year), min(wind.year)\n",
    "FROM solar JOIN wind on solar.country = wind.country AND solar.year = wind.year\n",
    "GROUP BY solar.country\n",
    "HAVING min(solar.year) < 2001 AND min(wind.year) < 2001)\n",
    "AS sub\n",
    "ON wind.country = sub.country AND solar.country = sub.country\n",
    "GROUP BY sub.country;\n",
    "'''\n",
    "cursor.execute(myquery)\n",
    "for row in cursor:\n",
    "    print(row[0],\"wind:\",\"%.2f\" % row[1],\"\\tsolar:\",\"%.2f\" % row[2])"
   ]
  },
  {
   "cell_type": "markdown",
   "metadata": {},
   "source": [
    "## Question 8: Building a basic timeseries\n",
    "\n",
    "Step one: get a list of the first year of data and the most recent year of data for each country from the solar table. Limit the results to the first 15;\n",
    "\n",
    "```\n",
    "Costa Rica 1995 -- 2016\n",
    "Cambodia 2005 -- 2015\n",
    "Eritrea 1997 -- 2015\n",
    "Guatemala 2014 -- 2015\n",
    "Turkey 2014 -- 2015\n",
    "Germany 1991 -- 2015\n",
    "Madagascar 2008 -- 2015\n",
    "Cyprus 2005 -- 2015\n",
    "France 1994 -- 2015\n",
    "Samoa 2013 -- 2015\n",
    "Kiribati 2015 -- 2015\n",
    "Slovenia 2007 -- 2015\n",
    "St. Kitts-Nevis 2012 -- 2015\n",
    "American Samoa 2012 -- 2015\n",
    "Japan 1990 -- 2015\n",
    "```"
   ]
  },
  {
   "cell_type": "code",
   "execution_count": 12,
   "metadata": {
    "scrolled": true
   },
   "outputs": [
    {
     "name": "stdout",
     "output_type": "stream",
     "text": [
      "Indonesia 2010 -- 2015\n",
      "Bangladesh 2013 -- 2015\n",
      "Mayotte 2008 -- 2015\n",
      "Brunei Darussalam 2011 -- 2015\n",
      "Kiribati 2015 -- 2015\n",
      "Luxembourg 2003 -- 2015\n",
      "Sweden 1993 -- 2015\n",
      "Jordan 2015 -- 2015\n",
      "Dominican Republic 2011 -- 2016\n",
      "Ireland 2011 -- 2015\n",
      "Cambodia 2005 -- 2015\n",
      "Sri Lanka 2000 -- 2015\n",
      "American Samoa 2012 -- 2015\n",
      "Portugal 1990 -- 2015\n",
      "Finland 1991 -- 2015\n"
     ]
    }
   ],
   "source": [
    "cursor = conn.cursor()\n",
    "myquery = '''\n",
    "SELECT country, min(year), max(year) FROM solar\n",
    "GROUP BY country\n",
    "LIMIT 15;\n",
    "'''\n",
    "cursor.execute(myquery)\n",
    "for row in cursor:\n",
    "    print(row[0],row[1],\"--\",row[2])"
   ]
  },
  {
   "cell_type": "markdown",
   "metadata": {},
   "source": [
    "## Question 9: Building a basic timeseries\n",
    "\n",
    "Step two: Take that previous query, remove the limit, turn that into a subquery, and join the solar table on it twice, first to get the usage from the earliest date, next get the usage from the most recent date. Show the top 15 in usage from the most recent year.\n",
    "\n",
    "Note: to join at the same table twice, you need to alias the table (solar as sl1, solar as sl2). This is getting challenging, so get as far as you can.\n",
    "```\n",
    "China 2013 -- 2015 5564.0 -- 38776.0\n",
    "Germany 1991 -- 2015 1.0 -- 38726.0\n",
    "Japan 1990 -- 2015 1.0 -- 35858.0\n",
    "United States 1990 -- 2015 666.0 -- 35635.0\n",
    "Italy 1990 -- 2015 4.0 -- 22942.0\n",
    "Spain 1990 -- 2015 6.0 -- 13859.0\n",
    "United Kingdom 1999 -- 2015 1.0 -- 7561.0\n",
    "France 1994 -- 2015 1.0 -- 7259.0\n",
    "India 2013 -- 2015 3433.0 -- 7039.0\n",
    "Australia 1993 -- 2015 11.0 -- 5968.0\n",
    "Greece 2004 -- 2015 1.0 -- 3900.0\n",
    "Korea, Republic of 1990 -- 2015 1.0 -- 3880.0\n",
    "Belgium 2004 -- 2015 1.0 -- 3065.0\n",
    "Canada 1992 -- 2015 2.0 -- 2895.0\n",
    "Thailand 2007 -- 2015 1.0 -- 2378.0\n",
    "```"
   ]
  },
  {
   "cell_type": "code",
   "execution_count": 15,
   "metadata": {
    "scrolled": true
   },
   "outputs": [
    {
     "name": "stdout",
     "output_type": "stream",
     "text": [
      "China 2013 -- 2015 5564.0 -- 38776.0\n",
      "Germany 1991 -- 2015 1.0 -- 38726.0\n",
      "Japan 1990 -- 2015 1.0 -- 35858.0\n",
      "United States 1990 -- 2015 666.0 -- 35635.0\n",
      "Italy 1990 -- 2015 4.0 -- 22942.0\n",
      "Spain 1990 -- 2015 6.0 -- 13859.0\n",
      "United Kingdom 1999 -- 2015 1.0 -- 7561.0\n",
      "France 1994 -- 2015 1.0 -- 7259.0\n",
      "India 2013 -- 2015 3433.0 -- 7039.0\n",
      "Australia 1993 -- 2015 11.0 -- 5968.0\n",
      "Greece 2004 -- 2015 1.0 -- 3900.0\n",
      "Korea, Republic of 1990 -- 2015 1.0 -- 3880.0\n",
      "Belgium 2004 -- 2015 1.0 -- 3065.0\n",
      "Canada 1992 -- 2015 2.0 -- 2895.0\n",
      "Thailand 2007 -- 2015 1.0 -- 2378.0\n"
     ]
    }
   ],
   "source": [
    "cursor = conn.cursor()\n",
    "myquery = '''\n",
    "SELECT sub.country, sub.small, sub.large, sl1.usage, sl2.usage\n",
    "FROM (SELECT country, min(year) as small, max(year) as large FROM solar\n",
    "GROUP BY country) AS sub JOIN solar AS sl1 ON sl1.country = sub.country\n",
    "JOIN solar AS sl2 ON sl2.country = sub.country\n",
    "WHERE sl1.year = sub.small AND sl2.year = sub.large\n",
    "ORDER BY sl2.usage DESC\n",
    "LIMIT 15;\n",
    "'''  \n",
    "cursor.execute(myquery)\n",
    "for row in cursor:\n",
    "    print(row[0],row[1],\"--\",row[2],row[3],\"--\",row[4])"
   ]
  },
  {
   "cell_type": "markdown",
   "metadata": {},
   "source": [
    "## Question 10: join with aggregates, new data\n",
    "\n",
    "Your final task: go back to the [UN data site](http://data.un.org/Explorer.aspx) and download another table of your choice from the energy statistics. [Full instructions here.](http://floatingmedia.com/columbia/csv_to_sql.html) Choose a table that has similar columns to the wind and energy tables, and input it into your database.  Make sure you test that everything is working in the shell before going back to Python.\n",
    "\n",
    "Now, write a query that joins the third table to the query you just made. Get the average use for each Energy type: Solar, Wind, and the table you chose. Order it by the energy type you chose (that column should come first after the country). And display the top 10 countries by average Energy type, along with the averages for solar and wind.\n"
   ]
  },
  {
   "cell_type": "code",
   "execution_count": 14,
   "metadata": {},
   "outputs": [
    {
     "name": "stdout",
     "output_type": "stream",
     "text": [
      "United States 4514.35 45975.35 765234.19\n",
      "France 1133.50 5171.45 420868.55\n",
      "Japan 4042.46 1684.00 231300.23\n",
      "Russian Federation 247.50 122.00 188113.50\n",
      "Germany 7297.28 24077.16 146058.00\n",
      "China 19843.00 161013.67 138313.33\n",
      "Korea, Republic of 515.57 351.61 120824.39\n",
      "Canada 357.08 4917.46 89651.71\n",
      "Ukraine 319.43 605.57 87101.71\n",
      "United Kingdom 901.76 10732.82 74984.06\n"
     ]
    }
   ],
   "source": [
    "cursor = conn.cursor()\n",
    "myquery = '''\n",
    "SELECT solar.country, avg(solar.usage), avg(wind.usage), avg(nuclear.usage)\n",
    "FROM solar JOIN wind ON solar.country = wind.country AND solar.year = wind.year\n",
    "JOIN nuclear ON solar.country = nuclear.country AND solar.year = nuclear.year\n",
    "GROUP BY solar.country\n",
    "ORDER BY avg(nuclear.usage) DESC\n",
    "LIMIT 10;\n",
    "'''\n",
    "cursor.execute(myquery)\n",
    "for row in cursor:\n",
    "    print(row[0],\"%.2f\" % row[1],\"%.2f\" % row[2],\"%.2f\" % row[3])"
   ]
  },
  {
   "cell_type": "markdown",
   "metadata": {},
   "source": [
    "Great work! You're done."
   ]
  }
 ],
 "metadata": {
  "kernelspec": {
   "display_name": "Python 3",
   "language": "python",
   "name": "python3"
  },
  "language_info": {
   "codemirror_mode": {
    "name": "ipython",
    "version": 3
   },
   "file_extension": ".py",
   "mimetype": "text/x-python",
   "name": "python",
   "nbconvert_exporter": "python",
   "pygments_lexer": "ipython3",
   "version": "3.6.5"
  }
 },
 "nbformat": 4,
 "nbformat_minor": 1
}
