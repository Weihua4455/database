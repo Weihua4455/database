{
 "cells": [
  {
   "cell_type": "code",
   "execution_count": 182,
   "metadata": {},
   "outputs": [],
   "source": [
    "import pandas as pd\n",
    "pd.set_option('display.max_colwidth', 500)\n",
    "pd.set_option('display.max_rows', 500)\n",
    "\n",
    "import re"
   ]
  },
  {
   "cell_type": "code",
   "execution_count": 183,
   "metadata": {},
   "outputs": [],
   "source": [
    "import datetime"
   ]
  },
  {
   "cell_type": "code",
   "execution_count": 184,
   "metadata": {},
   "outputs": [],
   "source": [
    "import numpy as np"
   ]
  },
  {
   "cell_type": "code",
   "execution_count": 185,
   "metadata": {},
   "outputs": [],
   "source": [
    "df = pd.read_csv(\"pl_resume_dirty.csv\")"
   ]
  },
  {
   "cell_type": "code",
   "execution_count": 186,
   "metadata": {},
   "outputs": [],
   "source": [
    "#df.head()\n",
    "#df.shape\n",
    "# df.dtypes"
   ]
  },
  {
   "cell_type": "markdown",
   "metadata": {},
   "source": [
    "### Clean name and get a rid of duplicates"
   ]
  },
  {
   "cell_type": "code",
   "execution_count": 187,
   "metadata": {},
   "outputs": [],
   "source": [
    "df[\"name\"] = df[\"name\"].str.strip()\n",
    "df[\"name\"] = df[\"name\"].str.replace(\"同志简历\" , \"\")\n",
    "df[\"name\"] = df[\"name\"].str.replace(\"简历\" , \"\")"
   ]
  },
  {
   "cell_type": "code",
   "execution_count": 188,
   "metadata": {},
   "outputs": [
    {
     "data": {
      "text/plain": [
       "(80, 4)"
      ]
     },
     "execution_count": 188,
     "metadata": {},
     "output_type": "execute_result"
    }
   ],
   "source": [
    "df[(df.name == \"王东明\") | (df.name == \"王晨\")].shape"
   ]
  },
  {
   "cell_type": "code",
   "execution_count": 189,
   "metadata": {},
   "outputs": [
    {
     "data": {
      "text/plain": [
       "Int64Index([ 703,  704,  705,  706,  707,  708,  709,  710,  711,  712,  713,\n",
       "             714,  715,  716,  717,  718,  719,  720,  721,  722,  723, 1435,\n",
       "            1436, 1437, 1438, 1439, 1440, 1441, 1442, 1443, 1444, 1445, 1446,\n",
       "            1447, 1448, 1449, 1450, 1451, 1452, 1453],\n",
       "           dtype='int64')"
      ]
     },
     "execution_count": 189,
     "metadata": {},
     "output_type": "execute_result"
    }
   ],
   "source": [
    "df[df.name == \"王东明\"].index"
   ]
  },
  {
   "cell_type": "code",
   "execution_count": 190,
   "metadata": {},
   "outputs": [],
   "source": [
    "df = df.drop([1435,1436, 1437, 1438, 1439, 1440, 1441, 1442, 1443, 1444, 1445, 1446, 1447, 1448, 1449, 1450, 1451, 1452, 1453])"
   ]
  },
  {
   "cell_type": "code",
   "execution_count": 191,
   "metadata": {},
   "outputs": [
    {
     "data": {
      "text/plain": [
       "Int64Index([171, 172, 173, 174, 175, 176, 177, 178, 179, 180, 181, 182, 183,\n",
       "            184, 185, 186, 187, 188, 189, 190, 565, 566, 567, 568, 569, 570,\n",
       "            571, 572, 573, 574, 575, 576, 577, 578, 579, 580, 581, 582, 583,\n",
       "            584],\n",
       "           dtype='int64')"
      ]
     },
     "execution_count": 191,
     "metadata": {},
     "output_type": "execute_result"
    }
   ],
   "source": [
    "df[df.name == \"王晨\"].index"
   ]
  },
  {
   "cell_type": "code",
   "execution_count": 192,
   "metadata": {},
   "outputs": [],
   "source": [
    "df = df.drop([565, 566, 567, 568, 569, 570, 571, 572, 573, 574, 575, 576, 577, 578, 579, 580, 581, 582, 583, 584])"
   ]
  },
  {
   "cell_type": "code",
   "execution_count": 193,
   "metadata": {},
   "outputs": [
    {
     "data": {
      "text/plain": [
       "(1415, 4)"
      ]
     },
     "execution_count": 193,
     "metadata": {},
     "output_type": "execute_result"
    }
   ],
   "source": [
    "df.shape"
   ]
  },
  {
   "cell_type": "code",
   "execution_count": 194,
   "metadata": {},
   "outputs": [
    {
     "data": {
      "text/plain": [
       "(41, 4)"
      ]
     },
     "execution_count": 194,
     "metadata": {},
     "output_type": "execute_result"
    }
   ],
   "source": [
    "df[(df.name == \"王东明\") | (df.name == \"王晨\")].shape"
   ]
  },
  {
   "cell_type": "markdown",
   "metadata": {},
   "source": [
    "### Take a look at columns that doesn't have data for year"
   ]
  },
  {
   "cell_type": "code",
   "execution_count": 195,
   "metadata": {
    "scrolled": false
   },
   "outputs": [],
   "source": [
    "#df[df.year.isnull()]"
   ]
  },
  {
   "cell_type": "code",
   "execution_count": 196,
   "metadata": {},
   "outputs": [],
   "source": [
    "#df[df.year.isnull()].shape"
   ]
  },
  {
   "cell_type": "markdown",
   "metadata": {},
   "source": [
    "### Among these 81 rows that doesn't have info for year, some of them are random data that got in there, I don't want those\n",
    "\n",
    "### others are their current positition ---> that's what I want"
   ]
  },
  {
   "cell_type": "code",
   "execution_count": 197,
   "metadata": {},
   "outputs": [],
   "source": [
    "df[\"year\"] = df[\"year\"].fillna(0)"
   ]
  },
  {
   "cell_type": "code",
   "execution_count": 198,
   "metadata": {},
   "outputs": [],
   "source": [
    "def get_year_from_content(row):\n",
    "    if row[\"year\"] == 0:\n",
    "        yr = re.findall(\"([2019]{2}\\d\\d)[—－―]\", row[\"content\"])\n",
    "        yr = \"\".join(yr)\n",
    "    else:\n",
    "        yr = row[\"year\"]\n",
    "    return yr"
   ]
  },
  {
   "cell_type": "code",
   "execution_count": 199,
   "metadata": {},
   "outputs": [],
   "source": [
    "df[\"year\"] = df.apply(get_year_from_content, axis=1)"
   ]
  },
  {
   "cell_type": "code",
   "execution_count": 200,
   "metadata": {},
   "outputs": [],
   "source": [
    "df[\"year\"] = df[\"year\"].str.strip()"
   ]
  },
  {
   "cell_type": "code",
   "execution_count": 201,
   "metadata": {},
   "outputs": [],
   "source": [
    "df[\"year\"] = df[\"year\"].str.replace(\"（\", \"\")"
   ]
  },
  {
   "cell_type": "code",
   "execution_count": 202,
   "metadata": {},
   "outputs": [],
   "source": [
    "#df[df.year == \"\"].index"
   ]
  },
  {
   "cell_type": "code",
   "execution_count": 203,
   "metadata": {},
   "outputs": [],
   "source": [
    "df = df.drop([245, 830, 831, 856, 960, 961, 1394, 1413, 1414, 1434, 1433])"
   ]
  },
  {
   "cell_type": "code",
   "execution_count": 204,
   "metadata": {},
   "outputs": [],
   "source": [
    "# df[df.year == \"\"]"
   ]
  },
  {
   "cell_type": "markdown",
   "metadata": {},
   "source": [
    "### Now looking at the year column, I notice that almost all of them are continious\n",
    "\n",
    "### So I'm going to make a very irresponsible assumption --- perhaps ALL of them are contious, meaning I can drop the year after \"-\" and assume whoever that person is held the same position until year in the next row\n",
    "\n",
    "### But just to be safe, I will save this into a new column, incase I want to revisit the raw data later"
   ]
  },
  {
   "cell_type": "code",
   "execution_count": 205,
   "metadata": {},
   "outputs": [],
   "source": [
    "#df.shape"
   ]
  },
  {
   "cell_type": "code",
   "execution_count": 206,
   "metadata": {},
   "outputs": [],
   "source": [
    "df[\"year_clean\"] = df[\"year\"].str.extract(r\"(^[2019]{2}\\d\\d)\").astype(int)"
   ]
  },
  {
   "cell_type": "markdown",
   "metadata": {},
   "source": [
    "### Now onto the content part\n",
    "\n",
    "#### There are lots information here, but for the sake of this project, I will focus on **location**\n",
    "#### Here are a few ways to determine the location:\n",
    "#### 1. If the string has “省 ” (province), “特别行政区”(Special administrative region like Hong Kong), “自治区”(autonomous region like Tibet and Uighur) or “市” (city) in it, then grab 3 characters that comes before it\n",
    "#### 2. Elif the string has “中央”(central), “最高”(highest), “国家” or “全国”(both mean national) in it, then the location is Beijing, because that's where central government and highest courts are\n",
    "#### 3. Elif the string has “校” or “学”(both mean school/university) in it, then grab what's in front of it, because that means that person was in school during those years, and we can google the location\n",
    "#### 4. Elif the string has “驻” in it, then grab everything after it because it means this person was a diplomat in another country\n",
    "#### 5. Elif the string has “军”(army) in it, it means that person was in PLA.\n",
    "#### 6. Elif the string has \"国务院\"(state council) in it, it's most def in Beijing\n",
    "#### 7. Otherwise just grab the first 5 characters"
   ]
  },
  {
   "cell_type": "code",
   "execution_count": 207,
   "metadata": {},
   "outputs": [],
   "source": [
    "df[\"content\"] = df[\"content\"].str.strip()\n",
    "df[\"content\"] = df[\"content\"].str.replace(\"（\", \"\")\n",
    "df[\"content\"] = df[\"content\"].str.replace(\"）\", \"\")\n",
    "df[\"content\"] = df[\"content\"].str.replace(\"；\", \" \")\n",
    "df[\"content\"] = df[\"content\"].str.replace(\"：\", \"\")\n",
    "df[\"content\"] = df[\"content\"].str.replace(\"—\", \"\")\n",
    "df[\"content\"] = df[\"content\"].str.replace(\".\", \"\")\n",
    "df[\"content\"] = df[\"content\"].str.replace(\"-\", \"\")\n",
    "df[\"content\"] = df[\"content\"].str.replace(r\"[0-9]{0,}\", \"\")"
   ]
  },
  {
   "cell_type": "code",
   "execution_count": 229,
   "metadata": {},
   "outputs": [],
   "source": [
    "def get_location(row):\n",
    "    resume = row[\"content\"].split(\"、\")\n",
    "\n",
    "    if \"北京\" in resume[0]:\n",
    "        location = \"北京\"\n",
    "    elif \"上海\" in resume[0]:\n",
    "        location = \"上海\"\n",
    "    elif \"天津\" in resume[0]:\n",
    "        location = \"天津\"\n",
    "    elif \"重庆\" in resume[0]:\n",
    "        location = \"重庆\"\n",
    "    elif \"河北\" in resume[0]:\n",
    "        location = \"河北\"\n",
    "    elif \"河南\" in resume[0]:\n",
    "        location = \"河南\"\n",
    "    elif \"湖北\" in resume[0]:\n",
    "        location = \"湖北\"        \n",
    "    elif \"湖南\" in resume[0]:\n",
    "        location = \"湖南\"\n",
    "    elif \"江苏\" in resume[0]:\n",
    "        location = \"江苏\"    \n",
    "    elif \"江西\" in resume[0]:\n",
    "        location = \"江西\"\n",
    "    elif \"辽宁\" in resume[0]:\n",
    "        location = \"辽宁\"\n",
    "    elif \"吉林\" in resume[0]:\n",
    "        location = \"吉林\"\n",
    "    elif \"黑龙江\" in resume[0]:\n",
    "        location = \"黑龙江\"\n",
    "    elif \"陕西\" in resume[0]:\n",
    "        location = \"陕西\"\n",
    "    elif \"黑龙江\" in resume[0]:\n",
    "        location = \"黑龙江\"\n",
    "    elif \"山东\" in resume[0]:\n",
    "        location = \"山东\"\n",
    "    elif \"山西\" in resume[0]:\n",
    "        location = \"山西\"\n",
    "    elif \"四川\" in resume[0]:\n",
    "        location = \"四川\"\n",
    "    elif \"青海\" in resume[0]:\n",
    "        location = \"青海\"\n",
    "    elif \"安徽\" in resume[0]:\n",
    "        location = \"安徽\"\n",
    "    elif \"海南\" in resume[0]:\n",
    "        location = \"海南\"\n",
    "    elif \"广东\" in resume[0]:\n",
    "        location = \"广东\"\n",
    "    elif \"贵州\" in resume[0]:\n",
    "        location = \"贵州\"\n",
    "    elif \"广东\" in resume[0]:\n",
    "        location = \"广东\"\n",
    "    elif \"浙江\" in resume[0]:\n",
    "        location = \"浙江\"\n",
    "    elif \"福建\" in resume[0]:\n",
    "        location = \"福建\"\n",
    "    elif \"台湾\" in resume[0]:\n",
    "        location = \"台湾\"\n",
    "    elif \"甘肃\" in resume[0]:\n",
    "        location = \"甘肃\"\n",
    "    elif \"云南\" in resume[0]:\n",
    "        location = \"云南\"\n",
    "    elif \"内蒙古\" in resume[0]:\n",
    "        location = \"内蒙古\"\n",
    "    elif \"宁夏\" in resume[0]:\n",
    "        location = \"宁夏\"\n",
    "    elif \"新疆维吾尔\" in resume[0]:\n",
    "        location = \"新疆维吾尔\"\n",
    "    elif \"西藏\" in resume[0]:\n",
    "        location = \"西藏\"\n",
    "    elif \"广西\" in resume[0]:\n",
    "        location = \"广西\"\n",
    "    elif \"香港\" in resume[0] or \"港\" in resume[0]:\n",
    "        location = \"香港\"\n",
    "    elif \"澳门\" in resume[0]:\n",
    "        location = \"澳门\"\n",
    "    elif \"美国\" in resume[0]:\n",
    "        location = \"美国\"\n",
    "    elif \"英国\" in resume[0]:\n",
    "        location = \"英国\"\n",
    "    elif \"加拿大\" in resume[0]:\n",
    "        location = \"加拿大\"\n",
    "    elif \"苏州\" in resume[0]:\n",
    "        location = \"江苏\"\n",
    "    \n",
    "    else:\n",
    "        if \"市\" in resume[0]:\n",
    "            loc_list = re.findall(\"([^、，\\d在]{2}市)\", resume[0])\n",
    "            location = \"\".join(loc_list)\n",
    "        elif \"县\" in resume[0]:\n",
    "            loc_list = re.findall(\"([^、，\\d在]{1,}县)\", resume[0])\n",
    "            location = \"\".join(loc_list)\n",
    "        elif \"中央\" in resume[0]:\n",
    "            location = \"北京\"\n",
    "        elif \"军\" in resume[0]:\n",
    "            loc_list = re.findall(\"([陆海空放]{1}军)\", row[\"content\"])\n",
    "            location = \"\".join(loc_list)\n",
    "        elif \"大学\" in resume[0] or \"学校\" in resume[0] or \"学院\" in resume[0]:\n",
    "            loc_list = re.findall(\"([^、，\\d系在年获]{3,8}[学校院])\", resume[0])\n",
    "            location = \"\".join(loc_list)\n",
    "        elif \"驻\" in resume[0] and \"使\" in resume[0]:\n",
    "            loc_list = re.findall(\"驻(.*)使\", resume[0])\n",
    "            location = \"\".join(loc_list)\n",
    "        elif \"国务院\" in resume[0]:\n",
    "            location = \"北京\"\n",
    "        elif \"中央党校\" in resume[0]:\n",
    "            location = \"北京\"\n",
    "        elif \"最高\" in resume[0]:\n",
    "            location = \"北京\"\n",
    "        elif \"部\" in resume[0] or \"中国\" in resume[0] or \"全国\" in resume[0] or \"国家\" in resume[0]:\n",
    "            location = \"北京\"\n",
    "        else:\n",
    "            loc_list = re.findall(\"([^，\\-.。]{3})\", resume[0])\n",
    "            location = \"\".join(loc_list)\n",
    "    return location"
   ]
  },
  {
   "cell_type": "code",
   "execution_count": 209,
   "metadata": {},
   "outputs": [],
   "source": [
    "df[\"location\"] = df.apply(get_location, axis=1)"
   ]
  },
  {
   "cell_type": "code",
   "execution_count": null,
   "metadata": {},
   "outputs": [],
   "source": []
  },
  {
   "cell_type": "code",
   "execution_count": 210,
   "metadata": {},
   "outputs": [],
   "source": [
    "df.at[384, \"location\"] = \"辽宁\"\n",
    "df.at[395, \"location\"] = \"北京\""
   ]
  },
  {
   "cell_type": "code",
   "execution_count": 211,
   "metadata": {},
   "outputs": [],
   "source": [
    "df.location = df.location.str.replace(\"清华大学\",\"北京\")\n",
    "df.location = df.location.str.replace(\"复旦大学\",\"上海\")\n",
    "df.location = df.location.str.replace(\"武汉大学\",\"湖北\")\n",
    "df.location = df.location.str.replace(\"中国人民大学\",\"北京\")\n",
    "df.location = df.location.str.replace(\"放军\",\"解放军\")\n",
    "df.location = df.location.str.replace(\"中国科学院\",\"北京\")\n",
    "df.location = df.location.str.replace(\"华东政法学院\",\"上海\")\n",
    "df.location = df.location.str.replace(\"国务委员\",\"北京\")\n",
    "df.location = df.location.str.replace(\"人民日报社社\",\"北京\")\n",
    "df.location = df.location.str.replace(\"同济大学\",\"上海\")\n",
    "df.location = df.location.str.replace(\"中国社会科学院\",\"北京\")\n",
    "df.location = df.location.str.replace(\"武汉大学\",\"湖北\")\n",
    "df.location = df.location.str.replace(\"东北重型机械学院压工艺及设备专业学\",\"河北\")\n",
    "df.location = df.location.str.replace(\"放军陆军\",\"解放军\")\n",
    "df.location = df.location.str.replace(\"陆军\",\"解放军\")\n",
    "df.location = df.location.str.replace(\"空军\",\"解放军\")\n",
    "df.location = df.location.str.replace(\"海军\",\"解放军\")\n",
    "df.location = df.location.str.replace(\"国防大学\",\"北京\")\n",
    "df.location = df.location.str.replace(\"清华大学基本有机合成专业学\",\"北京\")\n",
    "df.location = df.location.str.replace(\"南昌大学人文学院\",\"江西\")\n",
    "df.location = df.location.str.replace(\"国务委\",\"北京\")\n",
    "df.location = df.location.str.replace(\"绍兴师范专科学校\",\"浙江\")\n",
    "df.location = df.location.str.replace(\"－　北京\",\"北京\")\n",
    "df.location = df.location.str.replace(\"北京基本有机合成专业学\",\"北京\")\n",
    "df.location = df.location.str.replace(\"东北林业大学\",\"黑龙江\")\n",
    "df.location = df.location.str.replace(\"中国农业大学\",\"北京\")\n",
    "df.location = df.location.str.replace(\"解解放军\",\"解放军\")\n",
    "df.location = df.location.str.replace(\"北京地质研究所古生物学及地层学\",\"北京\")\n",
    "df.location = df.location.str.replace(\"福州大学\",\"福建\")\n",
    "df.location = df.location.str.replace(\"人民日报社总\",\"北京\")\n",
    "df.location = df.location.str.replace(\"人民日报社编辑委员会委员\",\"北京\")\n",
    "df.location = df.location.str.replace(\"首都师范大学\",\"北京\")\n",
    "df.location = df.location.str.replace(\"湖北法学院\",\"湖北\")\n",
    "df.location = df.location.str.replace(\"哈尔滨工业大学\",\"黑龙江\")\n",
    "df.location = df.location.str.replace(\"兼任中国医学科学院\",\"北京\")\n",
    "df.location = df.location.str.replace(\"郑州大学\",\"河南\")\n",
    "df.location = df.location.str.replace(\"第二炮兵五十四基地参谋长\",\"解放军\")\n",
    "df.location = df.location.str.replace(\"佳木斯医学院\",\"黑龙江\")"
   ]
  },
  {
   "cell_type": "code",
   "execution_count": 212,
   "metadata": {},
   "outputs": [],
   "source": [
    "df.location = df.location.str.replace(\"色拉寺\",\"西藏\")\n",
    "df.location = df.location.str.replace(\"德国海德堡马普研究所访问\",\"德国\")\n",
    "df.location = df.location.str.replace(\"第二炮兵五十四基地八一三旅副参\",\"解放军\")\n",
    "df.location = df.location.str.replace(\"齐鲁石化公司团委副\",\"山东\")\n",
    "df.location = df.location.str.replace(\"西北大学历史专业学\",\"陕西\")\n",
    "df.location = df.location.str.replace(\"北京编室编\",\"北京\")\n",
    "df.location = df.location.str.replace(\"湖北法学博士学\",\"湖北\")\n",
    "df.location = df.location.str.replace(\"克劳斯塔尔工业大学\",\"德国\")\n",
    "df.location = df.location.str.replace(\"北京人文社会学职研究生班学法学博士学\",\"北京\")\n",
    "df.location = df.location.str.replace(\"南开大学汉语言文学专业学\",\"天津\")\n",
    "df.location = df.location.str.replace(\"哈尔滨建筑工程学院业与民用建筑专业学\",\"黑龙江\")\n",
    "df.location = df.location.str.replace(\"湖北经济学专业学\",\"湖北\")\n",
    "df.location = df.location.str.replace(\"北京生物学\",\"北京\")\n",
    "df.location = df.location.str.replace(\"第二炮兵五十四基地八一三团通信连战士\",\"解放军\")\n",
    "df.location = df.location.str.replace(\"北京一分校国民经济计划专业学\",\"北京\")\n",
    "df.location = df.location.str.replace(\"第二炮兵五十四基地八一三团发射一营一连排长其间－\",\"解放军\")\n",
    "df.location = df.location.str.replace(\"第二炮兵五十四基地八一三旅旅长其间－\",\"解放军\")\n",
    "df.location = df.location.str.replace(\"汽车工业高等专科学\",\"吉林\")\n",
    "df.location = df.location.str.replace(\"北京副校\",\"北京\")\n",
    "df.location = df.location.str.replace(\"台湾\",\"台湾\")\n",
    "df.location = df.location.str.replace(\"第二炮兵五十三基地司令员\",\"解放军\")\n",
    "df.location = df.location.str.replace(\"解放军解放军\",\"解放军\")\n",
    "df.location = df.location.str.replace(\"南昌大学副校\",\"江西\")\n",
    "df.location = df.location.str.replace(\"华东工程学院自动武器设计专业学\",\"黑龙江\")\n",
    "df.location = df.location.str.replace(\"南昌大学\",\"江西\")\n",
    "df.location = df.location.str.replace(\"上海校\",\"上海\")\n",
    "df.location = df.location.str.replace(\"西南政法学院研究生院\",\"重庆\")\n",
    "df.location = df.location.str.replace(\"上海经济学政治经济学研究生课程进修班学经济学硕士学\",\"上海\")\n",
    "df.location = df.location.str.replace(\"上海法学院院\",\"上海\")\n",
    "df.location = df.location.str.replace(\"青岛化工学院\",\"山东\")\n",
    "df.location = df.location.str.replace(\"银行市\",\"北京\")\n",
    "df.location = df.location.str.replace(\"厦门大学职研究生学经济学博士学\",\"福建\")\n",
    "df.location = df.location.str.replace(\"齐鲁石化公司党委副\",\"山东\")\n",
    "df.location = df.location.str.replace(\"北京化学与化学催化动力学\",\"北京\")\n",
    "df.location = df.location.str.replace(\"冬奥会和冬残奥会组织委员会主席\",\"北京\")\n",
    "df.location = df.location.str.replace(\"北京研究生院\",\"北京\")\n",
    "df.location = df.location.str.replace(\"航天总公司二三〇厂常务副\",\"北京\")\n",
    "df.location = df.location.str.replace(\"上海法律专业学\",\"上海\")\n",
    "df.location = df.location.str.replace(\"日本\",\"日本\")\n",
    "df.location = df.location.str.replace(\"－ 北京\",\"北京\")\n",
    "df.location = df.location.str.replace(\"厦门大学财政金融专业学\",\"福建\")\n",
    "df.location = df.location.str.replace(\"南京大学历史学职研究生学历史学博士学\",\"江苏\")\n",
    "df.location = df.location.str.replace(\"上海光测力学\",\"上海\")\n",
    "df.location = df.location.str.replace(\"上海上海校\",\"上海\")\n",
    "df.location = df.location.str.replace(\"－ 中华人民共和国副主席\",\"北京\")\n",
    "df.location = df.location.str.replace(\"华东师范大学夜大学政教专业学\",\"上海\")\n",
    "df.location = df.location.str.replace(\"华东师范大学职研究生学经济学硕士学\",\"上海\")\n",
    "df.location = df.location.str.replace(\"第二炮兵参谋\",\"解放军\")\n",
    "df.location = df.location.str.replace(\"第二炮兵五十四基地八一三旅参谋\",\"解放军\")\n",
    "df.location = df.location.str.replace(\"海南\",\"海南\")\n",
    "df.location = df.location.str.replace(\"北京公共管理学院公共管理专业学管理学博士学\",\"北京\")\n",
    "df.location = df.location.str.replace(\"谋长其间－北京战略指挥培训班学\",\"解放军\")\n",
    "df.location = df.location.str.replace(\"第二炮兵司令\",\"解放军\")\n",
    "df.location = df.location.str.replace(\"西北师范学院汉语言文学专业学\",\"甘肃\")\n",
    "df.location = df.location.str.replace(\"人民日报社副总编辑\",\"北京\")\n",
    "df.location = df.location.str.replace(\"德国海德堡大学理论医学\",\"德国\")\n",
    "df.location = df.location.str.replace(\"南开大学\",\"天津\")\n",
    "df.location = df.location.str.replace(\"武汉理工大学管理学院管理科学职研究生学管理学博士学\",\"湖北\")\n",
    "df.location = df.location.str.replace(\"厦门大学\",\"福建\")\n",
    "df.location = df.location.str.replace(\"中山大学经济学政治经济学\",\"广东\")\n",
    "df.location = df.location.str.replace(\"航天总公司二三〇厂副厂长\",\"北京\")\n",
    "df.location = df.location.str.replace(\"日本大\",\"日本\")\n",
    "df.location = df.location.str.replace(\"法国巴黎第七大学圣·路易医院中心实验室外籍住院\",\"法国\")\n",
    "df.location = df.location.str.replace(\"第二炮兵五十四基地副参谋\",\"解放军\")\n",
    "df.location = df.location.str.replace(\"航天总公司人事劳动教育局负责人主持工\",\"北京\")\n",
    "df.location = df.location.str.replace(\"上海建筑学专业学\",\"上海\")\n",
    "df.location = df.location.str.replace(\"北京植物生理学与生物化学\",\"北京\")\n",
    "df.location = df.location.str.replace(\"光明日报社总编室主\",\"北京\")\n",
    "df.location = df.location.str.replace(\"昌都解放委员会第一副主任\",\"解放军\")\n",
    "df.location = df.location.str.replace(\"航天总公司二三〇厂\",\"北京\")\n",
    "df.location = df.location.str.replace(\"光明日报社总\",\"北京\")\n",
    "df.location = df.location.str.replace(\"东北师范大学\",\"吉林\")\n",
    "df.location = df.location.str.replace(\"华东化工学院化工热力学\",\"上海\")\n",
    "df.location = df.location.str.replace(\"西北轻工学院硅酸盐专业学\",\"陕西\")\n",
    "df.location = df.location.str.replace(\"北京研究生院职研究生课程班学\",\"北京\")\n",
    "df.location = df.location.str.replace(\"上海院\",\"上海\")\n",
    "df.location = df.location.str.replace(\"西南政法学院\",\"重庆\")\n",
    "df.location = df.location.str.replace(\"北京研究所第四纪地质学\",\"北京\")\n",
    "df.location = df.location.str.replace(\"北京财政金融专业学\",\"北京\")\n",
    "df.location = df.location.str.replace(\"河南政治经济学专业学\",\"河南\")\n",
    "df.location = df.location.str.replace(\"南昌大学历史学\",\"江西\")\n",
    "df.location = df.location.str.replace(\"北京二分校工业经济管理专业学\",\"北京\")\n",
    "df.location = df.location.str.replace(\"上海理论研究所实验力学\",\"上海\")\n",
    "df.location = df.location.str.replace(\"华东化工学院化学工程专业学\",\"上海\")\n",
    "df.location = df.location.str.replace(\"中国医学科学院础所微生物及免疫学\",\"北京\")\n",
    "df.location = df.location.str.replace(\"武汉汽车工业大学工商管理学院经济学经济学硕士学\",\"湖北\")\n",
    "df.location = df.location.str.replace(\"北京植物生理学与生物化学国家自然科学基金委生命科学\",\"北京\")\n",
    "df.location = df.location.str.replace(\"云南\",\"云南\")\n",
    "df.location = df.location.str.replace(\"上海管理学院职研究生学理学硕士学\",\"上海\")\n",
    "df.location = df.location.str.replace(\"东北师范大学经济学专业学\",\"吉林\")\n",
    "df.location = df.location.str.replace(\"上海上海\",\"上海\")\n",
    "df.location = df.location.str.replace(\"吉林经济学专业学\",\"吉林\")\n",
    "df.location = df.location.str.replace(\"江西历史学\",\"江西\")\n",
    "df.location = df.location.str.replace(\"北京职研究生课程班学\",\"北京\")\n",
    "df.location = df.location.str.replace(\"北京国家自然科学基金委生命科学\",\"北京\")\n"
   ]
  },
  {
   "cell_type": "code",
   "execution_count": 228,
   "metadata": {},
   "outputs": [
    {
     "data": {
      "text/plain": [
       "北京       544\n",
       "上海        91\n",
       "浙江        86\n",
       "福建        63\n",
       "解放军       50\n",
       "西藏        49\n",
       "山东        46\n",
       "辽宁        45\n",
       "吉林        39\n",
       "河南        29\n",
       "河北        26\n",
       "安徽        26\n",
       "湖北        23\n",
       "青海        23\n",
       "黑龙江       21\n",
       "天津        21\n",
       "广西        20\n",
       "香港        18\n",
       "新疆维吾尔     18\n",
       "陕西        17\n",
       "江西        16\n",
       "甘肃        16\n",
       "内蒙古       16\n",
       "宁夏        15\n",
       "广东        15\n",
       "贵州        11\n",
       "美国        10\n",
       "澳门         8\n",
       "湖南         8\n",
       "重庆         7\n",
       "四川         5\n",
       "江苏         5\n",
       "山西         4\n",
       "德国         3\n",
       "加拿大        2\n",
       "英国         2\n",
       "日本         2\n",
       "海南         1\n",
       "法国         1\n",
       "台湾         1\n",
       "云南         1\n",
       "Name: location, dtype: int64"
      ]
     },
     "execution_count": 228,
     "metadata": {},
     "output_type": "execute_result"
    }
   ],
   "source": [
    "df.location.value_counts()"
   ]
  },
  {
   "cell_type": "code",
   "execution_count": 214,
   "metadata": {},
   "outputs": [],
   "source": [
    "df_test = df"
   ]
  },
  {
   "cell_type": "code",
   "execution_count": 215,
   "metadata": {},
   "outputs": [],
   "source": [
    "df_test[\"year_clean\"] = pd.to_datetime(df_test.year_clean,format='%Y')"
   ]
  },
  {
   "cell_type": "code",
   "execution_count": 216,
   "metadata": {},
   "outputs": [],
   "source": [
    "df_test.drop(columns = [\"year\"], inplace = True)"
   ]
  },
  {
   "cell_type": "code",
   "execution_count": 217,
   "metadata": {},
   "outputs": [],
   "source": [
    "df_test = df_test.groupby(\"url\").apply(lambda x : x.drop_duplicates(\"year_clean\")\n",
    "                                          .set_index('year_clean')\n",
    "                                          .resample('YS')\n",
    "                                          .ffill())"
   ]
  },
  {
   "cell_type": "code",
   "execution_count": 222,
   "metadata": {},
   "outputs": [
    {
     "data": {
      "text/html": [
       "<div>\n",
       "<style scoped>\n",
       "    .dataframe tbody tr th:only-of-type {\n",
       "        vertical-align: middle;\n",
       "    }\n",
       "\n",
       "    .dataframe tbody tr th {\n",
       "        vertical-align: top;\n",
       "    }\n",
       "\n",
       "    .dataframe thead th {\n",
       "        text-align: right;\n",
       "    }\n",
       "</style>\n",
       "<table border=\"1\" class=\"dataframe\">\n",
       "  <thead>\n",
       "    <tr style=\"text-align: right;\">\n",
       "      <th></th>\n",
       "      <th></th>\n",
       "      <th>content</th>\n",
       "      <th>name</th>\n",
       "      <th>url</th>\n",
       "      <th>location</th>\n",
       "    </tr>\n",
       "    <tr>\n",
       "      <th>url</th>\n",
       "      <th>year_clean</th>\n",
       "      <th></th>\n",
       "      <th></th>\n",
       "      <th></th>\n",
       "      <th></th>\n",
       "    </tr>\n",
       "  </thead>\n",
       "  <tbody>\n",
       "    <tr>\n",
       "      <th rowspan=\"5\" valign=\"top\">http://cpc.people.com.cn/n1/2017/1025/c414940-29608803.html</th>\n",
       "      <th>1969-01-01</th>\n",
       "      <td>陕西省延川县文安驿公社梁家河大队知青、党支部书记</td>\n",
       "      <td>习近平</td>\n",
       "      <td>http://cpc.people.com.cn/n1/2017/1025/c414940-29608803.html</td>\n",
       "      <td>陕西</td>\n",
       "    </tr>\n",
       "    <tr>\n",
       "      <th>1970-01-01</th>\n",
       "      <td>陕西省延川县文安驿公社梁家河大队知青、党支部书记</td>\n",
       "      <td>习近平</td>\n",
       "      <td>http://cpc.people.com.cn/n1/2017/1025/c414940-29608803.html</td>\n",
       "      <td>陕西</td>\n",
       "    </tr>\n",
       "    <tr>\n",
       "      <th>1971-01-01</th>\n",
       "      <td>陕西省延川县文安驿公社梁家河大队知青、党支部书记</td>\n",
       "      <td>习近平</td>\n",
       "      <td>http://cpc.people.com.cn/n1/2017/1025/c414940-29608803.html</td>\n",
       "      <td>陕西</td>\n",
       "    </tr>\n",
       "    <tr>\n",
       "      <th>1972-01-01</th>\n",
       "      <td>陕西省延川县文安驿公社梁家河大队知青、党支部书记</td>\n",
       "      <td>习近平</td>\n",
       "      <td>http://cpc.people.com.cn/n1/2017/1025/c414940-29608803.html</td>\n",
       "      <td>陕西</td>\n",
       "    </tr>\n",
       "    <tr>\n",
       "      <th>1973-01-01</th>\n",
       "      <td>陕西省延川县文安驿公社梁家河大队知青、党支部书记</td>\n",
       "      <td>习近平</td>\n",
       "      <td>http://cpc.people.com.cn/n1/2017/1025/c414940-29608803.html</td>\n",
       "      <td>陕西</td>\n",
       "    </tr>\n",
       "  </tbody>\n",
       "</table>\n",
       "</div>"
      ],
      "text/plain": [
       "                                                                                         content  \\\n",
       "url                                                         year_clean                             \n",
       "http://cpc.people.com.cn/n1/2017/1025/c414940-29608803.html 1969-01-01  陕西省延川县文安驿公社梁家河大队知青、党支部书记   \n",
       "                                                            1970-01-01  陕西省延川县文安驿公社梁家河大队知青、党支部书记   \n",
       "                                                            1971-01-01  陕西省延川县文安驿公社梁家河大队知青、党支部书记   \n",
       "                                                            1972-01-01  陕西省延川县文安驿公社梁家河大队知青、党支部书记   \n",
       "                                                            1973-01-01  陕西省延川县文安驿公社梁家河大队知青、党支部书记   \n",
       "\n",
       "                                                                       name  \\\n",
       "url                                                         year_clean        \n",
       "http://cpc.people.com.cn/n1/2017/1025/c414940-29608803.html 1969-01-01  习近平   \n",
       "                                                            1970-01-01  习近平   \n",
       "                                                            1971-01-01  习近平   \n",
       "                                                            1972-01-01  习近平   \n",
       "                                                            1973-01-01  习近平   \n",
       "\n",
       "                                                                                                                                url  \\\n",
       "url                                                         year_clean                                                                \n",
       "http://cpc.people.com.cn/n1/2017/1025/c414940-29608803.html 1969-01-01  http://cpc.people.com.cn/n1/2017/1025/c414940-29608803.html   \n",
       "                                                            1970-01-01  http://cpc.people.com.cn/n1/2017/1025/c414940-29608803.html   \n",
       "                                                            1971-01-01  http://cpc.people.com.cn/n1/2017/1025/c414940-29608803.html   \n",
       "                                                            1972-01-01  http://cpc.people.com.cn/n1/2017/1025/c414940-29608803.html   \n",
       "                                                            1973-01-01  http://cpc.people.com.cn/n1/2017/1025/c414940-29608803.html   \n",
       "\n",
       "                                                                       location  \n",
       "url                                                         year_clean           \n",
       "http://cpc.people.com.cn/n1/2017/1025/c414940-29608803.html 1969-01-01       陕西  \n",
       "                                                            1970-01-01       陕西  \n",
       "                                                            1971-01-01       陕西  \n",
       "                                                            1972-01-01       陕西  \n",
       "                                                            1973-01-01       陕西  "
      ]
     },
     "execution_count": 222,
     "metadata": {},
     "output_type": "execute_result"
    }
   ],
   "source": [
    "df_test.head()"
   ]
  },
  {
   "cell_type": "code",
   "execution_count": 226,
   "metadata": {},
   "outputs": [],
   "source": [
    "df_test = df_test.reset_index(level=[\"year_clean\"])"
   ]
  },
  {
   "cell_type": "code",
   "execution_count": 227,
   "metadata": {},
   "outputs": [],
   "source": [
    "df_test.to_csv(\"pl_resume_clean.csv\", index = False)"
   ]
  }
 ],
 "metadata": {
  "kernelspec": {
   "display_name": "Python 3",
   "language": "python",
   "name": "python3"
  },
  "language_info": {
   "codemirror_mode": {
    "name": "ipython",
    "version": 3
   },
   "file_extension": ".py",
   "mimetype": "text/x-python",
   "name": "python",
   "nbconvert_exporter": "python",
   "pygments_lexer": "ipython3",
   "version": "3.6.5"
  }
 },
 "nbformat": 4,
 "nbformat_minor": 2
}
