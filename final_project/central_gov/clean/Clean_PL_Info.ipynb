{
 "cells": [
  {
   "cell_type": "code",
   "execution_count": 1,
   "metadata": {},
   "outputs": [],
   "source": [
    "import pandas as pd\n",
    "pd.set_option('display.max_colwidth', 500)\n",
    "\n",
    "import re"
   ]
  },
  {
   "cell_type": "code",
   "execution_count": 2,
   "metadata": {},
   "outputs": [],
   "source": [
    "df = pd.read_csv(\"pl_info_dirty.csv\")"
   ]
  },
  {
   "cell_type": "code",
   "execution_count": 3,
   "metadata": {},
   "outputs": [],
   "source": [
    "# df.head()\n",
    "# df.shape\n",
    "# df.dtypes"
   ]
  },
  {
   "cell_type": "markdown",
   "metadata": {},
   "source": [
    "### Clean names"
   ]
  },
  {
   "cell_type": "code",
   "execution_count": 4,
   "metadata": {},
   "outputs": [],
   "source": [
    "#df.name"
   ]
  },
  {
   "cell_type": "code",
   "execution_count": 5,
   "metadata": {},
   "outputs": [],
   "source": [
    "df[\"name\"] = df[\"name\"].str.strip()"
   ]
  },
  {
   "cell_type": "code",
   "execution_count": 6,
   "metadata": {},
   "outputs": [],
   "source": [
    "df[\"name\"] = df[\"name\"].str.replace(\"同志简历\" , \"\")"
   ]
  },
  {
   "cell_type": "code",
   "execution_count": 7,
   "metadata": {},
   "outputs": [],
   "source": [
    "df[\"name\"] = df[\"name\"].str.replace(\"简历\" , \"\")"
   ]
  },
  {
   "cell_type": "code",
   "execution_count": 8,
   "metadata": {},
   "outputs": [
    {
     "data": {
      "text/html": [
       "<div>\n",
       "<style scoped>\n",
       "    .dataframe tbody tr th:only-of-type {\n",
       "        vertical-align: middle;\n",
       "    }\n",
       "\n",
       "    .dataframe tbody tr th {\n",
       "        vertical-align: top;\n",
       "    }\n",
       "\n",
       "    .dataframe thead th {\n",
       "        text-align: right;\n",
       "    }\n",
       "</style>\n",
       "<table border=\"1\" class=\"dataframe\">\n",
       "  <thead>\n",
       "    <tr style=\"text-align: right;\">\n",
       "      <th></th>\n",
       "      <th>additional_info</th>\n",
       "      <th>current_status</th>\n",
       "      <th>name</th>\n",
       "      <th>picture_url</th>\n",
       "      <th>publish_date</th>\n",
       "      <th>short_bio</th>\n",
       "      <th>url</th>\n",
       "      <th>gender</th>\n",
       "      <th>ethnic</th>\n",
       "      <th>dob_y</th>\n",
       "      <th>...</th>\n",
       "      <th>age</th>\n",
       "      <th>join_work_y</th>\n",
       "      <th>working_y</th>\n",
       "      <th>pob</th>\n",
       "      <th>pob_p</th>\n",
       "      <th>join_party_y</th>\n",
       "      <th>edu_dg</th>\n",
       "      <th>edu_am</th>\n",
       "      <th>edu_uni</th>\n",
       "      <th>edu_major</th>\n",
       "    </tr>\n",
       "  </thead>\n",
       "  <tbody>\n",
       "    <tr>\n",
       "      <th>26</th>\n",
       "      <td>['中共第十六届中央候补委员', '十七届、十八届、十九届中央委员第十三届全国人大常委会副委员长']</td>\n",
       "      <td>['中共十九届中央委员', '十三届全国人大常委会副委员长']</td>\n",
       "      <td>曹建明</td>\n",
       "      <td>http://paper.people.com.cn/rmrb/res/2018-03/18/03/rmrb2018031803p44_b.jpg</td>\n",
       "      <td>2018年03月18日08:31    来源：人民网－人民日报</td>\n",
       "      <td>男，汉族，1955年9月生，江苏南通人，1972年12月参加工作，1973年12月加入中国共产党，华东政法学院国际法系国际法专业毕业，研究生学历，法学硕士学位，教授。</td>\n",
       "      <td>http://cpc.people.com.cn/n1/2018/0318/c64094-29873799-2.html</td>\n",
       "      <td>男</td>\n",
       "      <td>汉族</td>\n",
       "      <td>1955</td>\n",
       "      <td>...</td>\n",
       "      <td>63</td>\n",
       "      <td>1972.0</td>\n",
       "      <td>46.0</td>\n",
       "      <td>江苏南通</td>\n",
       "      <td>江苏</td>\n",
       "      <td>1973.0</td>\n",
       "      <td>研究生</td>\n",
       "      <td>华东政法学院国际法系国际法专业</td>\n",
       "      <td>华东政法学院</td>\n",
       "      <td>国际法系国际法专业</td>\n",
       "    </tr>\n",
       "    <tr>\n",
       "      <th>34</th>\n",
       "      <td>['第十一届、十二届全国人大常委会委员、全国人大教育科学文化卫生委员会委员', '十三届全国人大常委会副委员长第十届全国政协委员']</td>\n",
       "      <td>['十三届全国人大常委会副委员长', '民盟中央主席', '中国科学院副院长', '中国科学院大学校长']</td>\n",
       "      <td>丁仲礼</td>\n",
       "      <td>http://paper.people.com.cn/rmrb/res/2018-03/18/03/rmrb2018031803p35_b.jpg</td>\n",
       "      <td>2018年03月18日08:31    来源：人民网－人民日报</td>\n",
       "      <td>男，汉族，1957年1月生，浙江嵊州人，民盟成员，1988年8月参加工作，中国科学院地质研究所古生物学及地层学专业毕业，研究生学历，理学博士学位，研究员，中国科学院院士。</td>\n",
       "      <td>http://cpc.people.com.cn/n1/2018/0318/c64094-29873799-11.html</td>\n",
       "      <td>男</td>\n",
       "      <td>汉族</td>\n",
       "      <td>1957</td>\n",
       "      <td>...</td>\n",
       "      <td>61</td>\n",
       "      <td>1988.0</td>\n",
       "      <td>30.0</td>\n",
       "      <td>浙江嵊州</td>\n",
       "      <td>浙江</td>\n",
       "      <td>NaN</td>\n",
       "      <td>研究生</td>\n",
       "      <td>中国科学院地质研究所古生物学及地层学专业</td>\n",
       "      <td>中国科学院地质研究所</td>\n",
       "      <td>古生物学及地层学专业</td>\n",
       "    </tr>\n",
       "  </tbody>\n",
       "</table>\n",
       "<p>2 rows × 21 columns</p>\n",
       "</div>"
      ],
      "text/plain": [
       "                                                       additional_info  \\\n",
       "26                  ['中共第十六届中央候补委员', '十七届、十八届、十九届中央委员第十三届全国人大常委会副委员长']   \n",
       "34  ['第十一届、十二届全国人大常委会委员、全国人大教育科学文化卫生委员会委员', '十三届全国人大常委会副委员长第十届全国政协委员']   \n",
       "\n",
       "                                           current_status name  \\\n",
       "26                        ['中共十九届中央委员', '十三届全国人大常委会副委员长']  曹建明   \n",
       "34  ['十三届全国人大常委会副委员长', '民盟中央主席', '中国科学院副院长', '中国科学院大学校长']  丁仲礼   \n",
       "\n",
       "                                                                  picture_url  \\\n",
       "26  http://paper.people.com.cn/rmrb/res/2018-03/18/03/rmrb2018031803p44_b.jpg   \n",
       "34  http://paper.people.com.cn/rmrb/res/2018-03/18/03/rmrb2018031803p35_b.jpg   \n",
       "\n",
       "                       publish_date  \\\n",
       "26  2018年03月18日08:31    来源：人民网－人民日报   \n",
       "34  2018年03月18日08:31    来源：人民网－人民日报   \n",
       "\n",
       "                                                                                short_bio  \\\n",
       "26    男，汉族，1955年9月生，江苏南通人，1972年12月参加工作，1973年12月加入中国共产党，华东政法学院国际法系国际法专业毕业，研究生学历，法学硕士学位，教授。   \n",
       "34  男，汉族，1957年1月生，浙江嵊州人，民盟成员，1988年8月参加工作，中国科学院地质研究所古生物学及地层学专业毕业，研究生学历，理学博士学位，研究员，中国科学院院士。   \n",
       "\n",
       "                                                              url gender  \\\n",
       "26   http://cpc.people.com.cn/n1/2018/0318/c64094-29873799-2.html      男   \n",
       "34  http://cpc.people.com.cn/n1/2018/0318/c64094-29873799-11.html      男   \n",
       "\n",
       "   ethnic  dob_y     ...      age  join_work_y  working_y   pob pob_p  \\\n",
       "26     汉族   1955     ...       63       1972.0       46.0  江苏南通    江苏   \n",
       "34     汉族   1957     ...       61       1988.0       30.0  浙江嵊州    浙江   \n",
       "\n",
       "   join_party_y  edu_dg                edu_am     edu_uni   edu_major  \n",
       "26       1973.0     研究生       华东政法学院国际法系国际法专业      华东政法学院   国际法系国际法专业  \n",
       "34          NaN     研究生  中国科学院地质研究所古生物学及地层学专业  中国科学院地质研究所  古生物学及地层学专业  \n",
       "\n",
       "[2 rows x 21 columns]"
      ]
     },
     "execution_count": 8,
     "metadata": {},
     "output_type": "execute_result"
    }
   ],
   "source": [
    "df[\"name\"].value_counts()\n",
    "df[(df.name == \"王东明\") | (df.name == \"王晨\")]\n",
    "df[(df.index == 26) | (df.index == 34)]"
   ]
  },
  {
   "cell_type": "code",
   "execution_count": 9,
   "metadata": {},
   "outputs": [],
   "source": [
    "df.drop(index = 26, inplace = True)\n",
    "df.drop(index = 34, inplace = True)"
   ]
  },
  {
   "cell_type": "code",
   "execution_count": 10,
   "metadata": {},
   "outputs": [
    {
     "data": {
      "text/plain": [
       "赵克志         1\n",
       "陈敏尔         1\n",
       "杨传堂         1\n",
       "蔡奇          1\n",
       "刘新成         1\n",
       "张 军         1\n",
       "栗战书         1\n",
       "魏凤和         1\n",
       "周 强         1\n",
       "何维          1\n",
       "刘奇葆         1\n",
       "杨振武         1\n",
       "尤权          1\n",
       "刘鹤          1\n",
       "苏辉          1\n",
       "郭声琨         1\n",
       "王东明         1\n",
       "王勇          1\n",
       "王晨          1\n",
       "黄坤明         1\n",
       "夏宝龙         1\n",
       "万钢          1\n",
       "张庆黎         1\n",
       "丁薛祥         1\n",
       "孙春兰         1\n",
       "郝明金         1\n",
       "巴特尔         1\n",
       "许其亮         1\n",
       "卢展工         1\n",
       "肖捷          1\n",
       "           ..\n",
       "汪永清         1\n",
       "梁振英         1\n",
       "陈全国         1\n",
       "吉炳轩         1\n",
       "李克强         1\n",
       "陈竺          1\n",
       "赵乐际         1\n",
       "马飚          1\n",
       "万鄂湘         1\n",
       "汪洋          1\n",
       "帕巴拉·格列朗杰    1\n",
       "辜胜阻         1\n",
       "董建华         1\n",
       "杨晓渡         1\n",
       "郑建邦         1\n",
       "杨洁篪         1\n",
       "艾力更·依明巴海    1\n",
       "张又侠         1\n",
       "蔡达峰         1\n",
       "王沪宁         1\n",
       "邵鸿          1\n",
       "胡春华         1\n",
       "韩正          1\n",
       "武维华         1\n",
       "陈希          1\n",
       "李鸿忠         1\n",
       "李强          1\n",
       "王毅          1\n",
       "李希          1\n",
       "王正伟         1\n",
       "Name: name, Length: 70, dtype: int64"
      ]
     },
     "execution_count": 10,
     "metadata": {},
     "output_type": "execute_result"
    }
   ],
   "source": [
    "df[\"name\"].value_counts()"
   ]
  },
  {
   "cell_type": "markdown",
   "metadata": {},
   "source": [
    "### Get gender"
   ]
  },
  {
   "cell_type": "code",
   "execution_count": 11,
   "metadata": {},
   "outputs": [
    {
     "data": {
      "text/plain": [
       "0          习近平，男，汉族，1953年6月生，陕西富平人，1969年1月参加工作，1974年1月加入中国共产党，清华大学人文社会学院马克思主义理论与思想政治教育专业毕业，在职研究生学历，法学博士学位。\n",
       "1             李克强，男，汉族，1955年7月生，安徽定远人，1974年3月参加工作，1976年5月加入中国共产党，北京大学法律系和经济学院经济学专业毕业，在职研究生学历，法学学士、经济学博士学位。\n",
       "2                    栗战书，男，汉族，1950年8月生，河北平山人，1972年12月参加工作，1975年4月加入中国共产党，河北师范大学夜大学政教系毕业，在职大学学历，高级工商管理硕士学位。\n",
       "3                                       汪洋，男，汉族，1955年3月生，安徽宿州人，1972年6月参加工作，1975年8月加入中国共产党，中央党校大学学历，工学硕士学位。\n",
       "4                   王沪宁，男，汉族，1955年10月生，山东莱州人，1977年2月参加工作，1984年4月加入中国共产党，复旦大学国际政治系国际政治专业毕业，研究生学历，法学硕士学位，教授。\n",
       "5                                            赵乐际，男，汉族，1957年3月生，陕西西安人，1974年9月参加工作，1975年7月加入中国共产党，中央党校研究生学历。\n",
       "6     韩正，男，汉族，1954年4月生，浙江慈溪人，1975年12月参加工作，1979年5月加入中国共产党，华东师范大学国际问题研究所国际关系与世界经济专业毕业，在职研究生学历，经济学硕士学位，高级经济师。\n",
       "7            丁薛祥，男，汉族，1962年9月生，江苏南通人，1982年8月参加工作，1984年10月加入中国共产党，复旦大学管理学院行政管理专业毕业，在职研究生学历，理学硕士学位，教授级高级工程师。\n",
       "8             王晨，男，汉族，1950年12月生，北京市人，1969年1月参加工作，1969年12月加入中国共产党，中国社会科学院研究生院新闻系新闻业务专业毕业，研究生学历，文学硕士学位，高级编辑。\n",
       "9        刘鹤，男，汉族，1952年1月生，河北昌黎人，1969年4月参加工作，1976年12月加入中国共产党，中国人民大学工业经济系工业经济专业毕业，研究生学历，经济学、公共管理硕士学位，研究员，教授。\n",
       "10                                       许其亮，男，汉族，1950年3月生，山东临朐人，1966年7月入伍，1967年7月加入中国共产党，空军第五航空学校毕业，大专学历。\n",
       "11                                          孙春兰，女，汉族，1950年5月生，河北饶阳人，1969年11月参加工作，1973年5月加入中国共产党，中央党校研究生学历。\n",
       "12              李希，男，汉族，1956年10月生，甘肃两当人，1975年7月参加工作，1982年1月加入中国共产党，西北师范学院中文系汉语言文学专业毕业，大学学历，高级管理人员工商管理硕士学位。\n",
       "13                             李强，男，汉族，1959年7月生，浙江瑞安人，1976年7月参加工作，1983年4月加入中国共产党，中央党校研究生学历，高级管理人员工商管理硕士学位。\n",
       "14                            李鸿忠，男，汉族，1956年8月生，山东昌乐人，1975年8月参加工作，1976年12月加入中国共产党，吉林大学历史系历史学专业毕业，大学学历，经济师。\n",
       "15                     杨洁篪，男，汉族，1950年5月生，上海市人，1968年9月参加工作，1971年12月加入中国共产党，南京大学历史学系世界史专业毕业，在职研究生学历，历史学博士学位。\n",
       "16                                           杨晓渡，男，汉族，1953年10月生，上海市人，1970年5月参加工作，1973年9月加入中国共产党，中央党校研究生学历。\n",
       "17                                       张又侠，男，汉族，1950年7月生，陕西渭南人，1968年12月入伍，1969年5月加入中国共产党，军事学院基本系毕业，大专学历。\n",
       "18             陈希，男，汉族，1953年9月生，福建莆田人，1970年12月参加工作，1978年11月加入中国共产党，清华大学化学与化学工程系催化动力学专业毕业，研究生学历，工学硕士学位，研究员。\n",
       "19             陈全国，男，汉族，1955年11月生，河南平舆人，1973年12月参加工作，1976年2月加入中国共产党，武汉理工大学管理学院管理科学与工程专业毕业，在职研究生学历，管理学博士学位。\n",
       "20                                           陈敏尔，男，汉族，1960年9月生，浙江诸暨人，1981年8月参加工作，1982年9月加入中国共产党，中央党校研究生学历。\n",
       "21                                      胡春华，男，汉族，1963年4月生，湖北五峰人，1983年8月参加工作，1983年4月加入中国共产党，北京大学中文系毕业，大学学历。\n",
       "22        郭声琨，男，汉族，1954年10月生，江西兴国人，1973年8月参加工作，1974年12月加入中国共产党，北京科技大学管理科学与工程专业毕业，在职研究生学历，管理学博士学位，教授级高级工程师。\n",
       "23               黄坤明，男，汉族，1956年11月生，福建上杭人，1974年12月参加工作，1976年10月加入中国共产党，清华大学公共管理学院公共管理专业毕业，在职研究生学历，管理学博士学位。\n",
       "24               蔡奇，男，汉族，1955年12月生，福建尤溪人，1973年3月参加工作，1975年8月加入中国共产党，福建师范大学经济法律学院政治经济学专业毕业，在职研究生学历，经济学博士学位。\n",
       "25                  尤权，男，汉族，1954年1月生，河北卢龙人，1969年9月参加工作，1973年3月加入中国共产党，中国人民大学计划经济系国民经济计划专业毕业，研究生学历，经济学硕士学位。\n",
       "27              男，汉族，1953年5月生，河南禹州人，1970年12月参加工作，1973年11月加入中国共产党，哈尔滨工业大学管理科学与工程专业毕业，在职研究生学历，管理学硕士学位，高级工程师。\n",
       "28                                               女，汉族，1957年1月生，浙江宁波人，1977年5月参加工作，1981年9月加入中国共产党，中央党校研究生学历。\n",
       "29                                     男，汉族，1951年11月生，河南孟津人，1978年10月参加工作，1980年4月加入中国共产党，郑州大学中文系毕业，大学普通班学历。\n",
       "30                            男，维吾尔族，1953年9月生，新疆英吉沙人，1971年3月参加工作，1980年6月加入中国共产党，西北轻工学院轻工二系硅酸盐专业毕业，大学普通班学历。\n",
       "                                                      ...                                                 \n",
       "42                     王毅，男，汉族，1953年10月生，北京市人，1969年9月参加工作，1981年5月加入中国共产党，北京第二外国语学院亚非语系日语专业毕业，大学学历，经济学硕士学位。\n",
       "43                 肖捷，男，汉族，1957年6月生，辽宁开原人，1976年3月参加工作，1985年8月加入中国共产党，财政部财政科学研究所财政专业毕业，在职研究生学历，经济学博士学位，经济师。\n",
       "44                                          赵克志，男，汉族，1953年12月生，山东莱西人，1973年3月参加工作，1975年1月加入中国共产党，中央党校研究生学历。\n",
       "45                      何立峰，男，汉族，1955年2月生，广东兴宁人，1973年8月参加工作，1981年6月加入中国共产党，厦门大学财政金融系财政学专业毕业，研究生学历，经济学博士学位。\n",
       "46                                           张庆黎，男，汉族，1951年1月生，山东东平人，1971年1月参加工作，1973年2月加入中国共产党，中央党校研究生学历。\n",
       "47                  刘奇葆，男，汉族，1953年1月生，安徽宿松人，1974年9月参加工作，1971年12月加入中国共产党，吉林大学国民经济计划和管理专业毕业，在职研究生学历，经济学硕士学位。\n",
       "48                                                                      帕巴拉·格列朗杰，男，藏族，1940年2月生，四川理塘人，大学学历。\n",
       "49                                                                 董建华，男，汉族，1937年5月生，浙江舟山人，英国利物浦大学毕业，大学学历。\n",
       "50                               万钢，男，汉族，1952年8月生，上海市人，致公党成员，1969年4月参加工作，德国克劳斯塔尔工业大学机械系毕业，研究生学历，工学博士学位，教授。\n",
       "51                                                        何厚铧，男，汉族，1955年3月出生于澳门，广东番禺人，加拿大约克大学工商管理系毕业，大学学历。\n",
       "52                      卢展工，男，汉族，1952年5月生，浙江慈溪人，1969年3月参加工作，1975年1月加入中国共产党，哈尔滨建筑工程学院建筑工程系工业与民用建筑专业毕业，大学学历。\n",
       "53            王正伟，男，回族，1957年6月生，宁夏同心人，1976年9月参加工作，1981年10月加入中国共产党，中央民族大学少数民族经济研究所民族经济学专业毕业，在职研究生学历，法学博士学位。\n",
       "54                         马飚，男，壮族，1954年8月生，广西田阳人，1972年10月参加工作，1985年6月加入中国共产党，中央民族学院政治系政治经济学专业毕业，大学学历，研究员。\n",
       "55                         陈晓光，男，汉族，1955年5月生，吉林梨树人，民盟成员，1973年6月参加工作，吉林工业大学农业机械工程系农业机械专业毕业，研究生学历，工学博士学位，教授。\n",
       "56                                                              梁振英，男，汉族，1954年8月生，山东威海人，英国布里斯托理工学院毕业，大学学历。\n",
       "57                  夏宝龙，男，汉族，1952年12月生，天津市人，1969年8月参加工作，1973年11月加入中国共产党，北京大学经济学院政治经济学专业毕业，在职研究生学历，经济学博士学位。\n",
       "58                                            杨传堂，男，汉族，1954年5月生，山东禹城人，1972年6月参加工作，1976年6月加入中国共产党，中央党校大学学历。\n",
       "59             李斌，女，汉族，1954年10月生，辽宁抚顺人，1974年7月参加工作，1981年6月加入中国共产党，吉林大学经济管理学院政治经济学专业毕业，在职研究生学历，经济学博士学位，研究员。\n",
       "60                                 巴特尔，男，蒙古族，1955年2月生，辽宁康平人，1973年1月参加工作，1981年12月加入中国共产党，中央党校研究生学历，经济学硕士学位。\n",
       "61                        汪永清，男，汉族，1959年9月生，江西贵溪人，1987年7月参加工作，1985年6月加入中国共产党，北京大学法律系法学理论专业毕业，研究生学历，法学博士学位。\n",
       "62                             苏辉，女，汉族，1956年5月生，台湾台南人，1975年5月参加工作，台盟成员、中共党员，中央财政金融学院财政系财政学专业毕业，大学学历，高级会计师。\n",
       "63                                       郑建邦，男，汉族，1957年1月生，湖南石门人，1976年8月参加工作，民革成员，东北师范大学政治教育系经济学专业毕业，大学学历。\n",
       "64                             辜胜阻，男，汉族，1956年1月生，湖北武汉人，1975年7月参加工作，民建成员，武汉大学经济系经济学专业毕业，在职研究生学历，经济学博士学位，教授。\n",
       "65                            刘新成，男，汉族，1952年3月生，河北固安人，1968年12月参加工作，民进成员，北京师范学院历史系世界史专业毕业，研究生学历，历史学博士学位，教授。\n",
       "66                       何维，男，汉族，1955年12月生，黑龙江哈尔滨人，1975年12月参加工作，农工党成员，德国海德堡大学理论医学系免疫学专业毕业，研究生学历，医学博士学位，教授。\n",
       "67                          邵鸿，男，汉族，1957年11月生，辽宁盖州人，1975年11月参加工作，九三学社成员，南开大学历史系中国古代史专业毕业，研究生学历，历史学博士学位，教授。\n",
       "68                             高云龙，男，汉族，1958年12月生，山东莱芜人，1985年5月参加工作，民建成员，清华大学化工系化工专业毕业，研究生学历，工学博士学位，高级工程师。\n",
       "69                           男，汉族，1960年4月生，湖北黄梅人，1976年8月参加工作，1978年9月加入中国共产党，西南政法学院研究生院民法专业毕业，研究生学历，法学硕士学位。\n",
       "70                           男，汉族，1956年10月生，山东博兴人，1973年1月参加工作，1974年5月加入中国共产党，中国人民大学法律系刑法专业毕业，研究生学历，法学博士学位。\n",
       "71                                           王东明，男，汉族，1956年7月生，辽宁宽甸人，1975年8月参加工作，1975年6月加入中国共产党，中央党校研究生学历。\n",
       "Name: short_bio, Length: 70, dtype: object"
      ]
     },
     "execution_count": 11,
     "metadata": {},
     "output_type": "execute_result"
    }
   ],
   "source": [
    "df[\"short_bio\"]"
   ]
  },
  {
   "cell_type": "code",
   "execution_count": 12,
   "metadata": {},
   "outputs": [],
   "source": [
    "df[\"short_bio\"] = df[\"short_bio\"].str.strip()"
   ]
  },
  {
   "cell_type": "code",
   "execution_count": 13,
   "metadata": {},
   "outputs": [],
   "source": [
    "df[\"gender\"] = df[\"short_bio\"].str.extract(r\"([男女])\")"
   ]
  },
  {
   "cell_type": "code",
   "execution_count": 14,
   "metadata": {},
   "outputs": [
    {
     "data": {
      "text/plain": [
       "男    66\n",
       "女     4\n",
       "Name: gender, dtype: int64"
      ]
     },
     "execution_count": 14,
     "metadata": {},
     "output_type": "execute_result"
    }
   ],
   "source": [
    "df.gender.value_counts()\n",
    "#68 men and 4 women, *big* surprise"
   ]
  },
  {
   "cell_type": "markdown",
   "metadata": {},
   "source": [
    "### Get ethnic background"
   ]
  },
  {
   "cell_type": "code",
   "execution_count": 15,
   "metadata": {},
   "outputs": [],
   "source": [
    "df[\"ethnic\"] = df[\"short_bio\"].str.extract(r\"，([^，]{1,}族)，\")"
   ]
  },
  {
   "cell_type": "code",
   "execution_count": 16,
   "metadata": {},
   "outputs": [
    {
     "data": {
      "text/plain": [
       "汉族      64\n",
       "藏族       2\n",
       "壮族       1\n",
       "蒙古族      1\n",
       "维吾尔族     1\n",
       "回族       1\n",
       "Name: ethnic, dtype: int64"
      ]
     },
     "execution_count": 16,
     "metadata": {},
     "output_type": "execute_result"
    }
   ],
   "source": [
    "df[\"ethnic\"].value_counts()\n",
    "#66 are han"
   ]
  },
  {
   "cell_type": "markdown",
   "metadata": {},
   "source": [
    "### Get date of birth\n",
    "\n",
    "#### dob_y = year of birth\n",
    "#### dob_m = month of birth\n",
    "#### age = 2018 - dob_y"
   ]
  },
  {
   "cell_type": "code",
   "execution_count": 17,
   "metadata": {},
   "outputs": [],
   "source": [
    "df[\"dob_y\"] = df[\"short_bio\"].str.extract(r\"，(\\d+)年\\d+月.*\").astype(int)"
   ]
  },
  {
   "cell_type": "code",
   "execution_count": 18,
   "metadata": {},
   "outputs": [],
   "source": [
    "df[\"dob_m\"] = df[\"short_bio\"].str.extract(r\"，\\d+年(\\d+)月.*\").astype(int)"
   ]
  },
  {
   "cell_type": "code",
   "execution_count": 19,
   "metadata": {},
   "outputs": [],
   "source": [
    "df[\"age\"] = 2018 - df[\"dob_y\"]"
   ]
  },
  {
   "cell_type": "markdown",
   "metadata": {},
   "source": [
    "### Get when they joined workforce\n",
    "\n",
    "#### join_work_y = year they joined workforce\n",
    "#### working_y = 2018 - join_work_y"
   ]
  },
  {
   "cell_type": "code",
   "execution_count": 20,
   "metadata": {},
   "outputs": [],
   "source": [
    "df[\"join_work_y\"] = df[\"short_bio\"].str.extract(r\"(\\d{4})年\\d{1,2}月参加工作，\").astype(float)"
   ]
  },
  {
   "cell_type": "code",
   "execution_count": 21,
   "metadata": {},
   "outputs": [],
   "source": [
    "df[\"working_y\"] = 2018 - df[\"join_work_y\"]"
   ]
  },
  {
   "cell_type": "markdown",
   "metadata": {},
   "source": [
    "### Get place of birth\n",
    "#### pob = place of birth\n",
    "#### pob_p = province of birth"
   ]
  },
  {
   "cell_type": "code",
   "execution_count": 22,
   "metadata": {},
   "outputs": [],
   "source": [
    "df[\"pob\"] = df[\"short_bio\"].str.extract(r\"，([^，]{3,})人，\")"
   ]
  },
  {
   "cell_type": "code",
   "execution_count": 23,
   "metadata": {},
   "outputs": [],
   "source": [
    "df[\"pob_p\"] = df[\"short_bio\"].str.extract(r\"，([^，]{2}).[^，]{0,}人，\")"
   ]
  },
  {
   "cell_type": "code",
   "execution_count": 24,
   "metadata": {},
   "outputs": [],
   "source": [
    "df[\"pob_p\"] = df[\"pob_p\"].str.replace(\"黑龙\", \"黑龙江\")"
   ]
  },
  {
   "cell_type": "markdown",
   "metadata": {},
   "source": [
    "### Get when they joined CCP\n",
    "#### join_party_y"
   ]
  },
  {
   "cell_type": "code",
   "execution_count": 25,
   "metadata": {},
   "outputs": [],
   "source": [
    "df[\"join_party_y\"] = df[\"short_bio\"].str.extract(r\"(\\d{4})年\\d{1,2}月加入中国共产党，\").astype(float)"
   ]
  },
  {
   "cell_type": "markdown",
   "metadata": {},
   "source": [
    "### Get education background\n",
    "#### edu_dg = their highest degree\n",
    "#### edu_am = alma mater + major\n",
    "#### edu_uni = alma mater\n",
    "#### edu_major = major"
   ]
  },
  {
   "cell_type": "code",
   "execution_count": 26,
   "metadata": {},
   "outputs": [],
   "source": [
    "df[\"edu_dg\"] = df[\"short_bio\"].str.extract(r\"，([^，]{1,})学历[，。]\")"
   ]
  },
  {
   "cell_type": "code",
   "execution_count": 27,
   "metadata": {},
   "outputs": [],
   "source": [
    "def get_edu_am(row):\n",
    "    if \"中央党校\" in row[\"edu_dg\"]:\n",
    "        am = \"中央党校\"\n",
    "    else:\n",
    "        am = re.findall(\"，([^，]{1,})毕业\", row[\"short_bio\"])\n",
    "        am = \"\".join(am)\n",
    "    return am"
   ]
  },
  {
   "cell_type": "code",
   "execution_count": 28,
   "metadata": {},
   "outputs": [],
   "source": [
    "df[\"edu_am\"] = df.apply(get_edu_am, axis=1)"
   ]
  },
  {
   "cell_type": "code",
   "execution_count": 29,
   "metadata": {},
   "outputs": [
    {
     "data": {
      "text/plain": [
       "count       70\n",
       "unique      57\n",
       "top       中央党校\n",
       "freq        14\n",
       "Name: edu_am, dtype: object"
      ]
     },
     "execution_count": 29,
     "metadata": {},
     "output_type": "execute_result"
    }
   ],
   "source": [
    "df[\"edu_am\"].describe()"
   ]
  },
  {
   "cell_type": "code",
   "execution_count": 30,
   "metadata": {},
   "outputs": [],
   "source": [
    "def get_edu_uni(row):\n",
    "    \n",
    "    if \"中央党校\" in row[\"edu_am\"]:\n",
    "        university = \"中央党校\"\n",
    "    elif \"大学\" in row[\"edu_am\"]:\n",
    "        university = re.findall(\"([^，]{1,}大学).*\", row[\"edu_am\"])\n",
    "        university = \"\".join(university)\n",
    "    elif \"研究所\" in row[\"edu_am\"]:\n",
    "        university = re.findall(\"([^，]{1,}研究所).*\", row[\"edu_am\"])\n",
    "        university = \"\".join(university)\n",
    "    elif \"学院\" in row[\"edu_am\"]:\n",
    "        university = re.findall(\"([^，]{1,}学院).*\", row[\"edu_am\"])\n",
    "        university = \"\".join(university)\n",
    "    elif \"学校\" in row[\"edu_am\"]:\n",
    "        university = re.findall(\"([^，]{1,}学校).*\", row[\"edu_am\"])\n",
    "        university = \"\".join(university)\n",
    "    else:\n",
    "        university = row[\"edu_am\"]\n",
    "\n",
    "    return university"
   ]
  },
  {
   "cell_type": "code",
   "execution_count": 31,
   "metadata": {},
   "outputs": [],
   "source": [
    "df[\"edu_uni\"] = df.apply(get_edu_uni, axis=1)"
   ]
  },
  {
   "cell_type": "code",
   "execution_count": 32,
   "metadata": {},
   "outputs": [],
   "source": [
    "def get_edu_dg_clean(row):\n",
    "    if \"研究生\" in row[\"edu_dg\"]:\n",
    "        dg = \"研究生\"\n",
    "    elif \"大学\" in row[\"edu_dg\"]:\n",
    "        dg = \"大学\"\n",
    "    elif \"大专\" in row[\"edu_dg\"]:\n",
    "        dg = \"大专\"\n",
    "    return dg"
   ]
  },
  {
   "cell_type": "code",
   "execution_count": 33,
   "metadata": {},
   "outputs": [],
   "source": [
    "df[\"edu_dg\"] = df.apply(get_edu_dg_clean, axis=1)"
   ]
  },
  {
   "cell_type": "code",
   "execution_count": 34,
   "metadata": {},
   "outputs": [
    {
     "data": {
      "text/plain": [
       "研究生    49\n",
       "大学     19\n",
       "大专      2\n",
       "Name: edu_dg, dtype: int64"
      ]
     },
     "execution_count": 34,
     "metadata": {},
     "output_type": "execute_result"
    }
   ],
   "source": [
    "df[\"edu_dg\"].value_counts()"
   ]
  },
  {
   "cell_type": "markdown",
   "metadata": {},
   "source": [
    "### Now onto the fun part, get current and past positions"
   ]
  },
  {
   "cell_type": "code",
   "execution_count": 35,
   "metadata": {},
   "outputs": [],
   "source": [
    "df[\"current_status\"] = df[\"current_status\"].str.strip()"
   ]
  },
  {
   "cell_type": "code",
   "execution_count": 36,
   "metadata": {},
   "outputs": [],
   "source": [
    "df[\"current_status\"] = df[\"current_status\"].str.replace(\"现任\", \"\")"
   ]
  },
  {
   "cell_type": "code",
   "execution_count": 37,
   "metadata": {},
   "outputs": [],
   "source": [
    "df[\"current_status\"] = df[\"current_status\"].str.replace(\"。\", \"\")"
   ]
  },
  {
   "cell_type": "code",
   "execution_count": 38,
   "metadata": {},
   "outputs": [],
   "source": [
    "df[\"current_status\"] = df[\"current_status\"].str.split(\"，\")"
   ]
  },
  {
   "cell_type": "code",
   "execution_count": 39,
   "metadata": {},
   "outputs": [],
   "source": [
    "df[\"additional_info\"] = df[\"additional_info\"].str.strip()\n",
    "df[\"additional_info\"] = df[\"additional_info\"].str.replace(\"。\", \"\")\n",
    "df[\"additional_info\"] = df[\"additional_info\"].str.split(\"，\")"
   ]
  },
  {
   "cell_type": "markdown",
   "metadata": {},
   "source": [
    "### I want to do more analysis with current status and additional info, but I'll leave them be for the sake of this project"
   ]
  },
  {
   "cell_type": "code",
   "execution_count": 40,
   "metadata": {},
   "outputs": [],
   "source": [
    "df.to_csv(\"pl_info_clean.csv\", index = False)"
   ]
  },
  {
   "cell_type": "code",
   "execution_count": 41,
   "metadata": {},
   "outputs": [],
   "source": [
    "#df_test = pd.read_csv(\"pl_info_clean.csv\")"
   ]
  },
  {
   "cell_type": "code",
   "execution_count": 42,
   "metadata": {},
   "outputs": [],
   "source": [
    "#df_test.head()"
   ]
  }
 ],
 "metadata": {
  "kernelspec": {
   "display_name": "Python 3",
   "language": "python",
   "name": "python3"
  },
  "language_info": {
   "codemirror_mode": {
    "name": "ipython",
    "version": 3
   },
   "file_extension": ".py",
   "mimetype": "text/x-python",
   "name": "python",
   "nbconvert_exporter": "python",
   "pygments_lexer": "ipython3",
   "version": "3.6.5"
  }
 },
 "nbformat": 4,
 "nbformat_minor": 2
}
