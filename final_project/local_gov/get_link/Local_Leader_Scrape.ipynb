{
 "cells": [
  {
   "cell_type": "markdown",
   "metadata": {},
   "source": [
    "### This is where I scrape local leaders and get their\n",
    "#### 1. Name\n",
    "#### 2. Link to resume\n",
    "#### 3. Province\n",
    "#### 4. Title"
   ]
  },
  {
   "cell_type": "code",
   "execution_count": 2,
   "metadata": {},
   "outputs": [],
   "source": [
    "from selenium import webdriver\n",
    "from selenium.webdriver.common.keys import Keys\n",
    "from selenium.webdriver.support.ui import Select\n",
    "from selenium.webdriver.support.ui import WebDriverWait"
   ]
  },
  {
   "cell_type": "code",
   "execution_count": 1,
   "metadata": {},
   "outputs": [],
   "source": [
    "import pandas as pd\n",
    "pd.set_option('display.max_colwidth', 500)\n",
    "\n",
    "import re"
   ]
  },
  {
   "cell_type": "code",
   "execution_count": 4,
   "metadata": {},
   "outputs": [],
   "source": [
    "driver = webdriver.Chrome()"
   ]
  },
  {
   "cell_type": "code",
   "execution_count": 5,
   "metadata": {},
   "outputs": [],
   "source": [
    "#first, get url of each province, save as csv\n",
    "driver.get(\"http://ldzl.people.com.cn/dfzlk/front/personProvince1.htm\")"
   ]
  },
  {
   "cell_type": "code",
   "execution_count": 6,
   "metadata": {},
   "outputs": [],
   "source": [
    "provinces = driver.find_elements_by_class_name(\"fl\")[1].find_elements_by_tag_name(\"li\")\n",
    "\n",
    "province_list = []\n",
    "for province in provinces[:-1]:\n",
    "    province_dict = {}\n",
    "    province_dict[\"link\"] = province.find_element_by_tag_name(\"a\").get_attribute(\"href\")\n",
    "    province_dict[\"province\"] = province.text\n",
    "    province_list.append(province_dict)\n",
    "    \n",
    "pd.DataFrame(province_list).to_csv(\"province.csv\", index = False)"
   ]
  },
  {
   "cell_type": "code",
   "execution_count": 7,
   "metadata": {},
   "outputs": [],
   "source": [
    "## I wrote some code to selenium to each leader's info\n",
    "## but bs will prob do a better job here\n",
    "## so, switching gears"
   ]
  },
  {
   "cell_type": "code",
   "execution_count": 2,
   "metadata": {},
   "outputs": [],
   "source": [
    "import requests\n",
    "from bs4 import BeautifulSoup"
   ]
  },
  {
   "cell_type": "code",
   "execution_count": 3,
   "metadata": {},
   "outputs": [],
   "source": [
    "raw_html = requests.get(\"http://ldzl.people.com.cn/dfzlk/front/personProvince1.htm\").content\n",
    "info = BeautifulSoup(raw_html, \"html.parser\")"
   ]
  },
  {
   "cell_type": "code",
   "execution_count": 10,
   "metadata": {},
   "outputs": [],
   "source": [
    "top_four = info.find(\"div\", attrs={\"class\":\"box01\"}).find_all(\"dd\")\n",
    "\n",
    "for pp in top_four:\n",
    "    title = pp.find(\"i\").text\n",
    "    name = pp.find(\"a\").text\n",
    "    link = \"http://ldzl.people.com.cn/dfzlk/front/\" + pp.find(\"a\")[\"href\"]"
   ]
  },
  {
   "cell_type": "code",
   "execution_count": 11,
   "metadata": {},
   "outputs": [],
   "source": [
    "party_leader = info.find_all(\"div\", attrs={\"class\":\"box02\"})[0].find_all(\"a\")\n",
    "\n",
    "for pp in party_leader:\n",
    "    name = pp.text\n",
    "    link = \"http://ldzl.people.com.cn/dfzlk/front/\" + pp[\"href\"]\n",
    "    title = pp.find_previous(\"i\", attrs={\"class\":\"red\"}).text"
   ]
  },
  {
   "cell_type": "code",
   "execution_count": 12,
   "metadata": {},
   "outputs": [],
   "source": [
    "admin_leader = info.find_all(\"div\", attrs={\"class\":\"box02\"})[1].find_all(\"a\")\n",
    "\n",
    "for pp in admin_leader:\n",
    "    name = pp.text\n",
    "    link = \"http://ldzl.people.com.cn/dfzlk/front/\" + pp[\"href\"]\n",
    "    title = pp.find_previous(\"i\", attrs={\"class\":\"red\"}).text"
   ]
  },
  {
   "cell_type": "code",
   "execution_count": 13,
   "metadata": {},
   "outputs": [],
   "source": [
    "district_leader = info.find(\"div\", attrs={\"class\":\"box03\"}).find_all(\"li\")\n",
    "\n",
    "for pp in district_leader:\n",
    "    district = pp.find_all(\"i\")[0].text\n",
    "    party_secretary = pp.find_all(\"a\")[0].text\n",
    "    party_secretary_link = \"http://ldzl.people.com.cn/dfzlk/front/\" + pp.find_all(\"a\")[0][\"href\"]\n",
    "    mayor = pp.find_all(\"a\")[1].text\n",
    "    mayor_link = \"http://ldzl.people.com.cn/dfzlk/front/\" + pp.find_all(\"a\")[1][\"href\"]"
   ]
  },
  {
   "cell_type": "code",
   "execution_count": null,
   "metadata": {},
   "outputs": [],
   "source": []
  },
  {
   "cell_type": "code",
   "execution_count": 4,
   "metadata": {},
   "outputs": [],
   "source": [
    "#combine everything together\n",
    "def get_leader_info(row):\n",
    "    url = row[\"link\"]\n",
    "    raw_html = requests.get(url).content\n",
    "    info = BeautifulSoup(raw_html, \"html.parser\")\n",
    "    \n",
    "\n",
    "    try:\n",
    "        top_four = info.find(\"div\", attrs={\"class\":\"box01\"}).find_all(\"dd\")\n",
    "\n",
    "        for pp in top_four:\n",
    "            leader_dict = {}\n",
    "\n",
    "            title = pp.find(\"i\").text\n",
    "            name = pp.find(\"a\").text\n",
    "            link = \"http://ldzl.people.com.cn/dfzlk/front/\" + pp.find(\"a\")[\"href\"]\n",
    "            leader_dict[\"group\"] = \"top four\"\n",
    "            leader_dict[\"name\"] = name\n",
    "            leader_dict[\"title\"] = title\n",
    "            leader_dict[\"link\"] = link\n",
    "            leader_dict[\"province\"] = row[\"province\"]\n",
    "            leader_list.append(leader_dict)\n",
    "    except:\n",
    "        print(row[\"province\"], \"has no top four\")\n",
    "\n",
    "    try:\n",
    "        party_leader = info.find_all(\"div\", attrs={\"class\":\"box02\"})[0].find_all(\"a\")\n",
    "\n",
    "        for pp in party_leader:\n",
    "            leader_dict = {}\n",
    "            name = pp.text\n",
    "            link = \"http://ldzl.people.com.cn/dfzlk/front/\" + pp[\"href\"]\n",
    "            title = pp.find_previous(\"i\", attrs={\"class\":\"red\"}).text\n",
    "            leader_dict[\"group\"] = \"party leader\"\n",
    "            leader_dict[\"name\"] = name\n",
    "            leader_dict[\"title\"] = title\n",
    "            leader_dict[\"link\"] = link\n",
    "            leader_dict[\"province\"] = row[\"province\"]\n",
    "            leader_list.append(leader_dict)\n",
    "\n",
    "    except:\n",
    "        print(row[\"province\"], \"has no party leader\")\n",
    "\n",
    "    try:\n",
    "        admin_leader = info.find_all(\"div\", attrs={\"class\":\"box02\"})[1].find_all(\"a\")\n",
    "\n",
    "        for pp in admin_leader:\n",
    "            leader_dict = {}\n",
    "            name = pp.text\n",
    "            link = \"http://ldzl.people.com.cn/dfzlk/front/\" + pp[\"href\"]\n",
    "            title = pp.find_previous(\"i\", attrs={\"class\":\"red\"}).text\n",
    "            leader_dict[\"group\"] = \"admin leader\"\n",
    "            leader_dict[\"name\"] = name\n",
    "            leader_dict[\"title\"] = title\n",
    "            leader_dict[\"link\"] = link\n",
    "            leader_dict[\"province\"] = row[\"province\"]\n",
    "            leader_list.append(leader_dict)\n",
    "    except:\n",
    "        print(row[\"province\"], \"has no admin leader\")\n",
    "\n",
    "    try:\n",
    "        district_leader = info.find(\"div\", attrs={\"class\":\"box03\"}).find_all(\"li\")\n",
    "\n",
    "        for pp in district_leader:\n",
    "            leader_dict = {}\n",
    "            district = pp.find_all(\"i\")[0].text\n",
    "            party_secretary = pp.find_all(\"a\")[0].text\n",
    "            party_secretary_link = \"http://ldzl.people.com.cn/dfzlk/front/\" + pp.find_all(\"a\")[0][\"href\"]\n",
    "            leader_dict[\"group\"] = \"district leader\"\n",
    "            leader_dict[\"name\"] = party_secretary\n",
    "            leader_dict[\"title\"] = \"书记\"\n",
    "            leader_dict[\"link\"] = party_secretary_link\n",
    "            leader_dict[\"province\"] = row[\"province\"]\n",
    "            leader_list.append(leader_dict)\n",
    "\n",
    "        for pp in district_leader:\n",
    "            leader_dict = {}\n",
    "            district = pp.find_all(\"i\")[0].text\n",
    "            mayor = pp.find_all(\"a\")[1].text\n",
    "            mayor_link = \"http://ldzl.people.com.cn/dfzlk/front/\" + pp.find_all(\"a\")[1][\"href\"]\n",
    "            leader_dict[\"group\"] = \"district leader\"\n",
    "            leader_dict[\"name\"] = mayor\n",
    "            leader_dict[\"title\"] = \"市（区、州）长行署专员\"\n",
    "            leader_dict[\"link\"] = mayor_link\n",
    "            leader_dict[\"province\"] = row[\"province\"]\n",
    "            leader_list.append(leader_dict)\n",
    "    except:\n",
    "        print(row[\"province\"], \"has no district leader\")"
   ]
  },
  {
   "cell_type": "code",
   "execution_count": 5,
   "metadata": {},
   "outputs": [],
   "source": [
    "leader_list = []\n",
    "\n",
    "provinces = pd.read_csv(\"province.csv\")"
   ]
  },
  {
   "cell_type": "code",
   "execution_count": 6,
   "metadata": {},
   "outputs": [
    {
     "name": "stdout",
     "output_type": "stream",
     "text": [
      "香港 has no party leader\n",
      "香港 has no admin leader\n",
      "香港 has no district leader\n",
      "澳门 has no party leader\n",
      "澳门 has no admin leader\n",
      "澳门 has no district leader\n"
     ]
    },
    {
     "data": {
      "text/plain": [
       "0     None\n",
       "1     None\n",
       "2     None\n",
       "3     None\n",
       "4     None\n",
       "5     None\n",
       "6     None\n",
       "7     None\n",
       "8     None\n",
       "9     None\n",
       "10    None\n",
       "11    None\n",
       "12    None\n",
       "13    None\n",
       "14    None\n",
       "15    None\n",
       "16    None\n",
       "17    None\n",
       "18    None\n",
       "19    None\n",
       "20    None\n",
       "21    None\n",
       "22    None\n",
       "23    None\n",
       "24    None\n",
       "25    None\n",
       "26    None\n",
       "27    None\n",
       "28    None\n",
       "29    None\n",
       "30    None\n",
       "31    None\n",
       "32    None\n",
       "dtype: object"
      ]
     },
     "execution_count": 6,
     "metadata": {},
     "output_type": "execute_result"
    }
   ],
   "source": [
    "provinces.apply(get_leader_info, axis = 1)"
   ]
  },
  {
   "cell_type": "code",
   "execution_count": 7,
   "metadata": {},
   "outputs": [],
   "source": [
    "final = pd.DataFrame(leader_list)"
   ]
  },
  {
   "cell_type": "code",
   "execution_count": 8,
   "metadata": {},
   "outputs": [],
   "source": [
    "final.to_csv(\"local_leader_links.csv\", index = False)"
   ]
  },
  {
   "cell_type": "code",
   "execution_count": null,
   "metadata": {},
   "outputs": [],
   "source": []
  }
 ],
 "metadata": {
  "kernelspec": {
   "display_name": "Python 3",
   "language": "python",
   "name": "python3"
  },
  "language_info": {
   "codemirror_mode": {
    "name": "ipython",
    "version": 3
   },
   "file_extension": ".py",
   "mimetype": "text/x-python",
   "name": "python",
   "nbconvert_exporter": "python",
   "pygments_lexer": "ipython3",
   "version": "3.6.5"
  }
 },
 "nbformat": 4,
 "nbformat_minor": 2
}
