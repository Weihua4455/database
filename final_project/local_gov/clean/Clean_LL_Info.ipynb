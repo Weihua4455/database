{
 "cells": [
  {
   "cell_type": "code",
   "execution_count": 2,
   "metadata": {},
   "outputs": [],
   "source": [
    "import pandas as pd\n",
    "pd.set_option('display.max_colwidth', 500)\n",
    "\n",
    "import re"
   ]
  },
  {
   "cell_type": "code",
   "execution_count": 3,
   "metadata": {},
   "outputs": [],
   "source": [
    "import numpy as np"
   ]
  },
  {
   "cell_type": "code",
   "execution_count": 62,
   "metadata": {},
   "outputs": [],
   "source": [
    "df = pd.read_csv(\"ll_info_dirty.csv\")"
   ]
  },
  {
   "cell_type": "code",
   "execution_count": 63,
   "metadata": {},
   "outputs": [],
   "source": [
    "#df.head()"
   ]
  },
  {
   "cell_type": "code",
   "execution_count": 64,
   "metadata": {},
   "outputs": [],
   "source": [
    "#df.dtypes"
   ]
  },
  {
   "cell_type": "code",
   "execution_count": 65,
   "metadata": {},
   "outputs": [],
   "source": [
    "#df.shape"
   ]
  },
  {
   "cell_type": "code",
   "execution_count": 66,
   "metadata": {},
   "outputs": [],
   "source": [
    "df[\"group\"] = df[\"  group\"]"
   ]
  },
  {
   "cell_type": "code",
   "execution_count": 67,
   "metadata": {},
   "outputs": [],
   "source": [
    "df = df.drop(columns = \"  group\")"
   ]
  },
  {
   "cell_type": "code",
   "execution_count": 68,
   "metadata": {},
   "outputs": [],
   "source": [
    "#df.name.value_counts()"
   ]
  },
  {
   "cell_type": "code",
   "execution_count": 69,
   "metadata": {},
   "outputs": [],
   "source": [
    "#df[df.name == \"王宁\"]"
   ]
  },
  {
   "cell_type": "markdown",
   "metadata": {},
   "source": [
    "### Many leaders hold multiple local position, so I hesitate dropping duplicates ... But it make sense to drop it for this project"
   ]
  },
  {
   "cell_type": "code",
   "execution_count": 70,
   "metadata": {},
   "outputs": [],
   "source": [
    "df.drop_duplicates(subset=[\"url\"], keep=\"first\", inplace = True)"
   ]
  },
  {
   "cell_type": "code",
   "execution_count": 71,
   "metadata": {},
   "outputs": [],
   "source": [
    "#df.name.value_counts()"
   ]
  },
  {
   "cell_type": "code",
   "execution_count": 72,
   "metadata": {},
   "outputs": [],
   "source": [
    "#df[df.name.isin([\"刘强\", \"王宁\",\"李毅\",\"刘惠\",\"陈飞\",\"刘伟\",\"杨斌\",\"陈平\",\"杨军\",\"罗强\",\"王少峰\",\"王建军\",\"李刚\",\"李伟\",\"李清\"])]\n",
    "# Well some names are just more popular than others"
   ]
  },
  {
   "cell_type": "code",
   "execution_count": 73,
   "metadata": {},
   "outputs": [],
   "source": [
    "#df.shape"
   ]
  },
  {
   "cell_type": "markdown",
   "metadata": {},
   "source": [
    "### Get gender"
   ]
  },
  {
   "cell_type": "code",
   "execution_count": 74,
   "metadata": {},
   "outputs": [],
   "source": [
    "df[\"short_bio\"] = df[\"short_bio\"].str.strip()"
   ]
  },
  {
   "cell_type": "code",
   "execution_count": 75,
   "metadata": {},
   "outputs": [],
   "source": [
    "df[\"gender\"] = df[\"short_bio\"].str.extract(r\"([男女])\")"
   ]
  },
  {
   "cell_type": "code",
   "execution_count": 76,
   "metadata": {},
   "outputs": [],
   "source": [
    "#df[df.gender.isnull()].shape"
   ]
  },
  {
   "cell_type": "code",
   "execution_count": 77,
   "metadata": {},
   "outputs": [],
   "source": [
    "#df.gender.value_counts()"
   ]
  },
  {
   "cell_type": "markdown",
   "metadata": {},
   "source": [
    "### Get ethnic background\n"
   ]
  },
  {
   "cell_type": "code",
   "execution_count": 78,
   "metadata": {},
   "outputs": [],
   "source": [
    "df[\"ethnic\"] = df[\"short_bio\"].str.extract(r\"([^，。]{1,}族)\")"
   ]
  },
  {
   "cell_type": "code",
   "execution_count": 79,
   "metadata": {},
   "outputs": [],
   "source": [
    "#df[\"ethnic\"].value_counts()"
   ]
  },
  {
   "cell_type": "code",
   "execution_count": 80,
   "metadata": {},
   "outputs": [],
   "source": [
    "#df[df.ethnic.isnull()].shape"
   ]
  },
  {
   "cell_type": "markdown",
   "metadata": {},
   "source": [
    "### Get date of birth\n",
    "\n",
    "#### dob_y = year of birth\n",
    "#### age = 2018 - dob_y"
   ]
  },
  {
   "cell_type": "code",
   "execution_count": 81,
   "metadata": {},
   "outputs": [],
   "source": [
    "def get_dob(row):\n",
    "    if \"生\" in row[\"short_bio\"] and \"年\" in row[\"short_bio\"]:\n",
    "        if \"生于\\d\" in row[\"short_bio\"]:\n",
    "            dob_y = re.findall(\"生于(\\d\\d\\d\\d)年\", row[\"short_bio\"])\n",
    "            dob_y = \",\".join(dob_y).split(\",\")[0] \n",
    "        else:\n",
    "            dob_y = re.findall(\"(\\d+)年[^，。]{0,}月\", row[\"short_bio\"])\n",
    "            dob_y = \",\".join(dob_y).split(\",\")[0] \n",
    "    else:\n",
    "        dob_y = \"unknown\"\n",
    "    return dob_y"
   ]
  },
  {
   "cell_type": "code",
   "execution_count": 82,
   "metadata": {},
   "outputs": [],
   "source": [
    "df[\"dob_y\"] = df.apply(get_dob, axis=1)"
   ]
  },
  {
   "cell_type": "code",
   "execution_count": 83,
   "metadata": {},
   "outputs": [],
   "source": [
    "#df[\"dob_y\"].value_counts()"
   ]
  },
  {
   "cell_type": "code",
   "execution_count": 84,
   "metadata": {},
   "outputs": [],
   "source": [
    "#df[df.dob_y == \"\"]"
   ]
  },
  {
   "cell_type": "code",
   "execution_count": 85,
   "metadata": {},
   "outputs": [],
   "source": [
    "df.at[218, \"dob_y\"] = 1961\n",
    "df.at[380, \"dob_y\"] = 1963\n",
    "df.at[650, \"dob_y\"] = 1966"
   ]
  },
  {
   "cell_type": "code",
   "execution_count": 86,
   "metadata": {},
   "outputs": [],
   "source": [
    "#df[df.dob_y == \"unknown\"]"
   ]
  },
  {
   "cell_type": "code",
   "execution_count": 87,
   "metadata": {},
   "outputs": [],
   "source": [
    "df.dob_y.replace(\"unknown\", np.nan, inplace = True)"
   ]
  },
  {
   "cell_type": "code",
   "execution_count": 88,
   "metadata": {},
   "outputs": [],
   "source": [
    "df.dob_y = df.dob_y.astype(float)"
   ]
  },
  {
   "cell_type": "code",
   "execution_count": 89,
   "metadata": {},
   "outputs": [],
   "source": [
    "df[\"age\"] = 2018 - df[\"dob_y\"]"
   ]
  },
  {
   "cell_type": "markdown",
   "metadata": {},
   "source": [
    "### Get when they joined workforce\n",
    "\n",
    "#### join_work_y = year they joined workforce\n",
    "#### working_y = 2018 - join_work_y"
   ]
  },
  {
   "cell_type": "code",
   "execution_count": 90,
   "metadata": {},
   "outputs": [],
   "source": [
    "df[\"join_work_y\"] = df[\"short_bio\"].str.extract(r\"(\\d{4})年[\\d月]{0,3}参加工作[，。,（]\").astype(float)"
   ]
  },
  {
   "cell_type": "code",
   "execution_count": 91,
   "metadata": {},
   "outputs": [],
   "source": [
    "#df[(df[\"join_work_y\"].isnull()) & (df[\"short_bio\"].str.contains(\"参加工作\"))]"
   ]
  },
  {
   "cell_type": "code",
   "execution_count": 92,
   "metadata": {},
   "outputs": [],
   "source": [
    "df.at[380, \"join_work_y\"] = 1985\n",
    "df.at[473, \"join_work_y\"] = 1985\n",
    "df.at[785, \"join_work_y\"] = 1981"
   ]
  },
  {
   "cell_type": "markdown",
   "metadata": {},
   "source": [
    "### Get place of birth\n",
    "#### pob = place of birth\n",
    "#### pob_p = province of birth"
   ]
  },
  {
   "cell_type": "code",
   "execution_count": 93,
   "metadata": {},
   "outputs": [],
   "source": [
    "def get_pob(row):\n",
    "    if \"籍贯、\" in row[\"short_bio\"]:\n",
    "        pob = re.findall(\"出生地([^，。]{2,}[,，。])\", row[\"short_bio\"])\n",
    "        pob = \"\".join(pob)\n",
    "    elif \"籍贯\" in row[\"short_bio\"]:\n",
    "        pob = re.findall(\"籍贯([^，。]{2,}[,，。])\", row[\"short_bio\"])\n",
    "        pob = \"\".join(pob)\n",
    "    elif \"出生于\" in row[\"short_bio\"]:\n",
    "        pob = re.findall(\"出生于([^，。]{2,}[,，。])\", row[\"short_bio\"])\n",
    "        pob = \"\".join(pob)\n",
    "    else:\n",
    "        pob = re.findall(\"，([^，]{2,})人[，。]\", row[\"short_bio\"])\n",
    "        pob = \"\".join(pob)\n",
    "    return pob"
   ]
  },
  {
   "cell_type": "code",
   "execution_count": 94,
   "metadata": {},
   "outputs": [],
   "source": [
    "df[\"pob\"] = df.apply(get_pob, axis=1)"
   ]
  },
  {
   "cell_type": "code",
   "execution_count": 95,
   "metadata": {},
   "outputs": [],
   "source": [
    "#df[df[\"pob\"] == \"\"]"
   ]
  },
  {
   "cell_type": "code",
   "execution_count": 96,
   "metadata": {},
   "outputs": [],
   "source": [
    "df.pob.replace(\"\", np.nan, inplace = True)"
   ]
  },
  {
   "cell_type": "code",
   "execution_count": 97,
   "metadata": {},
   "outputs": [],
   "source": [
    "df[\"pob_p\"] = df[\"pob\"].str[0:2]"
   ]
  },
  {
   "cell_type": "code",
   "execution_count": 98,
   "metadata": {},
   "outputs": [],
   "source": [
    "#df[df[\"pob_p\"].isnull()]"
   ]
  },
  {
   "cell_type": "code",
   "execution_count": 99,
   "metadata": {},
   "outputs": [],
   "source": [
    "df.at[1576, \"pob_p\"] = \"澳门\"\n",
    "df.at[1576, \"pob\"] = \"澳门\""
   ]
  },
  {
   "cell_type": "code",
   "execution_count": 100,
   "metadata": {},
   "outputs": [],
   "source": [
    "#df.pob_p.value_counts()"
   ]
  },
  {
   "cell_type": "code",
   "execution_count": 101,
   "metadata": {},
   "outputs": [],
   "source": [
    "df.pob_p = df.pob_p.str.replace(\"献县\",\"河北\")\n",
    "df.pob_p = df.pob_p.str.replace(\"巨鹿\",\"河北\")\n",
    "df.pob_p = df.pob_p.str.replace(\"衡水\",\"河北\")\n",
    "df.pob_p = df.pob_p.str.replace(\"安微\",\"安徽\")\n",
    "df.pob_p = df.pob_p.str.replace(\"玉田\",\"河北\")\n",
    "df.pob_p = df.pob_p.str.replace(\"麻栗\",\"云南\")\n",
    "df.pob_p = df.pob_p.str.replace(\"正定\",\"河北\")\n",
    "df.pob_p = df.pob_p.str.replace(\"衡阳\",\"湖南\")\n",
    "df.pob_p = df.pob_p.str.replace(\"深泽\",\"河北\")\n",
    "df.pob_p = df.pob_p.str.replace(\"梅县\",\"广东\")\n",
    "df.pob_p = df.pob_p.str.replace(\"邢台\",\"河北\")\n",
    "df.pob_p = df.pob_p.str.replace(\"平山\",\"河北\")\n",
    "df.pob_p = df.pob_p.str.replace(\"无极\",\"河北\")\n",
    "df.pob_p = df.pob_p.str.replace(\"威县\",\"河北\")\n",
    "df.pob_p = df.pob_p.str.replace(\"邯郸\",\"河北\")\n",
    "df.pob_p = df.pob_p.str.replace(\"京山\",\"湖北\")"
   ]
  },
  {
   "cell_type": "code",
   "execution_count": 102,
   "metadata": {},
   "outputs": [],
   "source": [
    "#df[df.pob_p.isnull()].shape"
   ]
  },
  {
   "cell_type": "markdown",
   "metadata": {},
   "source": [
    "### Get when they joined CCP\n",
    "#### join_party_y"
   ]
  },
  {
   "cell_type": "code",
   "execution_count": 103,
   "metadata": {},
   "outputs": [],
   "source": [
    "df[\"join_party_y\"] = df[\"short_bio\"].str.extract(r\"(\\d{4})年[\\d月]{0,}[加入]{1,}[中国共产党]{1,}[，。]\").astype(float)"
   ]
  },
  {
   "cell_type": "code",
   "execution_count": 104,
   "metadata": {},
   "outputs": [],
   "source": [
    "# df.join_party_y.value_counts()"
   ]
  },
  {
   "cell_type": "markdown",
   "metadata": {},
   "source": [
    "### Get education background\n",
    "#### edu_dg = their highest degree\n",
    "#### edu_am = alma mater + major\n",
    "#### edu_uni = alma mater\n",
    "#### edu_major = major"
   ]
  },
  {
   "cell_type": "code",
   "execution_count": 105,
   "metadata": {},
   "outputs": [],
   "source": [
    "def get_edu_dg(row):\n",
    "    if \"博士\" in row[\"short_bio\"]:\n",
    "        dg = \"博士\"\n",
    "    elif \"研究生\" in row[\"short_bio\"] or \"硕士\" in row[\"short_bio\"]:\n",
    "        dg = \"研究生\"\n",
    "    elif \"大学\" in row[\"short_bio\"] or \"本科\" in row[\"short_bio\"] or \"学士\" in row[\"short_bio\"] or \"大学\" in row[\"short_bio\"]:\n",
    "        dg = \"本科\"\n",
    "    elif \"大专\" in row[\"short_bio\"] or \"专科\" in row[\"short_bio\"]:\n",
    "        dg = \"大专\"\n",
    "    else:\n",
    "        dg = \"unknown\"\n",
    "    return dg"
   ]
  },
  {
   "cell_type": "code",
   "execution_count": 106,
   "metadata": {},
   "outputs": [],
   "source": [
    "df[\"edu_dg\"] = df.apply(get_edu_dg, axis=1)"
   ]
  },
  {
   "cell_type": "code",
   "execution_count": 107,
   "metadata": {},
   "outputs": [],
   "source": [
    "def get_edu_am(row):\n",
    "    if \"毕业于\" in row[\"short_bio\"]:\n",
    "        am = re.findall(\"毕业于([^，。]{1,})[，。]\", row[\"short_bio\"])\n",
    "        am = \"\".join(am)\n",
    "    elif \"(\" in row[\"short_bio\"] and \")\" in row[\"short_bio\"]:\n",
    "        am = re.findall(\"\\((.*)\\)\", row[\"short_bio\"])\n",
    "        am = \"\".join(am)\n",
    "    elif \"（\" in row[\"short_bio\"] and \"）\" in row[\"short_bio\"]:\n",
    "        am = re.findall(\"（(.*)）\", row[\"short_bio\"])\n",
    "        am = \"\".join(am)\n",
    "    elif \"毕业\" in row[\"short_bio\"]:\n",
    "        am = re.findall(\"[，。]([^，。]{1,})毕业\", row[\"short_bio\"])\n",
    "        am = \"\".join(am)\n",
    "    else:\n",
    "        am = \"unknown\"\n",
    "    return am"
   ]
  },
  {
   "cell_type": "code",
   "execution_count": 108,
   "metadata": {},
   "outputs": [],
   "source": [
    "df[\"edu_am\"] = df.apply(get_edu_am, axis=1)"
   ]
  },
  {
   "cell_type": "code",
   "execution_count": 109,
   "metadata": {},
   "outputs": [],
   "source": [
    "def get_edu_uni(row):\n",
    "    \n",
    "    if \"中央党校\" in row[\"edu_am\"]:\n",
    "        university = \"中央党校\"\n",
    "    elif \"大学\" in row[\"edu_am\"]:\n",
    "        university = re.findall(\"([^，]{1,}大学).*\", row[\"edu_am\"])\n",
    "        university = \"\".join(university)\n",
    "    elif \"研究所\" in row[\"edu_am\"]:\n",
    "        university = re.findall(\"([^，]{1,}研究所).*\", row[\"edu_am\"])\n",
    "        university = \"\".join(university)\n",
    "    elif \"学院\" in row[\"edu_am\"]:\n",
    "        university = re.findall(\"([^，]{1,}学院).*\", row[\"edu_am\"])\n",
    "        university = \"\".join(university)\n",
    "    elif \"学校\" in row[\"edu_am\"]:\n",
    "        university = re.findall(\"([^，]{1,}学校).*\", row[\"edu_am\"])\n",
    "        university = \"\".join(university)\n",
    "    else:\n",
    "        university = row[\"edu_am\"]\n",
    "\n",
    "    return university"
   ]
  },
  {
   "cell_type": "code",
   "execution_count": 110,
   "metadata": {},
   "outputs": [],
   "source": [
    "df[\"edu_uni\"] = df.apply(get_edu_uni, axis=1)"
   ]
  },
  {
   "cell_type": "code",
   "execution_count": 111,
   "metadata": {},
   "outputs": [],
   "source": [
    "df.drop(columns = [\"short_bio\", \"pob\", \"edu_am\", \"edu_uni\", \"title\", \"publish_date\", \"group\"], inplace = True)"
   ]
  },
  {
   "cell_type": "code",
   "execution_count": 113,
   "metadata": {},
   "outputs": [
    {
     "data": {
      "text/plain": [
       "name             object\n",
       "province         object\n",
       "url              object\n",
       "gender           object\n",
       "ethnic           object\n",
       "dob_y           float64\n",
       "age             float64\n",
       "join_work_y     float64\n",
       "pob_p            object\n",
       "join_party_y    float64\n",
       "edu_dg           object\n",
       "dtype: object"
      ]
     },
     "execution_count": 113,
     "metadata": {},
     "output_type": "execute_result"
    }
   ],
   "source": [
    "df.dtypes"
   ]
  },
  {
   "cell_type": "code",
   "execution_count": 114,
   "metadata": {},
   "outputs": [],
   "source": [
    "df.to_csv(\"ll_info_clean.csv\", index = False)"
   ]
  },
  {
   "cell_type": "code",
   "execution_count": 403,
   "metadata": {},
   "outputs": [],
   "source": [
    "#df_test = pd.read_csv(\"ll_info_clean.csv\")"
   ]
  },
  {
   "cell_type": "code",
   "execution_count": 404,
   "metadata": {},
   "outputs": [],
   "source": [
    "#df_test.head()"
   ]
  }
 ],
 "metadata": {
  "kernelspec": {
   "display_name": "Python 3",
   "language": "python",
   "name": "python3"
  },
  "language_info": {
   "codemirror_mode": {
    "name": "ipython",
    "version": 3
   },
   "file_extension": ".py",
   "mimetype": "text/x-python",
   "name": "python",
   "nbconvert_exporter": "python",
   "pygments_lexer": "ipython3",
   "version": "3.6.5"
  }
 },
 "nbformat": 4,
 "nbformat_minor": 2
}
