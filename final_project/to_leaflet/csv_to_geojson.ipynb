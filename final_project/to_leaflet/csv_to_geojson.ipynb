{
 "cells": [
  {
   "cell_type": "code",
   "execution_count": 1,
   "metadata": {},
   "outputs": [],
   "source": [
    "import numpy as np\n",
    "import pandas as pd\n",
    "\n",
    "df = pd.read_csv(\"year_map.csv\")"
   ]
  },
  {
   "cell_type": "code",
   "execution_count": 2,
   "metadata": {},
   "outputs": [],
   "source": [
    "import json\n",
    "from pandas.io.json import json_normalize\n",
    "\n",
    "\n",
    "with open(\"year_map_10.json\", encoding='utf-8') as json_data:\n",
    "    geometry_data = json.load(json_data)\n",
    "    \n",
    "for feat in geometry_data['features']:\n",
    "    del feat[\"properties\"]['wikipedia']\n",
    "    del feat[\"properties\"]['code_local']\n",
    "    del feat[\"properties\"]['note']\n",
    "    del feat[\"properties\"]['hasc_maybe']\n",
    "    del feat[\"properties\"]['abbrev']\n",
    "    del feat[\"properties\"]['fips_alt']\n",
    "    del feat[\"properties\"]['gn_region']\n",
    "    del feat[\"properties\"]['sub_code']\n",
    "    del feat[\"properties\"]['gns_region']\n",
    "    del feat[\"properties\"]['name_alt']\n",
    "    del feat[\"properties\"]['name_local']\n",
    "    del feat[\"properties\"]['postal']\n",
    "    del feat[\"properties\"]['woe_label']\n",
    "    del feat[\"properties\"]['gn_name']\n",
    "    del feat[\"properties\"]['gns_name']\n",
    "    del feat[\"properties\"]['gns_lang']\n",
    "    del feat[\"properties\"]['gns_adm1']\n",
    "\n",
    "    del [feat[\"properties\"]['fips'], feat[\"properties\"]['region_sub'],feat[\"properties\"]['region'], feat[\"properties\"]['region_cod'],feat[\"properties\"]['type_en'], feat[\"properties\"]['type']]\n",
    "\n",
    "    \n",
    "    \n"
   ]
  },
  {
   "cell_type": "markdown",
   "metadata": {},
   "source": [
    "### First get csv in shape"
   ]
  },
  {
   "cell_type": "code",
   "execution_count": 3,
   "metadata": {},
   "outputs": [],
   "source": [
    "df1 = pd.DataFrame()"
   ]
  },
  {
   "cell_type": "code",
   "execution_count": 4,
   "metadata": {},
   "outputs": [],
   "source": [
    "def get_count(row):\n",
    "    list_ = row[\"name\"].split(\",\")\n",
    "    count = len(list_)\n",
    "    return count"
   ]
  },
  {
   "cell_type": "code",
   "execution_count": 5,
   "metadata": {},
   "outputs": [],
   "source": [
    "df[\"properties.headline\"] = df.apply(get_count, axis=1)"
   ]
  },
  {
   "cell_type": "code",
   "execution_count": 6,
   "metadata": {},
   "outputs": [],
   "source": [
    "df[\"properties.name\"] = df[\"location_english\"]"
   ]
  },
  {
   "cell_type": "code",
   "execution_count": 7,
   "metadata": {},
   "outputs": [],
   "source": [
    "def add_p_tag(row):\n",
    "    list_ = row[\"name\"].split(\",\")\n",
    "    names_with_p_l = [\"<p>\" + name + \"</p>\" for name in list_]\n",
    "    names_with_p = \"\".join(names_with_p_l)\n",
    "    return names_with_p"
   ]
  },
  {
   "cell_type": "code",
   "execution_count": 8,
   "metadata": {},
   "outputs": [],
   "source": [
    "df[\"properties.article\"] = df.apply(add_p_tag, axis=1)"
   ]
  },
  {
   "cell_type": "code",
   "execution_count": 9,
   "metadata": {},
   "outputs": [],
   "source": [
    "df[\"properties.year\"] = df[\"year\"]"
   ]
  },
  {
   "cell_type": "code",
   "execution_count": 10,
   "metadata": {},
   "outputs": [],
   "source": [
    "## If Xi Jinping is in a province, style the polygon differently\n",
    "def get_color(row):\n",
    "    if \"习近平\" in row[\"name\"]:\n",
    "        color = \"black\"\n",
    "    else:\n",
    "        color = \"white\"\n",
    "    return color"
   ]
  },
  {
   "cell_type": "code",
   "execution_count": 11,
   "metadata": {},
   "outputs": [],
   "source": [
    "df[\"properties.color\"] = df.apply(get_color, axis=1)"
   ]
  },
  {
   "cell_type": "code",
   "execution_count": 12,
   "metadata": {},
   "outputs": [],
   "source": [
    "def get_dash_array(row):\n",
    "    if \"习近平\" in row[\"name\"]:\n",
    "        dash = \"\"\n",
    "    else:\n",
    "        dash = \"3\"\n",
    "    return dash"
   ]
  },
  {
   "cell_type": "code",
   "execution_count": 13,
   "metadata": {},
   "outputs": [],
   "source": [
    "df[\"properties.dashArray\"] = df.apply(get_dash_array, axis=1)"
   ]
  },
  {
   "cell_type": "code",
   "execution_count": 14,
   "metadata": {},
   "outputs": [],
   "source": [
    "def get_weight(row):\n",
    "    if \"习近平\" in row[\"name\"]:\n",
    "        weight = 4\n",
    "    else:\n",
    "        weight = 2\n",
    "    return weight"
   ]
  },
  {
   "cell_type": "code",
   "execution_count": 15,
   "metadata": {},
   "outputs": [],
   "source": [
    "df[\"properties.weight\"] = df.apply(get_weight, axis=1)"
   ]
  },
  {
   "cell_type": "code",
   "execution_count": 16,
   "metadata": {},
   "outputs": [],
   "source": [
    "df1 = df.drop(columns = [\"year\", \"location\", \"location_lat\", \"location_lng\", \"location_english\", \"name\"])"
   ]
  },
  {
   "cell_type": "code",
   "execution_count": 17,
   "metadata": {},
   "outputs": [],
   "source": [
    "def get_group_name(row):\n",
    "    group_name = row[\"properties.year\"][:4]\n",
    "    return group_name"
   ]
  },
  {
   "cell_type": "code",
   "execution_count": 18,
   "metadata": {},
   "outputs": [],
   "source": [
    "df1[\"properties.group_name\"] = df1.apply(get_group_name, axis=1)"
   ]
  },
  {
   "cell_type": "code",
   "execution_count": 19,
   "metadata": {},
   "outputs": [],
   "source": [
    "# 1993 --> group 0\n",
    "# 1994 --> group 1\n",
    "# 1995 --> group 2\n",
    "# etc\n",
    "\n",
    "def get_group_id(row):\n",
    "    group_id = int(row[\"properties.year\"][:4]) - 1993\n",
    "    return group_id"
   ]
  },
  {
   "cell_type": "code",
   "execution_count": 20,
   "metadata": {},
   "outputs": [],
   "source": [
    "df1[\"properties.group_id\"] = df1.apply(get_group_id, axis=1)"
   ]
  },
  {
   "cell_type": "code",
   "execution_count": null,
   "metadata": {},
   "outputs": [],
   "source": []
  },
  {
   "cell_type": "code",
   "execution_count": 21,
   "metadata": {},
   "outputs": [],
   "source": [
    "df1.to_csv(\"to_join_shape\")"
   ]
  },
  {
   "cell_type": "markdown",
   "metadata": {},
   "source": [
    "### Now get geojson in shape"
   ]
  },
  {
   "cell_type": "code",
   "execution_count": 22,
   "metadata": {},
   "outputs": [],
   "source": [
    "out_geometry = pd.DataFrame.from_dict(json_normalize(geometry_data[\"features\"]), orient='columns')"
   ]
  },
  {
   "cell_type": "code",
   "execution_count": 23,
   "metadata": {},
   "outputs": [],
   "source": [
    "output_complete_test = pd.merge(df1, out_geometry[['geometry.coordinates','geometry.type','properties.name']], left_on='properties.name', right_on='properties.name', how='left')"
   ]
  },
  {
   "cell_type": "code",
   "execution_count": 24,
   "metadata": {},
   "outputs": [],
   "source": [
    "output_complete = output_complete_test[(output_complete_test[\"properties.group_id\"] >= 0) & (output_complete_test[\"properties.group_id\"] <= 20)]"
   ]
  },
  {
   "cell_type": "code",
   "execution_count": 25,
   "metadata": {},
   "outputs": [
    {
     "name": "stderr",
     "output_type": "stream",
     "text": [
      "C:\\Users\\Weihua\\AppData\\Local\\Programs\\Python\\Python36\\lib\\site-packages\\ipykernel_launcher.py:1: SettingWithCopyWarning: \n",
      "A value is trying to be set on a copy of a slice from a DataFrame\n",
      "\n",
      "See the caveats in the documentation: http://pandas.pydata.org/pandas-docs/stable/indexing.html#indexing-view-versus-copy\n",
      "  \"\"\"Entry point for launching an IPython kernel.\n"
     ]
    }
   ],
   "source": [
    "output_complete.dropna(subset = [\"geometry.coordinates\"], inplace = True)"
   ]
  },
  {
   "cell_type": "code",
   "execution_count": 26,
   "metadata": {},
   "outputs": [],
   "source": [
    "output_complete.to_csv(\"Geojson_output.csv\", index = False)"
   ]
  },
  {
   "cell_type": "markdown",
   "metadata": {},
   "source": [
    "### df to json"
   ]
  },
  {
   "cell_type": "code",
   "execution_count": 27,
   "metadata": {},
   "outputs": [],
   "source": [
    " ok_json = json.loads(output_complete.to_json(orient='records'))"
   ]
  },
  {
   "cell_type": "code",
   "execution_count": 28,
   "metadata": {},
   "outputs": [],
   "source": [
    "def process_to_geojson(file):\n",
    "    geo_data = {\"type\": \"FeatureCollection\", \"features\":[]}\n",
    "    for row in file:\n",
    "        this_dict = {\"type\": \"Feature\", \"properties\":{}, \"geometry\": {}}\n",
    "        for key, value in row.items():\n",
    "            key_names = key.split('.')\n",
    "            if key_names[0] == 'geometry':\n",
    "                this_dict['geometry'][key_names[1]] = value\n",
    "            if str(key_names[0]) == 'properties':\n",
    "                this_dict['properties'][key_names[1]] = value\n",
    "        geo_data['features'].append(this_dict)\n",
    "    return geo_data"
   ]
  },
  {
   "cell_type": "code",
   "execution_count": 29,
   "metadata": {},
   "outputs": [],
   "source": [
    "geo_format = process_to_geojson(ok_json)"
   ]
  },
  {
   "cell_type": "code",
   "execution_count": 30,
   "metadata": {},
   "outputs": [],
   "source": [
    "with open('geo-data.js', 'w') as outfile:\n",
    "    outfile.write(\"var infoData = \")\n",
    "with open('geo-data.js', 'a') as outfile:\n",
    "    json.dump(geo_format, outfile)"
   ]
  }
 ],
 "metadata": {
  "kernelspec": {
   "display_name": "Python 3",
   "language": "python",
   "name": "python3"
  },
  "language_info": {
   "codemirror_mode": {
    "name": "ipython",
    "version": 3
   },
   "file_extension": ".py",
   "mimetype": "text/x-python",
   "name": "python",
   "nbconvert_exporter": "python",
   "pygments_lexer": "ipython3",
   "version": "3.6.5"
  }
 },
 "nbformat": 4,
 "nbformat_minor": 2
}
