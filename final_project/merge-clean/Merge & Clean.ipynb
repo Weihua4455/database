{
 "cells": [
  {
   "cell_type": "code",
   "execution_count": 53,
   "metadata": {},
   "outputs": [],
   "source": [
    "import pandas as pd\n",
    "pd.set_option('display.max_colwidth', 500)\n",
    "pd.set_option('display.max_rows', 500)\n",
    "\n",
    "import re"
   ]
  },
  {
   "cell_type": "code",
   "execution_count": 54,
   "metadata": {},
   "outputs": [],
   "source": [
    "import numpy as np"
   ]
  },
  {
   "cell_type": "code",
   "execution_count": 55,
   "metadata": {},
   "outputs": [],
   "source": [
    "from googletrans import Translator\n",
    "translator = Translator()"
   ]
  },
  {
   "cell_type": "code",
   "execution_count": 56,
   "metadata": {},
   "outputs": [],
   "source": [
    "import geocoder"
   ]
  },
  {
   "cell_type": "code",
   "execution_count": 57,
   "metadata": {},
   "outputs": [],
   "source": [
    "import time\n",
    "import datetime"
   ]
  },
  {
   "cell_type": "code",
   "execution_count": 58,
   "metadata": {},
   "outputs": [],
   "source": [
    "import pinyin"
   ]
  },
  {
   "cell_type": "markdown",
   "metadata": {},
   "source": [
    "## Join central gov info and resume"
   ]
  },
  {
   "cell_type": "code",
   "execution_count": 59,
   "metadata": {},
   "outputs": [],
   "source": [
    "df_pl_info = pd.read_csv(\"pl_info_clean.csv\")\n",
    "df_pl_resume = pd.read_csv(\"pl_resume_clean.csv\")"
   ]
  },
  {
   "cell_type": "code",
   "execution_count": 60,
   "metadata": {},
   "outputs": [],
   "source": [
    "df_pl_info = df_pl_info.drop(columns = [\"publish_date\"])"
   ]
  },
  {
   "cell_type": "code",
   "execution_count": 61,
   "metadata": {},
   "outputs": [
    {
     "data": {
      "text/html": [
       "<div>\n",
       "<style scoped>\n",
       "    .dataframe tbody tr th:only-of-type {\n",
       "        vertical-align: middle;\n",
       "    }\n",
       "\n",
       "    .dataframe tbody tr th {\n",
       "        vertical-align: top;\n",
       "    }\n",
       "\n",
       "    .dataframe thead th {\n",
       "        text-align: right;\n",
       "    }\n",
       "</style>\n",
       "<table border=\"1\" class=\"dataframe\">\n",
       "  <thead>\n",
       "    <tr style=\"text-align: right;\">\n",
       "      <th></th>\n",
       "      <th>name</th>\n",
       "      <th>url</th>\n",
       "      <th>gender</th>\n",
       "      <th>ethnic</th>\n",
       "      <th>dob_y</th>\n",
       "      <th>age</th>\n",
       "      <th>join_work_y</th>\n",
       "      <th>pob_p</th>\n",
       "      <th>join_party_y</th>\n",
       "      <th>edu_dg</th>\n",
       "      <th>province</th>\n",
       "    </tr>\n",
       "  </thead>\n",
       "  <tbody>\n",
       "    <tr>\n",
       "      <th>0</th>\n",
       "      <td>习近平</td>\n",
       "      <td>http://cpc.people.com.cn/n1/2017/1025/c414940-29608803.html</td>\n",
       "      <td>男</td>\n",
       "      <td>汉族</td>\n",
       "      <td>1953</td>\n",
       "      <td>65</td>\n",
       "      <td>1969.0</td>\n",
       "      <td>陕西</td>\n",
       "      <td>1974.0</td>\n",
       "      <td>研究生</td>\n",
       "      <td>central government</td>\n",
       "    </tr>\n",
       "    <tr>\n",
       "      <th>1</th>\n",
       "      <td>李克强</td>\n",
       "      <td>http://cpc.people.com.cn/n1/2017/1025/c414940-29608804.html</td>\n",
       "      <td>男</td>\n",
       "      <td>汉族</td>\n",
       "      <td>1955</td>\n",
       "      <td>63</td>\n",
       "      <td>1974.0</td>\n",
       "      <td>安徽</td>\n",
       "      <td>1976.0</td>\n",
       "      <td>研究生</td>\n",
       "      <td>central government</td>\n",
       "    </tr>\n",
       "    <tr>\n",
       "      <th>2</th>\n",
       "      <td>栗战书</td>\n",
       "      <td>http://cpc.people.com.cn/n1/2017/1025/c414940-29608805.html</td>\n",
       "      <td>男</td>\n",
       "      <td>汉族</td>\n",
       "      <td>1950</td>\n",
       "      <td>68</td>\n",
       "      <td>1972.0</td>\n",
       "      <td>河北</td>\n",
       "      <td>1975.0</td>\n",
       "      <td>大学</td>\n",
       "      <td>central government</td>\n",
       "    </tr>\n",
       "    <tr>\n",
       "      <th>3</th>\n",
       "      <td>汪洋</td>\n",
       "      <td>http://cpc.people.com.cn/n1/2017/1025/c414940-29608807.html</td>\n",
       "      <td>男</td>\n",
       "      <td>汉族</td>\n",
       "      <td>1955</td>\n",
       "      <td>63</td>\n",
       "      <td>1972.0</td>\n",
       "      <td>安徽</td>\n",
       "      <td>1975.0</td>\n",
       "      <td>大学</td>\n",
       "      <td>central government</td>\n",
       "    </tr>\n",
       "    <tr>\n",
       "      <th>4</th>\n",
       "      <td>王沪宁</td>\n",
       "      <td>http://cpc.people.com.cn/n1/2017/1025/c414940-29608808.html</td>\n",
       "      <td>男</td>\n",
       "      <td>汉族</td>\n",
       "      <td>1955</td>\n",
       "      <td>63</td>\n",
       "      <td>1977.0</td>\n",
       "      <td>山东</td>\n",
       "      <td>1984.0</td>\n",
       "      <td>研究生</td>\n",
       "      <td>central government</td>\n",
       "    </tr>\n",
       "  </tbody>\n",
       "</table>\n",
       "</div>"
      ],
      "text/plain": [
       "  name                                                          url gender  \\\n",
       "0  习近平  http://cpc.people.com.cn/n1/2017/1025/c414940-29608803.html      男   \n",
       "1  李克强  http://cpc.people.com.cn/n1/2017/1025/c414940-29608804.html      男   \n",
       "2  栗战书  http://cpc.people.com.cn/n1/2017/1025/c414940-29608805.html      男   \n",
       "3   汪洋  http://cpc.people.com.cn/n1/2017/1025/c414940-29608807.html      男   \n",
       "4  王沪宁  http://cpc.people.com.cn/n1/2017/1025/c414940-29608808.html      男   \n",
       "\n",
       "  ethnic  dob_y  age  join_work_y pob_p  join_party_y edu_dg  \\\n",
       "0     汉族   1953   65       1969.0    陕西        1974.0    研究生   \n",
       "1     汉族   1955   63       1974.0    安徽        1976.0    研究生   \n",
       "2     汉族   1950   68       1972.0    河北        1975.0     大学   \n",
       "3     汉族   1955   63       1972.0    安徽        1975.0     大学   \n",
       "4     汉族   1955   63       1977.0    山东        1984.0    研究生   \n",
       "\n",
       "             province  \n",
       "0  central government  \n",
       "1  central government  \n",
       "2  central government  \n",
       "3  central government  \n",
       "4  central government  "
      ]
     },
     "execution_count": 61,
     "metadata": {},
     "output_type": "execute_result"
    }
   ],
   "source": [
    "df_pl_info.head()"
   ]
  },
  {
   "cell_type": "code",
   "execution_count": 62,
   "metadata": {},
   "outputs": [
    {
     "data": {
      "text/html": [
       "<div>\n",
       "<style scoped>\n",
       "    .dataframe tbody tr th:only-of-type {\n",
       "        vertical-align: middle;\n",
       "    }\n",
       "\n",
       "    .dataframe tbody tr th {\n",
       "        vertical-align: top;\n",
       "    }\n",
       "\n",
       "    .dataframe thead th {\n",
       "        text-align: right;\n",
       "    }\n",
       "</style>\n",
       "<table border=\"1\" class=\"dataframe\">\n",
       "  <thead>\n",
       "    <tr style=\"text-align: right;\">\n",
       "      <th></th>\n",
       "      <th>year_clean</th>\n",
       "      <th>content</th>\n",
       "      <th>name</th>\n",
       "      <th>url</th>\n",
       "      <th>location</th>\n",
       "    </tr>\n",
       "  </thead>\n",
       "  <tbody>\n",
       "    <tr>\n",
       "      <th>0</th>\n",
       "      <td>1969-01-01</td>\n",
       "      <td>陕西省延川县文安驿公社梁家河大队知青、党支部书记</td>\n",
       "      <td>习近平</td>\n",
       "      <td>http://cpc.people.com.cn/n1/2017/1025/c414940-29608803.html</td>\n",
       "      <td>陕西</td>\n",
       "    </tr>\n",
       "    <tr>\n",
       "      <th>1</th>\n",
       "      <td>1970-01-01</td>\n",
       "      <td>陕西省延川县文安驿公社梁家河大队知青、党支部书记</td>\n",
       "      <td>习近平</td>\n",
       "      <td>http://cpc.people.com.cn/n1/2017/1025/c414940-29608803.html</td>\n",
       "      <td>陕西</td>\n",
       "    </tr>\n",
       "    <tr>\n",
       "      <th>2</th>\n",
       "      <td>1971-01-01</td>\n",
       "      <td>陕西省延川县文安驿公社梁家河大队知青、党支部书记</td>\n",
       "      <td>习近平</td>\n",
       "      <td>http://cpc.people.com.cn/n1/2017/1025/c414940-29608803.html</td>\n",
       "      <td>陕西</td>\n",
       "    </tr>\n",
       "    <tr>\n",
       "      <th>3</th>\n",
       "      <td>1972-01-01</td>\n",
       "      <td>陕西省延川县文安驿公社梁家河大队知青、党支部书记</td>\n",
       "      <td>习近平</td>\n",
       "      <td>http://cpc.people.com.cn/n1/2017/1025/c414940-29608803.html</td>\n",
       "      <td>陕西</td>\n",
       "    </tr>\n",
       "    <tr>\n",
       "      <th>4</th>\n",
       "      <td>1973-01-01</td>\n",
       "      <td>陕西省延川县文安驿公社梁家河大队知青、党支部书记</td>\n",
       "      <td>习近平</td>\n",
       "      <td>http://cpc.people.com.cn/n1/2017/1025/c414940-29608803.html</td>\n",
       "      <td>陕西</td>\n",
       "    </tr>\n",
       "  </tbody>\n",
       "</table>\n",
       "</div>"
      ],
      "text/plain": [
       "   year_clean                   content name  \\\n",
       "0  1969-01-01  陕西省延川县文安驿公社梁家河大队知青、党支部书记  习近平   \n",
       "1  1970-01-01  陕西省延川县文安驿公社梁家河大队知青、党支部书记  习近平   \n",
       "2  1971-01-01  陕西省延川县文安驿公社梁家河大队知青、党支部书记  习近平   \n",
       "3  1972-01-01  陕西省延川县文安驿公社梁家河大队知青、党支部书记  习近平   \n",
       "4  1973-01-01  陕西省延川县文安驿公社梁家河大队知青、党支部书记  习近平   \n",
       "\n",
       "                                                           url location  \n",
       "0  http://cpc.people.com.cn/n1/2017/1025/c414940-29608803.html       陕西  \n",
       "1  http://cpc.people.com.cn/n1/2017/1025/c414940-29608803.html       陕西  \n",
       "2  http://cpc.people.com.cn/n1/2017/1025/c414940-29608803.html       陕西  \n",
       "3  http://cpc.people.com.cn/n1/2017/1025/c414940-29608803.html       陕西  \n",
       "4  http://cpc.people.com.cn/n1/2017/1025/c414940-29608803.html       陕西  "
      ]
     },
     "execution_count": 62,
     "metadata": {},
     "output_type": "execute_result"
    }
   ],
   "source": [
    "df_pl_resume.head()"
   ]
  },
  {
   "cell_type": "code",
   "execution_count": 63,
   "metadata": {},
   "outputs": [
    {
     "data": {
      "text/plain": [
       "(3349, 5)"
      ]
     },
     "execution_count": 63,
     "metadata": {},
     "output_type": "execute_result"
    }
   ],
   "source": [
    "df_pl_resume.shape"
   ]
  },
  {
   "cell_type": "code",
   "execution_count": 64,
   "metadata": {},
   "outputs": [],
   "source": [
    "df_test = df_pl_resume.merge(df_pl_info, left_on = \"url\", right_on = \"url\", how= \"outer\")"
   ]
  },
  {
   "cell_type": "code",
   "execution_count": 65,
   "metadata": {},
   "outputs": [],
   "source": [
    "df_test[\"name\"] = df_test[\"name_y\"]"
   ]
  },
  {
   "cell_type": "code",
   "execution_count": 66,
   "metadata": {},
   "outputs": [],
   "source": [
    "df_test.drop(columns = [\"name_x\", \"name_y\"], inplace = True)"
   ]
  },
  {
   "cell_type": "code",
   "execution_count": 67,
   "metadata": {},
   "outputs": [],
   "source": [
    "df_pl = df_test"
   ]
  },
  {
   "cell_type": "code",
   "execution_count": 68,
   "metadata": {},
   "outputs": [],
   "source": [
    "df_pl[\"year\"] = df_pl[\"year_clean\"]"
   ]
  },
  {
   "cell_type": "code",
   "execution_count": 69,
   "metadata": {},
   "outputs": [],
   "source": [
    "df_pl.drop(columns = [\"year_clean\"], inplace = True)"
   ]
  },
  {
   "cell_type": "code",
   "execution_count": 70,
   "metadata": {},
   "outputs": [
    {
     "data": {
      "text/plain": [
       "(3350, 14)"
      ]
     },
     "execution_count": 70,
     "metadata": {},
     "output_type": "execute_result"
    }
   ],
   "source": [
    "df_pl.shape"
   ]
  },
  {
   "cell_type": "markdown",
   "metadata": {},
   "source": [
    "## Join local gov info and resume"
   ]
  },
  {
   "cell_type": "code",
   "execution_count": 71,
   "metadata": {},
   "outputs": [],
   "source": [
    "df_ll_info = pd.read_csv(\"ll_info_clean.csv\")\n",
    "df_ll_resume = pd.read_csv(\"ll_resume_clean.csv\")"
   ]
  },
  {
   "cell_type": "code",
   "execution_count": 72,
   "metadata": {},
   "outputs": [
    {
     "data": {
      "text/plain": [
       "(1383, 11)"
      ]
     },
     "execution_count": 72,
     "metadata": {},
     "output_type": "execute_result"
    }
   ],
   "source": [
    "df_ll_info.shape"
   ]
  },
  {
   "cell_type": "code",
   "execution_count": 73,
   "metadata": {},
   "outputs": [
    {
     "data": {
      "text/plain": [
       "(34163, 5)"
      ]
     },
     "execution_count": 73,
     "metadata": {},
     "output_type": "execute_result"
    }
   ],
   "source": [
    "df_ll_resume.shape"
   ]
  },
  {
   "cell_type": "code",
   "execution_count": 74,
   "metadata": {},
   "outputs": [],
   "source": [
    "df_test = df_ll_resume.merge(df_ll_info, left_on = \"url\", right_on = \"url\", how= \"outer\")"
   ]
  },
  {
   "cell_type": "code",
   "execution_count": 75,
   "metadata": {},
   "outputs": [],
   "source": [
    "df_test[\"name\"] = df_test[\"name_y\"]"
   ]
  },
  {
   "cell_type": "code",
   "execution_count": 76,
   "metadata": {},
   "outputs": [],
   "source": [
    "df_test.drop(columns = [\"name_x\", \"name_y\"], inplace = True)"
   ]
  },
  {
   "cell_type": "code",
   "execution_count": 77,
   "metadata": {},
   "outputs": [],
   "source": [
    "df_ll = df_test"
   ]
  },
  {
   "cell_type": "markdown",
   "metadata": {},
   "source": [
    "### Combine pl & ll"
   ]
  },
  {
   "cell_type": "code",
   "execution_count": 78,
   "metadata": {},
   "outputs": [
    {
     "name": "stderr",
     "output_type": "stream",
     "text": [
      "C:\\Users\\Weihua\\AppData\\Local\\Programs\\Python\\Python36\\lib\\site-packages\\pandas\\core\\frame.py:6201: FutureWarning: Sorting because non-concatenation axis is not aligned. A future version\n",
      "of pandas will change to not sort by default.\n",
      "\n",
      "To accept the future behavior, pass 'sort=True'.\n",
      "\n",
      "To retain the current behavior and silence the warning, pass sort=False\n",
      "\n",
      "  sort=sort)\n"
     ]
    }
   ],
   "source": [
    "df = df_pl.append(df_ll)\n",
    "df.replace(\"新疆维吾尔\",\"新疆\", inplace = True)\n",
    "df.replace(\"内蒙\",\"内蒙古\", inplace = True)\n",
    "df.replace(\"黑龙\",\"黑龙江\", inplace = True)\n",
    "df.to_csv(\"resume_clean_chinese.csv\", index = False)"
   ]
  },
  {
   "cell_type": "code",
   "execution_count": 79,
   "metadata": {},
   "outputs": [
    {
     "name": "stderr",
     "output_type": "stream",
     "text": [
      "C:\\Users\\Weihua\\AppData\\Local\\Programs\\Python\\Python36\\lib\\site-packages\\pandas\\core\\frame.py:6201: FutureWarning: Sorting because non-concatenation axis is not aligned. A future version\n",
      "of pandas will change to not sort by default.\n",
      "\n",
      "To accept the future behavior, pass 'sort=True'.\n",
      "\n",
      "To retain the current behavior and silence the warning, pass sort=False\n",
      "\n",
      "  sort=sort)\n"
     ]
    }
   ],
   "source": [
    "df_info = df_pl_info.append(df_ll_info)\n",
    "df_info.to_csv(\"info_clean_chinese.csv\", index = False)"
   ]
  },
  {
   "cell_type": "code",
   "execution_count": 80,
   "metadata": {},
   "outputs": [
    {
     "data": {
      "text/html": [
       "<div>\n",
       "<style scoped>\n",
       "    .dataframe tbody tr th:only-of-type {\n",
       "        vertical-align: middle;\n",
       "    }\n",
       "\n",
       "    .dataframe tbody tr th {\n",
       "        vertical-align: top;\n",
       "    }\n",
       "\n",
       "    .dataframe thead th {\n",
       "        text-align: right;\n",
       "    }\n",
       "</style>\n",
       "<table border=\"1\" class=\"dataframe\">\n",
       "  <thead>\n",
       "    <tr style=\"text-align: right;\">\n",
       "      <th></th>\n",
       "      <th>age</th>\n",
       "      <th>content</th>\n",
       "      <th>dob_y</th>\n",
       "      <th>edu_dg</th>\n",
       "      <th>ethnic</th>\n",
       "      <th>gender</th>\n",
       "      <th>join_party_y</th>\n",
       "      <th>join_work_y</th>\n",
       "      <th>location</th>\n",
       "      <th>name</th>\n",
       "      <th>pob_p</th>\n",
       "      <th>province</th>\n",
       "      <th>url</th>\n",
       "      <th>year</th>\n",
       "    </tr>\n",
       "  </thead>\n",
       "  <tbody>\n",
       "    <tr>\n",
       "      <th>0</th>\n",
       "      <td>65.0</td>\n",
       "      <td>陕西省延川县文安驿公社梁家河大队知青、党支部书记</td>\n",
       "      <td>1953.0</td>\n",
       "      <td>研究生</td>\n",
       "      <td>汉族</td>\n",
       "      <td>男</td>\n",
       "      <td>1974.0</td>\n",
       "      <td>1969.0</td>\n",
       "      <td>陕西</td>\n",
       "      <td>习近平</td>\n",
       "      <td>陕西</td>\n",
       "      <td>central government</td>\n",
       "      <td>http://cpc.people.com.cn/n1/2017/1025/c414940-29608803.html</td>\n",
       "      <td>1969-01-01</td>\n",
       "    </tr>\n",
       "  </tbody>\n",
       "</table>\n",
       "</div>"
      ],
      "text/plain": [
       "    age                   content   dob_y edu_dg ethnic gender  join_party_y  \\\n",
       "0  65.0  陕西省延川县文安驿公社梁家河大队知青、党支部书记  1953.0    研究生     汉族      男        1974.0   \n",
       "\n",
       "   join_work_y location name pob_p            province  \\\n",
       "0       1969.0       陕西  习近平    陕西  central government   \n",
       "\n",
       "                                                           url        year  \n",
       "0  http://cpc.people.com.cn/n1/2017/1025/c414940-29608803.html  1969-01-01  "
      ]
     },
     "execution_count": 80,
     "metadata": {},
     "output_type": "execute_result"
    }
   ],
   "source": [
    "df.head(1)"
   ]
  },
  {
   "cell_type": "code",
   "execution_count": 81,
   "metadata": {},
   "outputs": [
    {
     "data": {
      "text/plain": [
       "(37615, 14)"
      ]
     },
     "execution_count": 81,
     "metadata": {},
     "output_type": "execute_result"
    }
   ],
   "source": [
    "df.shape"
   ]
  },
  {
   "cell_type": "markdown",
   "metadata": {},
   "source": [
    "### Keys\n",
    "#### - name\n",
    "#### - age\n",
    "#### - province: whether they are local officials or central government officials\n",
    "#### - current_title\n",
    "#### - edu_dg: their highest education degree\n",
    "#### - gender\n",
    "#### - ethnic\n",
    "#### - pob_p: province of birth\n",
    "#### - dob_y: which year they were born\n",
    "#### - join_party_y: which year they joined party (if they did at all)\n",
    "#### - join_work_y: which year they joined workforce\n",
    "##### - year\n",
    "##### - location\n",
    "##### - content: they were at {location} on {year} doing {content}\n",
    "#### - url"
   ]
  },
  {
   "cell_type": "markdown",
   "metadata": {},
   "source": [
    "### Now let's try some analysis"
   ]
  },
  {
   "cell_type": "code",
   "execution_count": 82,
   "metadata": {},
   "outputs": [],
   "source": [
    "df.dropna(subset = [\"year\", \"content\", \"name\"], inplace = True)"
   ]
  },
  {
   "cell_type": "markdown",
   "metadata": {},
   "source": [
    "### So I was born on June, 1994, in a city called Dalian, which is in Liaoning. I want to know: how many leaders were in Liaoning at the time I was born"
   ]
  },
  {
   "cell_type": "code",
   "execution_count": 83,
   "metadata": {},
   "outputs": [
    {
     "data": {
      "text/html": [
       "<div>\n",
       "<style scoped>\n",
       "    .dataframe tbody tr th:only-of-type {\n",
       "        vertical-align: middle;\n",
       "    }\n",
       "\n",
       "    .dataframe tbody tr th {\n",
       "        vertical-align: top;\n",
       "    }\n",
       "\n",
       "    .dataframe thead th {\n",
       "        text-align: right;\n",
       "    }\n",
       "</style>\n",
       "<table border=\"1\" class=\"dataframe\">\n",
       "  <thead>\n",
       "    <tr style=\"text-align: right;\">\n",
       "      <th></th>\n",
       "      <th>age</th>\n",
       "      <th>content</th>\n",
       "      <th>dob_y</th>\n",
       "      <th>edu_dg</th>\n",
       "      <th>ethnic</th>\n",
       "      <th>gender</th>\n",
       "      <th>join_party_y</th>\n",
       "      <th>join_work_y</th>\n",
       "      <th>location</th>\n",
       "      <th>name</th>\n",
       "      <th>pob_p</th>\n",
       "      <th>province</th>\n",
       "      <th>url</th>\n",
       "      <th>year</th>\n",
       "    </tr>\n",
       "  </thead>\n",
       "  <tbody>\n",
       "    <tr>\n",
       "      <th>532</th>\n",
       "      <td>68.0</td>\n",
       "      <td>辽宁省总工会主席、党组书记</td>\n",
       "      <td>1950.0</td>\n",
       "      <td>研究生</td>\n",
       "      <td>汉族</td>\n",
       "      <td>女</td>\n",
       "      <td>1973.0</td>\n",
       "      <td>1969.0</td>\n",
       "      <td>辽宁</td>\n",
       "      <td>孙春兰</td>\n",
       "      <td>河北</td>\n",
       "      <td>central government</td>\n",
       "      <td>http://cpc.people.com.cn/n1/2017/1025/c414940-29608815.html</td>\n",
       "      <td>1994-01-01</td>\n",
       "    </tr>\n",
       "    <tr>\n",
       "      <th>147</th>\n",
       "      <td>55.0</td>\n",
       "      <td>辽宁阜新矿业学院现辽宁工程技术大学矿山测量专业学习</td>\n",
       "      <td>1963.0</td>\n",
       "      <td>本科</td>\n",
       "      <td>汉族</td>\n",
       "      <td>男</td>\n",
       "      <td>1987.0</td>\n",
       "      <td>1983.0</td>\n",
       "      <td>辽宁</td>\n",
       "      <td>张瑞书</td>\n",
       "      <td>河北</td>\n",
       "      <td>河北</td>\n",
       "      <td>http://ldzl.people.com.cn/dfzlk/front/personPage11004.htm</td>\n",
       "      <td>1994-01-01</td>\n",
       "    </tr>\n",
       "    <tr>\n",
       "      <th>8290</th>\n",
       "      <td>55.0</td>\n",
       "      <td>辽宁省委党校青训班学员</td>\n",
       "      <td>1963.0</td>\n",
       "      <td>研究生</td>\n",
       "      <td>汉族</td>\n",
       "      <td>男</td>\n",
       "      <td>1984.0</td>\n",
       "      <td>1985.0</td>\n",
       "      <td>辽宁</td>\n",
       "      <td>王力威</td>\n",
       "      <td>辽宁</td>\n",
       "      <td>辽宁</td>\n",
       "      <td>http://ldzl.people.com.cn/dfzlk/front/personPage16131.htm</td>\n",
       "      <td>1994-01-01</td>\n",
       "    </tr>\n",
       "    <tr>\n",
       "      <th>8745</th>\n",
       "      <td>55.0</td>\n",
       "      <td>沈阳市团委副书记、书记、党组书记下派锻炼沈阳联营公司副总经理辽宁大学经济管理学院国民经济管理专业学习</td>\n",
       "      <td>1963.0</td>\n",
       "      <td>研究生</td>\n",
       "      <td>汉族</td>\n",
       "      <td>女</td>\n",
       "      <td>1985.0</td>\n",
       "      <td>1982.0</td>\n",
       "      <td>辽宁</td>\n",
       "      <td>范继英</td>\n",
       "      <td>辽宁</td>\n",
       "      <td>辽宁</td>\n",
       "      <td>http://ldzl.people.com.cn/dfzlk/front/personPage16204.htm</td>\n",
       "      <td>1994-01-01</td>\n",
       "    </tr>\n",
       "    <tr>\n",
       "      <th>10158</th>\n",
       "      <td>52.0</td>\n",
       "      <td>中国建设银行辽宁省分行办公室工作人员</td>\n",
       "      <td>1966.0</td>\n",
       "      <td>研究生</td>\n",
       "      <td>满族</td>\n",
       "      <td>男</td>\n",
       "      <td>1988.0</td>\n",
       "      <td>1991.0</td>\n",
       "      <td>辽宁</td>\n",
       "      <td>陈雍</td>\n",
       "      <td>辽宁</td>\n",
       "      <td>重庆</td>\n",
       "      <td>http://ldzl.people.com.cn/dfzlk/front/personPage16389.htm</td>\n",
       "      <td>1994-01-01</td>\n",
       "    </tr>\n",
       "    <tr>\n",
       "      <th>11101</th>\n",
       "      <td>57.0</td>\n",
       "      <td>博州审计局企业审计科科长辽宁省锦西市审计局商贸会计科副科长</td>\n",
       "      <td>1961.0</td>\n",
       "      <td>本科</td>\n",
       "      <td>蒙古族</td>\n",
       "      <td>男</td>\n",
       "      <td>1993.0</td>\n",
       "      <td>1984.0</td>\n",
       "      <td>辽宁</td>\n",
       "      <td>巴德玛拉</td>\n",
       "      <td>新疆</td>\n",
       "      <td>新疆</td>\n",
       "      <td>http://ldzl.people.com.cn/dfzlk/front/personPage16616.htm</td>\n",
       "      <td>1994-01-01</td>\n",
       "    </tr>\n",
       "    <tr>\n",
       "      <th>16047</th>\n",
       "      <td>50.0</td>\n",
       "      <td>辽宁省水利学校教师</td>\n",
       "      <td>1968.0</td>\n",
       "      <td>本科</td>\n",
       "      <td>满族</td>\n",
       "      <td>男</td>\n",
       "      <td>1996.0</td>\n",
       "      <td>1993.0</td>\n",
       "      <td>辽宁</td>\n",
       "      <td>李金科</td>\n",
       "      <td>辽宁</td>\n",
       "      <td>辽宁</td>\n",
       "      <td>http://ldzl.people.com.cn/dfzlk/front/personPage18723.htm</td>\n",
       "      <td>1994-01-01</td>\n",
       "    </tr>\n",
       "    <tr>\n",
       "      <th>18933</th>\n",
       "      <td>56.0</td>\n",
       "      <td>辽宁省建材局副局长、党组副书记</td>\n",
       "      <td>1962.0</td>\n",
       "      <td>研究生</td>\n",
       "      <td>汉族</td>\n",
       "      <td>男</td>\n",
       "      <td>1982.0</td>\n",
       "      <td>1983.0</td>\n",
       "      <td>辽宁</td>\n",
       "      <td>陈海波</td>\n",
       "      <td>吉林</td>\n",
       "      <td>黑龙江</td>\n",
       "      <td>http://ldzl.people.com.cn/dfzlk/front/personPage4150.htm</td>\n",
       "      <td>1994-01-01</td>\n",
       "    </tr>\n",
       "    <tr>\n",
       "      <th>19072</th>\n",
       "      <td>54.0</td>\n",
       "      <td>辽宁地质矿产研究所工作人员</td>\n",
       "      <td>1964.0</td>\n",
       "      <td>博士</td>\n",
       "      <td>满族</td>\n",
       "      <td>男</td>\n",
       "      <td>1985.0</td>\n",
       "      <td>1988.0</td>\n",
       "      <td>辽宁</td>\n",
       "      <td>蹇彪</td>\n",
       "      <td>辽宁</td>\n",
       "      <td>辽宁</td>\n",
       "      <td>http://ldzl.people.com.cn/dfzlk/front/personPage4170.htm</td>\n",
       "      <td>1994-01-01</td>\n",
       "    </tr>\n",
       "    <tr>\n",
       "      <th>19097</th>\n",
       "      <td>55.0</td>\n",
       "      <td>辽宁师范大学国际交流学院副院长副处级、国际文化交流中心总经理</td>\n",
       "      <td>1963.0</td>\n",
       "      <td>研究生</td>\n",
       "      <td>汉族</td>\n",
       "      <td>男</td>\n",
       "      <td>1987.0</td>\n",
       "      <td>1988.0</td>\n",
       "      <td>辽宁</td>\n",
       "      <td>王明玉</td>\n",
       "      <td>辽宁</td>\n",
       "      <td>辽宁</td>\n",
       "      <td>http://ldzl.people.com.cn/dfzlk/front/personPage4173.htm</td>\n",
       "      <td>1994-01-01</td>\n",
       "    </tr>\n",
       "    <tr>\n",
       "      <th>27086</th>\n",
       "      <td>62.0</td>\n",
       "      <td>辽宁省委组织部副部长</td>\n",
       "      <td>1956.0</td>\n",
       "      <td>研究生</td>\n",
       "      <td>汉族</td>\n",
       "      <td>男</td>\n",
       "      <td>1975.0</td>\n",
       "      <td>1975.0</td>\n",
       "      <td>辽宁</td>\n",
       "      <td>王东明</td>\n",
       "      <td>辽宁</td>\n",
       "      <td>四川</td>\n",
       "      <td>http://ldzl.people.com.cn/dfzlk/front/personPage4949.htm</td>\n",
       "      <td>1994-01-01</td>\n",
       "    </tr>\n",
       "    <tr>\n",
       "      <th>27492</th>\n",
       "      <td>63.0</td>\n",
       "      <td>辽宁财经学院财政金融系助教</td>\n",
       "      <td>1955.0</td>\n",
       "      <td>博士</td>\n",
       "      <td>汉族</td>\n",
       "      <td>男</td>\n",
       "      <td>NaN</td>\n",
       "      <td>1974.0</td>\n",
       "      <td>辽宁</td>\n",
       "      <td>夏德仁</td>\n",
       "      <td>山东</td>\n",
       "      <td>辽宁</td>\n",
       "      <td>http://ldzl.people.com.cn/dfzlk/front/personPage4983.htm</td>\n",
       "      <td>1994-01-01</td>\n",
       "    </tr>\n",
       "    <tr>\n",
       "      <th>29029</th>\n",
       "      <td>57.0</td>\n",
       "      <td>辽宁省科学技术委员会科技成果处副处长、处长</td>\n",
       "      <td>1961.0</td>\n",
       "      <td>博士</td>\n",
       "      <td>汉族</td>\n",
       "      <td>男</td>\n",
       "      <td>1985.0</td>\n",
       "      <td>1983.0</td>\n",
       "      <td>辽宁</td>\n",
       "      <td>李佳</td>\n",
       "      <td>辽宁</td>\n",
       "      <td>内蒙古</td>\n",
       "      <td>http://ldzl.people.com.cn/dfzlk/front/personPage5471.htm</td>\n",
       "      <td>1994-01-01</td>\n",
       "    </tr>\n",
       "    <tr>\n",
       "      <th>29817</th>\n",
       "      <td>54.0</td>\n",
       "      <td>辽宁省北镇县公安局副局长明确为正科级</td>\n",
       "      <td>1964.0</td>\n",
       "      <td>研究生</td>\n",
       "      <td>满族</td>\n",
       "      <td>男</td>\n",
       "      <td>1984.0</td>\n",
       "      <td>1980.0</td>\n",
       "      <td>辽宁</td>\n",
       "      <td>王立科</td>\n",
       "      <td>山东</td>\n",
       "      <td>江苏</td>\n",
       "      <td>http://ldzl.people.com.cn/dfzlk/front/personPage5968.htm</td>\n",
       "      <td>1994-01-01</td>\n",
       "    </tr>\n",
       "    <tr>\n",
       "      <th>29884</th>\n",
       "      <td>54.0</td>\n",
       "      <td>辽宁省经委技改处科员、副主科员、主科员、副处长</td>\n",
       "      <td>1964.0</td>\n",
       "      <td>研究生</td>\n",
       "      <td>汉族</td>\n",
       "      <td>男</td>\n",
       "      <td>1989.0</td>\n",
       "      <td>NaN</td>\n",
       "      <td>辽宁</td>\n",
       "      <td>裴伟东</td>\n",
       "      <td>内蒙古</td>\n",
       "      <td>辽宁</td>\n",
       "      <td>http://ldzl.people.com.cn/dfzlk/front/personPage5979.htm</td>\n",
       "      <td>1994-01-01</td>\n",
       "    </tr>\n",
       "    <tr>\n",
       "      <th>30729</th>\n",
       "      <td>57.0</td>\n",
       "      <td>辽宁省营口市纪委办公室干部、调研室科级检查员、党风管理室副主、党风廉政建设室副主</td>\n",
       "      <td>1961.0</td>\n",
       "      <td>本科</td>\n",
       "      <td>汉族</td>\n",
       "      <td>女</td>\n",
       "      <td>1983.0</td>\n",
       "      <td>1983.0</td>\n",
       "      <td>辽宁</td>\n",
       "      <td>黄晓薇</td>\n",
       "      <td>辽宁</td>\n",
       "      <td>山西</td>\n",
       "      <td>http://ldzl.people.com.cn/dfzlk/front/personPage6332.htm</td>\n",
       "      <td>1994-01-01</td>\n",
       "    </tr>\n",
       "  </tbody>\n",
       "</table>\n",
       "</div>"
      ],
      "text/plain": [
       "        age                                             content   dob_y  \\\n",
       "532    68.0                                       辽宁省总工会主席、党组书记  1950.0   \n",
       "147    55.0                           辽宁阜新矿业学院现辽宁工程技术大学矿山测量专业学习  1963.0   \n",
       "8290   55.0                                         辽宁省委党校青训班学员  1963.0   \n",
       "8745   55.0  沈阳市团委副书记、书记、党组书记下派锻炼沈阳联营公司副总经理辽宁大学经济管理学院国民经济管理专业学习  1963.0   \n",
       "10158  52.0                                  中国建设银行辽宁省分行办公室工作人员  1966.0   \n",
       "11101  57.0                       博州审计局企业审计科科长辽宁省锦西市审计局商贸会计科副科长  1961.0   \n",
       "16047  50.0                                           辽宁省水利学校教师  1968.0   \n",
       "18933  56.0                                     辽宁省建材局副局长、党组副书记  1962.0   \n",
       "19072  54.0                                       辽宁地质矿产研究所工作人员  1964.0   \n",
       "19097  55.0                      辽宁师范大学国际交流学院副院长副处级、国际文化交流中心总经理  1963.0   \n",
       "27086  62.0                                          辽宁省委组织部副部长  1956.0   \n",
       "27492  63.0                                       辽宁财经学院财政金融系助教  1955.0   \n",
       "29029  57.0                               辽宁省科学技术委员会科技成果处副处长、处长  1961.0   \n",
       "29817  54.0                                  辽宁省北镇县公安局副局长明确为正科级  1964.0   \n",
       "29884  54.0                             辽宁省经委技改处科员、副主科员、主科员、副处长  1964.0   \n",
       "30729  57.0            辽宁省营口市纪委办公室干部、调研室科级检查员、党风管理室副主、党风廉政建设室副主  1961.0   \n",
       "\n",
       "      edu_dg ethnic gender  join_party_y  join_work_y location  name pob_p  \\\n",
       "532      研究生     汉族      女        1973.0       1969.0       辽宁   孙春兰    河北   \n",
       "147       本科     汉族      男        1987.0       1983.0       辽宁   张瑞书    河北   \n",
       "8290     研究生     汉族      男        1984.0       1985.0       辽宁   王力威    辽宁   \n",
       "8745     研究生     汉族      女        1985.0       1982.0       辽宁   范继英    辽宁   \n",
       "10158    研究生     满族      男        1988.0       1991.0       辽宁    陈雍    辽宁   \n",
       "11101     本科    蒙古族      男        1993.0       1984.0       辽宁  巴德玛拉    新疆   \n",
       "16047     本科     满族      男        1996.0       1993.0       辽宁   李金科    辽宁   \n",
       "18933    研究生     汉族      男        1982.0       1983.0       辽宁   陈海波    吉林   \n",
       "19072     博士     满族      男        1985.0       1988.0       辽宁    蹇彪    辽宁   \n",
       "19097    研究生     汉族      男        1987.0       1988.0       辽宁   王明玉    辽宁   \n",
       "27086    研究生     汉族      男        1975.0       1975.0       辽宁   王东明    辽宁   \n",
       "27492     博士     汉族      男           NaN       1974.0       辽宁   夏德仁    山东   \n",
       "29029     博士     汉族      男        1985.0       1983.0       辽宁    李佳    辽宁   \n",
       "29817    研究生     满族      男        1984.0       1980.0       辽宁   王立科    山东   \n",
       "29884    研究生     汉族      男        1989.0          NaN       辽宁   裴伟东   内蒙古   \n",
       "30729     本科     汉族      女        1983.0       1983.0       辽宁   黄晓薇    辽宁   \n",
       "\n",
       "                 province  \\\n",
       "532    central government   \n",
       "147                    河北   \n",
       "8290                   辽宁   \n",
       "8745                   辽宁   \n",
       "10158                  重庆   \n",
       "11101                  新疆   \n",
       "16047                  辽宁   \n",
       "18933                 黑龙江   \n",
       "19072                  辽宁   \n",
       "19097                  辽宁   \n",
       "27086                  四川   \n",
       "27492                  辽宁   \n",
       "29029                 内蒙古   \n",
       "29817                  江苏   \n",
       "29884                  辽宁   \n",
       "30729                  山西   \n",
       "\n",
       "                                                               url        year  \n",
       "532    http://cpc.people.com.cn/n1/2017/1025/c414940-29608815.html  1994-01-01  \n",
       "147      http://ldzl.people.com.cn/dfzlk/front/personPage11004.htm  1994-01-01  \n",
       "8290     http://ldzl.people.com.cn/dfzlk/front/personPage16131.htm  1994-01-01  \n",
       "8745     http://ldzl.people.com.cn/dfzlk/front/personPage16204.htm  1994-01-01  \n",
       "10158    http://ldzl.people.com.cn/dfzlk/front/personPage16389.htm  1994-01-01  \n",
       "11101    http://ldzl.people.com.cn/dfzlk/front/personPage16616.htm  1994-01-01  \n",
       "16047    http://ldzl.people.com.cn/dfzlk/front/personPage18723.htm  1994-01-01  \n",
       "18933     http://ldzl.people.com.cn/dfzlk/front/personPage4150.htm  1994-01-01  \n",
       "19072     http://ldzl.people.com.cn/dfzlk/front/personPage4170.htm  1994-01-01  \n",
       "19097     http://ldzl.people.com.cn/dfzlk/front/personPage4173.htm  1994-01-01  \n",
       "27086     http://ldzl.people.com.cn/dfzlk/front/personPage4949.htm  1994-01-01  \n",
       "27492     http://ldzl.people.com.cn/dfzlk/front/personPage4983.htm  1994-01-01  \n",
       "29029     http://ldzl.people.com.cn/dfzlk/front/personPage5471.htm  1994-01-01  \n",
       "29817     http://ldzl.people.com.cn/dfzlk/front/personPage5968.htm  1994-01-01  \n",
       "29884     http://ldzl.people.com.cn/dfzlk/front/personPage5979.htm  1994-01-01  \n",
       "30729     http://ldzl.people.com.cn/dfzlk/front/personPage6332.htm  1994-01-01  "
      ]
     },
     "execution_count": 83,
     "metadata": {},
     "output_type": "execute_result"
    }
   ],
   "source": [
    "df[(df.year == \"1994-01-01\") & (df.location == \"辽宁\")]"
   ]
  },
  {
   "cell_type": "markdown",
   "metadata": {},
   "source": [
    "### Of 1400~ people I got in the database, what's the percentage for men and women?"
   ]
  },
  {
   "cell_type": "code",
   "execution_count": 32,
   "metadata": {},
   "outputs": [
    {
     "data": {
      "text/plain": [
       "男    92.28631\n",
       "女     7.71369\n",
       "Name: gender, dtype: float64"
      ]
     },
     "execution_count": 32,
     "metadata": {},
     "output_type": "execute_result"
    }
   ],
   "source": [
    "df_info.gender.value_counts(normalize = True)*100\n",
    "\n",
    "# 男 means male\n",
    "# 女 means female"
   ]
  },
  {
   "cell_type": "markdown",
   "metadata": {},
   "source": [
    "### Now I will get coordinates for the following:\n",
    "\n",
    "#### location\n",
    "#### pob_p\n",
    "#### province\n",
    "\n",
    "### which is basically everything except for content, because I don't want to pay for google translate"
   ]
  },
  {
   "cell_type": "markdown",
   "metadata": {},
   "source": [
    "#### first, get all location, pob_p, and province value"
   ]
  },
  {
   "cell_type": "code",
   "execution_count": 136,
   "metadata": {},
   "outputs": [],
   "source": [
    "loc = df[\"location\"].value_counts().reset_index()"
   ]
  },
  {
   "cell_type": "code",
   "execution_count": 137,
   "metadata": {},
   "outputs": [],
   "source": [
    "pob = df[\"pob_p\"].value_counts().reset_index()"
   ]
  },
  {
   "cell_type": "code",
   "execution_count": 138,
   "metadata": {},
   "outputs": [],
   "source": [
    "prov = df[\"province\"].value_counts().reset_index()"
   ]
  },
  {
   "cell_type": "code",
   "execution_count": 113,
   "metadata": {},
   "outputs": [
    {
     "name": "stderr",
     "output_type": "stream",
     "text": [
      "C:\\Users\\Weihua\\AppData\\Local\\Programs\\Python\\Python36\\lib\\site-packages\\pandas\\core\\frame.py:6201: FutureWarning: Sorting because non-concatenation axis is not aligned. A future version\n",
      "of pandas will change to not sort by default.\n",
      "\n",
      "To accept the future behavior, pass 'sort=True'.\n",
      "\n",
      "To retain the current behavior and silence the warning, pass sort=False\n",
      "\n",
      "  sort=sort)\n"
     ]
    }
   ],
   "source": [
    "df1= loc.append(pob)"
   ]
  },
  {
   "cell_type": "code",
   "execution_count": 114,
   "metadata": {},
   "outputs": [
    {
     "name": "stderr",
     "output_type": "stream",
     "text": [
      "C:\\Users\\Weihua\\AppData\\Local\\Programs\\Python\\Python36\\lib\\site-packages\\pandas\\core\\frame.py:6201: FutureWarning: Sorting because non-concatenation axis is not aligned. A future version\n",
      "of pandas will change to not sort by default.\n",
      "\n",
      "To accept the future behavior, pass 'sort=True'.\n",
      "\n",
      "To retain the current behavior and silence the warning, pass sort=False\n",
      "\n",
      "  sort=sort)\n"
     ]
    }
   ],
   "source": [
    "df1= df1.append(prov)"
   ]
  },
  {
   "cell_type": "code",
   "execution_count": 115,
   "metadata": {},
   "outputs": [],
   "source": [
    "df1.drop(columns = [\"location\", \"pob_p\", \"province\"], inplace = True)"
   ]
  },
  {
   "cell_type": "code",
   "execution_count": 116,
   "metadata": {},
   "outputs": [
    {
     "data": {
      "text/html": [
       "<div>\n",
       "<style scoped>\n",
       "    .dataframe tbody tr th:only-of-type {\n",
       "        vertical-align: middle;\n",
       "    }\n",
       "\n",
       "    .dataframe tbody tr th {\n",
       "        vertical-align: top;\n",
       "    }\n",
       "\n",
       "    .dataframe thead th {\n",
       "        text-align: right;\n",
       "    }\n",
       "</style>\n",
       "<table border=\"1\" class=\"dataframe\">\n",
       "  <thead>\n",
       "    <tr style=\"text-align: right;\">\n",
       "      <th></th>\n",
       "      <th>index</th>\n",
       "    </tr>\n",
       "  </thead>\n",
       "  <tbody>\n",
       "    <tr>\n",
       "      <th>0</th>\n",
       "      <td>北京</td>\n",
       "    </tr>\n",
       "    <tr>\n",
       "      <th>1</th>\n",
       "      <td>重庆</td>\n",
       "    </tr>\n",
       "    <tr>\n",
       "      <th>2</th>\n",
       "      <td>四川</td>\n",
       "    </tr>\n",
       "    <tr>\n",
       "      <th>3</th>\n",
       "      <td>河南</td>\n",
       "    </tr>\n",
       "    <tr>\n",
       "      <th>4</th>\n",
       "      <td>天津</td>\n",
       "    </tr>\n",
       "    <tr>\n",
       "      <th>5</th>\n",
       "      <td>广西</td>\n",
       "    </tr>\n",
       "    <tr>\n",
       "      <th>6</th>\n",
       "      <td>内蒙古</td>\n",
       "    </tr>\n",
       "    <tr>\n",
       "      <th>7</th>\n",
       "      <td>西藏</td>\n",
       "    </tr>\n",
       "    <tr>\n",
       "      <th>8</th>\n",
       "      <td>山东</td>\n",
       "    </tr>\n",
       "    <tr>\n",
       "      <th>9</th>\n",
       "      <td>湖南</td>\n",
       "    </tr>\n",
       "    <tr>\n",
       "      <th>10</th>\n",
       "      <td>新疆</td>\n",
       "    </tr>\n",
       "    <tr>\n",
       "      <th>11</th>\n",
       "      <td>贵州</td>\n",
       "    </tr>\n",
       "    <tr>\n",
       "      <th>12</th>\n",
       "      <td>安徽</td>\n",
       "    </tr>\n",
       "    <tr>\n",
       "      <th>13</th>\n",
       "      <td>湖北</td>\n",
       "    </tr>\n",
       "    <tr>\n",
       "      <th>14</th>\n",
       "      <td>江西</td>\n",
       "    </tr>\n",
       "    <tr>\n",
       "      <th>15</th>\n",
       "      <td>上海</td>\n",
       "    </tr>\n",
       "    <tr>\n",
       "      <th>16</th>\n",
       "      <td>河北</td>\n",
       "    </tr>\n",
       "    <tr>\n",
       "      <th>17</th>\n",
       "      <td>甘肃</td>\n",
       "    </tr>\n",
       "    <tr>\n",
       "      <th>18</th>\n",
       "      <td>黑龙江</td>\n",
       "    </tr>\n",
       "    <tr>\n",
       "      <th>19</th>\n",
       "      <td>青海</td>\n",
       "    </tr>\n",
       "    <tr>\n",
       "      <th>20</th>\n",
       "      <td>广东</td>\n",
       "    </tr>\n",
       "    <tr>\n",
       "      <th>21</th>\n",
       "      <td>吉林</td>\n",
       "    </tr>\n",
       "    <tr>\n",
       "      <th>22</th>\n",
       "      <td>浙江</td>\n",
       "    </tr>\n",
       "    <tr>\n",
       "      <th>23</th>\n",
       "      <td>辽宁</td>\n",
       "    </tr>\n",
       "    <tr>\n",
       "      <th>24</th>\n",
       "      <td>云南</td>\n",
       "    </tr>\n",
       "    <tr>\n",
       "      <th>25</th>\n",
       "      <td>江苏</td>\n",
       "    </tr>\n",
       "    <tr>\n",
       "      <th>26</th>\n",
       "      <td>山西</td>\n",
       "    </tr>\n",
       "    <tr>\n",
       "      <th>27</th>\n",
       "      <td>福建</td>\n",
       "    </tr>\n",
       "    <tr>\n",
       "      <th>28</th>\n",
       "      <td>陕西</td>\n",
       "    </tr>\n",
       "    <tr>\n",
       "      <th>29</th>\n",
       "      <td>海南</td>\n",
       "    </tr>\n",
       "    <tr>\n",
       "      <th>30</th>\n",
       "      <td>解放军</td>\n",
       "    </tr>\n",
       "    <tr>\n",
       "      <th>31</th>\n",
       "      <td>宁夏</td>\n",
       "    </tr>\n",
       "    <tr>\n",
       "      <th>32</th>\n",
       "      <td>美国</td>\n",
       "    </tr>\n",
       "    <tr>\n",
       "      <th>33</th>\n",
       "      <td>深圳</td>\n",
       "    </tr>\n",
       "    <tr>\n",
       "      <th>34</th>\n",
       "      <td>香港</td>\n",
       "    </tr>\n",
       "    <tr>\n",
       "      <th>35</th>\n",
       "      <td>德国</td>\n",
       "    </tr>\n",
       "    <tr>\n",
       "      <th>36</th>\n",
       "      <td>英国</td>\n",
       "    </tr>\n",
       "    <tr>\n",
       "      <th>37</th>\n",
       "      <td>法国</td>\n",
       "    </tr>\n",
       "    <tr>\n",
       "      <th>38</th>\n",
       "      <td>澳门</td>\n",
       "    </tr>\n",
       "    <tr>\n",
       "      <th>39</th>\n",
       "      <td>加拿大</td>\n",
       "    </tr>\n",
       "    <tr>\n",
       "      <th>40</th>\n",
       "      <td>台湾</td>\n",
       "    </tr>\n",
       "    <tr>\n",
       "      <th>41</th>\n",
       "      <td>日本</td>\n",
       "    </tr>\n",
       "    <tr>\n",
       "      <th>0</th>\n",
       "      <td>山东</td>\n",
       "    </tr>\n",
       "    <tr>\n",
       "      <th>1</th>\n",
       "      <td>河南</td>\n",
       "    </tr>\n",
       "    <tr>\n",
       "      <th>2</th>\n",
       "      <td>河北</td>\n",
       "    </tr>\n",
       "    <tr>\n",
       "      <th>3</th>\n",
       "      <td>湖南</td>\n",
       "    </tr>\n",
       "    <tr>\n",
       "      <th>4</th>\n",
       "      <td>重庆</td>\n",
       "    </tr>\n",
       "    <tr>\n",
       "      <th>5</th>\n",
       "      <td>江苏</td>\n",
       "    </tr>\n",
       "    <tr>\n",
       "      <th>6</th>\n",
       "      <td>湖北</td>\n",
       "    </tr>\n",
       "    <tr>\n",
       "      <th>7</th>\n",
       "      <td>安徽</td>\n",
       "    </tr>\n",
       "    <tr>\n",
       "      <th>8</th>\n",
       "      <td>四川</td>\n",
       "    </tr>\n",
       "    <tr>\n",
       "      <th>9</th>\n",
       "      <td>浙江</td>\n",
       "    </tr>\n",
       "    <tr>\n",
       "      <th>10</th>\n",
       "      <td>辽宁</td>\n",
       "    </tr>\n",
       "    <tr>\n",
       "      <th>11</th>\n",
       "      <td>江西</td>\n",
       "    </tr>\n",
       "    <tr>\n",
       "      <th>12</th>\n",
       "      <td>山西</td>\n",
       "    </tr>\n",
       "    <tr>\n",
       "      <th>13</th>\n",
       "      <td>广东</td>\n",
       "    </tr>\n",
       "    <tr>\n",
       "      <th>14</th>\n",
       "      <td>甘肃</td>\n",
       "    </tr>\n",
       "    <tr>\n",
       "      <th>15</th>\n",
       "      <td>内蒙古</td>\n",
       "    </tr>\n",
       "    <tr>\n",
       "      <th>16</th>\n",
       "      <td>云南</td>\n",
       "    </tr>\n",
       "    <tr>\n",
       "      <th>17</th>\n",
       "      <td>广西</td>\n",
       "    </tr>\n",
       "    <tr>\n",
       "      <th>18</th>\n",
       "      <td>陕西</td>\n",
       "    </tr>\n",
       "    <tr>\n",
       "      <th>19</th>\n",
       "      <td>福建</td>\n",
       "    </tr>\n",
       "    <tr>\n",
       "      <th>20</th>\n",
       "      <td>吉林</td>\n",
       "    </tr>\n",
       "    <tr>\n",
       "      <th>21</th>\n",
       "      <td>新疆</td>\n",
       "    </tr>\n",
       "    <tr>\n",
       "      <th>22</th>\n",
       "      <td>贵州</td>\n",
       "    </tr>\n",
       "    <tr>\n",
       "      <th>23</th>\n",
       "      <td>青海</td>\n",
       "    </tr>\n",
       "    <tr>\n",
       "      <th>24</th>\n",
       "      <td>黑龙江</td>\n",
       "    </tr>\n",
       "    <tr>\n",
       "      <th>25</th>\n",
       "      <td>天津</td>\n",
       "    </tr>\n",
       "    <tr>\n",
       "      <th>26</th>\n",
       "      <td>西藏</td>\n",
       "    </tr>\n",
       "    <tr>\n",
       "      <th>27</th>\n",
       "      <td>宁夏</td>\n",
       "    </tr>\n",
       "    <tr>\n",
       "      <th>28</th>\n",
       "      <td>北京</td>\n",
       "    </tr>\n",
       "    <tr>\n",
       "      <th>29</th>\n",
       "      <td>上海</td>\n",
       "    </tr>\n",
       "    <tr>\n",
       "      <th>30</th>\n",
       "      <td>海南</td>\n",
       "    </tr>\n",
       "    <tr>\n",
       "      <th>31</th>\n",
       "      <td>台湾</td>\n",
       "    </tr>\n",
       "    <tr>\n",
       "      <th>32</th>\n",
       "      <td>澳门</td>\n",
       "    </tr>\n",
       "    <tr>\n",
       "      <th>0</th>\n",
       "      <td>central government</td>\n",
       "    </tr>\n",
       "    <tr>\n",
       "      <th>1</th>\n",
       "      <td>重庆</td>\n",
       "    </tr>\n",
       "    <tr>\n",
       "      <th>2</th>\n",
       "      <td>四川</td>\n",
       "    </tr>\n",
       "    <tr>\n",
       "      <th>3</th>\n",
       "      <td>河南</td>\n",
       "    </tr>\n",
       "    <tr>\n",
       "      <th>4</th>\n",
       "      <td>广东</td>\n",
       "    </tr>\n",
       "    <tr>\n",
       "      <th>5</th>\n",
       "      <td>广西</td>\n",
       "    </tr>\n",
       "    <tr>\n",
       "      <th>6</th>\n",
       "      <td>新疆</td>\n",
       "    </tr>\n",
       "    <tr>\n",
       "      <th>7</th>\n",
       "      <td>湖南</td>\n",
       "    </tr>\n",
       "    <tr>\n",
       "      <th>8</th>\n",
       "      <td>内蒙古</td>\n",
       "    </tr>\n",
       "    <tr>\n",
       "      <th>9</th>\n",
       "      <td>安徽</td>\n",
       "    </tr>\n",
       "    <tr>\n",
       "      <th>10</th>\n",
       "      <td>河北</td>\n",
       "    </tr>\n",
       "    <tr>\n",
       "      <th>11</th>\n",
       "      <td>黑龙江</td>\n",
       "    </tr>\n",
       "    <tr>\n",
       "      <th>12</th>\n",
       "      <td>江西</td>\n",
       "    </tr>\n",
       "    <tr>\n",
       "      <th>13</th>\n",
       "      <td>湖北</td>\n",
       "    </tr>\n",
       "    <tr>\n",
       "      <th>14</th>\n",
       "      <td>天津</td>\n",
       "    </tr>\n",
       "    <tr>\n",
       "      <th>15</th>\n",
       "      <td>西藏</td>\n",
       "    </tr>\n",
       "    <tr>\n",
       "      <th>16</th>\n",
       "      <td>甘肃</td>\n",
       "    </tr>\n",
       "    <tr>\n",
       "      <th>17</th>\n",
       "      <td>贵州</td>\n",
       "    </tr>\n",
       "    <tr>\n",
       "      <th>18</th>\n",
       "      <td>江苏</td>\n",
       "    </tr>\n",
       "    <tr>\n",
       "      <th>19</th>\n",
       "      <td>山西</td>\n",
       "    </tr>\n",
       "    <tr>\n",
       "      <th>20</th>\n",
       "      <td>云南</td>\n",
       "    </tr>\n",
       "    <tr>\n",
       "      <th>21</th>\n",
       "      <td>山东</td>\n",
       "    </tr>\n",
       "    <tr>\n",
       "      <th>22</th>\n",
       "      <td>辽宁</td>\n",
       "    </tr>\n",
       "    <tr>\n",
       "      <th>23</th>\n",
       "      <td>青海</td>\n",
       "    </tr>\n",
       "    <tr>\n",
       "      <th>24</th>\n",
       "      <td>吉林</td>\n",
       "    </tr>\n",
       "    <tr>\n",
       "      <th>25</th>\n",
       "      <td>宁夏</td>\n",
       "    </tr>\n",
       "    <tr>\n",
       "      <th>26</th>\n",
       "      <td>海南</td>\n",
       "    </tr>\n",
       "    <tr>\n",
       "      <th>27</th>\n",
       "      <td>福建</td>\n",
       "    </tr>\n",
       "    <tr>\n",
       "      <th>28</th>\n",
       "      <td>陕西</td>\n",
       "    </tr>\n",
       "    <tr>\n",
       "      <th>29</th>\n",
       "      <td>北京</td>\n",
       "    </tr>\n",
       "    <tr>\n",
       "      <th>30</th>\n",
       "      <td>浙江</td>\n",
       "    </tr>\n",
       "    <tr>\n",
       "      <th>31</th>\n",
       "      <td>上海</td>\n",
       "    </tr>\n",
       "    <tr>\n",
       "      <th>32</th>\n",
       "      <td>香港</td>\n",
       "    </tr>\n",
       "    <tr>\n",
       "      <th>33</th>\n",
       "      <td>澳门</td>\n",
       "    </tr>\n",
       "  </tbody>\n",
       "</table>\n",
       "</div>"
      ],
      "text/plain": [
       "                 index\n",
       "0                   北京\n",
       "1                   重庆\n",
       "2                   四川\n",
       "3                   河南\n",
       "4                   天津\n",
       "5                   广西\n",
       "6                  内蒙古\n",
       "7                   西藏\n",
       "8                   山东\n",
       "9                   湖南\n",
       "10                  新疆\n",
       "11                  贵州\n",
       "12                  安徽\n",
       "13                  湖北\n",
       "14                  江西\n",
       "15                  上海\n",
       "16                  河北\n",
       "17                  甘肃\n",
       "18                 黑龙江\n",
       "19                  青海\n",
       "20                  广东\n",
       "21                  吉林\n",
       "22                  浙江\n",
       "23                  辽宁\n",
       "24                  云南\n",
       "25                  江苏\n",
       "26                  山西\n",
       "27                  福建\n",
       "28                  陕西\n",
       "29                  海南\n",
       "30                 解放军\n",
       "31                  宁夏\n",
       "32                  美国\n",
       "33                  深圳\n",
       "34                  香港\n",
       "35                  德国\n",
       "36                  英国\n",
       "37                  法国\n",
       "38                  澳门\n",
       "39                 加拿大\n",
       "40                  台湾\n",
       "41                  日本\n",
       "0                   山东\n",
       "1                   河南\n",
       "2                   河北\n",
       "3                   湖南\n",
       "4                   重庆\n",
       "5                   江苏\n",
       "6                   湖北\n",
       "7                   安徽\n",
       "8                   四川\n",
       "9                   浙江\n",
       "10                  辽宁\n",
       "11                  江西\n",
       "12                  山西\n",
       "13                  广东\n",
       "14                  甘肃\n",
       "15                 内蒙古\n",
       "16                  云南\n",
       "17                  广西\n",
       "18                  陕西\n",
       "19                  福建\n",
       "20                  吉林\n",
       "21                  新疆\n",
       "22                  贵州\n",
       "23                  青海\n",
       "24                 黑龙江\n",
       "25                  天津\n",
       "26                  西藏\n",
       "27                  宁夏\n",
       "28                  北京\n",
       "29                  上海\n",
       "30                  海南\n",
       "31                  台湾\n",
       "32                  澳门\n",
       "0   central government\n",
       "1                   重庆\n",
       "2                   四川\n",
       "3                   河南\n",
       "4                   广东\n",
       "5                   广西\n",
       "6                   新疆\n",
       "7                   湖南\n",
       "8                  内蒙古\n",
       "9                   安徽\n",
       "10                  河北\n",
       "11                 黑龙江\n",
       "12                  江西\n",
       "13                  湖北\n",
       "14                  天津\n",
       "15                  西藏\n",
       "16                  甘肃\n",
       "17                  贵州\n",
       "18                  江苏\n",
       "19                  山西\n",
       "20                  云南\n",
       "21                  山东\n",
       "22                  辽宁\n",
       "23                  青海\n",
       "24                  吉林\n",
       "25                  宁夏\n",
       "26                  海南\n",
       "27                  福建\n",
       "28                  陕西\n",
       "29                  北京\n",
       "30                  浙江\n",
       "31                  上海\n",
       "32                  香港\n",
       "33                  澳门"
      ]
     },
     "execution_count": 116,
     "metadata": {},
     "output_type": "execute_result"
    }
   ],
   "source": [
    "df1"
   ]
  },
  {
   "cell_type": "code",
   "execution_count": 117,
   "metadata": {},
   "outputs": [],
   "source": [
    "df1 = df1[\"index\"].value_counts().reset_index()"
   ]
  },
  {
   "cell_type": "code",
   "execution_count": 118,
   "metadata": {},
   "outputs": [],
   "source": [
    "df1 = df1[(df1[\"level_0\"] != \"central government\") & (df1[\"level_0\"] != \"解放军\") & (df1[\"level_0\"] != \"加拿大\") & (df1[\"level_0\"] != \"日本\") & (df1[\"level_0\"] != \"德国\") & (df1[\"level_0\"] != \"美国\") & (df1[\"level_0\"] != \"英国\") & (df1[\"level_0\"] != \"法国\")]"
   ]
  },
  {
   "cell_type": "markdown",
   "metadata": {},
   "source": [
    "### Get coordinates for every place in df1"
   ]
  },
  {
   "cell_type": "code",
   "execution_count": 119,
   "metadata": {},
   "outputs": [],
   "source": [
    "def get_latitude(row):\n",
    "    if row[\"location\"] == \"海南\":\n",
    "        latitude = geocoder.baidu(\"海南省\", key=\"mykey\").json[\"lat\"]\n",
    "\n",
    "    else:\n",
    "        latitude = geocoder.baidu(row[\"location\"], key='mykey').json[\"lat\"]\n",
    "    time.sleep(1)\n",
    "\n",
    "    return latitude"
   ]
  },
  {
   "cell_type": "code",
   "execution_count": 120,
   "metadata": {},
   "outputs": [],
   "source": [
    "def get_longitude(row):\n",
    "    if row[\"location\"] == \"海南\":\n",
    "        longitude = geocoder.baidu(\"海南省\", key='mykey').json[\"lng\"]\n",
    "    else:\n",
    "        longitude = geocoder.baidu(row[\"location\"], key='mykey').json[\"lng\"]\n",
    "    time.sleep(1)\n",
    "    \n",
    "    return longitude"
   ]
  },
  {
   "cell_type": "code",
   "execution_count": 121,
   "metadata": {},
   "outputs": [],
   "source": [
    "df1[\"location\"] = df1[\"level_0\"]"
   ]
  },
  {
   "cell_type": "code",
   "execution_count": 122,
   "metadata": {},
   "outputs": [],
   "source": [
    "df1.drop(columns = [\"index\", \"level_0\"], inplace = True)"
   ]
  },
  {
   "cell_type": "code",
   "execution_count": 123,
   "metadata": {},
   "outputs": [],
   "source": [
    "df2 = df1"
   ]
  },
  {
   "cell_type": "code",
   "execution_count": 124,
   "metadata": {},
   "outputs": [],
   "source": [
    "df2[\"latitude\"] = df2.apply(get_latitude, axis=1)"
   ]
  },
  {
   "cell_type": "code",
   "execution_count": 125,
   "metadata": {},
   "outputs": [],
   "source": [
    "df2[\"longitude\"] = df2.apply(get_longitude, axis=1)"
   ]
  },
  {
   "cell_type": "code",
   "execution_count": 155,
   "metadata": {},
   "outputs": [],
   "source": [
    "df_test = df.merge(df2, left_on = \"location\", right_on = \"location\", how= \"outer\")"
   ]
  },
  {
   "cell_type": "code",
   "execution_count": 156,
   "metadata": {},
   "outputs": [],
   "source": [
    "df_test[\"location_lat\"] = df_test[\"latitude\"]\n",
    "df_test[\"location_lng\"] = df_test[\"longitude\"]"
   ]
  },
  {
   "cell_type": "code",
   "execution_count": 157,
   "metadata": {},
   "outputs": [],
   "source": [
    "df_test.drop(columns = [\"latitude\", \"longitude\"], inplace = True)"
   ]
  },
  {
   "cell_type": "code",
   "execution_count": 158,
   "metadata": {},
   "outputs": [],
   "source": [
    "df_test = df_test.merge(df2, left_on = \"pob_p\", right_on = \"location\", how= \"outer\")"
   ]
  },
  {
   "cell_type": "code",
   "execution_count": 159,
   "metadata": {},
   "outputs": [],
   "source": [
    "df_test[\"pob_lat\"] = df_test[\"latitude\"]\n",
    "df_test[\"pob_lng\"] = df_test[\"longitude\"]"
   ]
  },
  {
   "cell_type": "code",
   "execution_count": 160,
   "metadata": {},
   "outputs": [],
   "source": [
    "df_test.drop(columns = [\"latitude\", \"longitude\"], inplace = True)"
   ]
  },
  {
   "cell_type": "code",
   "execution_count": 161,
   "metadata": {},
   "outputs": [],
   "source": [
    "df_test = df_test.merge(df2, left_on = \"province\", right_on = \"location\", how= \"outer\")"
   ]
  },
  {
   "cell_type": "code",
   "execution_count": 162,
   "metadata": {},
   "outputs": [],
   "source": [
    "df_test[\"province_lat\"] = df_test[\"latitude\"]\n",
    "df_test[\"province_lng\"] = df_test[\"longitude\"]"
   ]
  },
  {
   "cell_type": "code",
   "execution_count": 163,
   "metadata": {},
   "outputs": [],
   "source": [
    "df_test.drop(columns = [\"latitude\", \"longitude\"], inplace = True)"
   ]
  },
  {
   "cell_type": "code",
   "execution_count": 164,
   "metadata": {},
   "outputs": [
    {
     "data": {
      "text/plain": [
       "age             float64\n",
       "content          object\n",
       "dob_y           float64\n",
       "edu_dg           object\n",
       "ethnic           object\n",
       "gender           object\n",
       "join_party_y    float64\n",
       "join_work_y     float64\n",
       "location_x       object\n",
       "name             object\n",
       "pob_p            object\n",
       "province         object\n",
       "url              object\n",
       "year             object\n",
       "province_lat    float64\n",
       "province_lng    float64\n",
       "location_lat    float64\n",
       "location_lng    float64\n",
       "location_y       object\n",
       "pob_lat         float64\n",
       "pob_lng         float64\n",
       "location         object\n",
       "dtype: object"
      ]
     },
     "execution_count": 164,
     "metadata": {},
     "output_type": "execute_result"
    }
   ],
   "source": [
    "df_test.dtypes"
   ]
  },
  {
   "cell_type": "code",
   "execution_count": 165,
   "metadata": {},
   "outputs": [],
   "source": [
    "df_test[\"location\"] = df_test[\"location_x\"]"
   ]
  },
  {
   "cell_type": "code",
   "execution_count": 166,
   "metadata": {},
   "outputs": [],
   "source": [
    "df_test.drop(columns = [\"location_x\", \"location_y\"], inplace = True)"
   ]
  },
  {
   "cell_type": "code",
   "execution_count": 167,
   "metadata": {},
   "outputs": [],
   "source": [
    "df_test.to_csv(\"for_map.csv\", index = False)"
   ]
  },
  {
   "cell_type": "code",
   "execution_count": null,
   "metadata": {},
   "outputs": [],
   "source": []
  }
 ],
 "metadata": {
  "kernelspec": {
   "display_name": "Python 3",
   "language": "python",
   "name": "python3"
  },
  "language_info": {
   "codemirror_mode": {
    "name": "ipython",
    "version": 3
   },
   "file_extension": ".py",
   "mimetype": "text/x-python",
   "name": "python",
   "nbconvert_exporter": "python",
   "pygments_lexer": "ipython3",
   "version": "3.6.5"
  }
 },
 "nbformat": 4,
 "nbformat_minor": 2
}
