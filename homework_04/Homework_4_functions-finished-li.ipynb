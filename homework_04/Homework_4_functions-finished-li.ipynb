{
 "cells": [
  {
   "cell_type": "markdown",
   "metadata": {},
   "source": [
    "## homework 4: part two: investigating lists and dictionaries using functions\n",
    "\n",
    "In this assignment I will ask you to pick five relatively short texts (poems, paragraphs, short essays, song lyrics, whatever interests you). The main thing is to make sure that each text is around 10 - 20 lines or sentences long. Below, I have selected five poems by Wallace Stevens. In each cell I have made a variable that contains each poem, and then I pass that poem through a function called `text_to_dict` that makes a dictionary for each poem. The dictionary contains the title of the poem, the full text as one string, and a list that contains each line of the poem. The function will also make lists of sentences instead of lines if you want to investigate a prose text (sentence by sentence) instead of a poem (line by line).\n",
    "\n",
    "There are two parts of this assignment. \n",
    "\n",
    "**Part 1**, which should be easy, is to replace the poems with texts of your own choice--and choose to split them by lines or sentences. \n",
    "\n",
    "**Part 2** is to write functions that and investigate your texts. If you want to focus on the functions first, you can go straight to Part 2 and use the pomes I have chosen. You can then go back and enter your own texts--your functions should work no matter what text you've chosen.\n"
   ]
  },
  {
   "cell_type": "code",
   "execution_count": 41,
   "metadata": {},
   "outputs": [],
   "source": [
    "#Run this cell toImport regular expressions\n",
    "#And to initialize the all texts list that will contain all of your dictionaries of text\n",
    "import re\n",
    "all_texts = []"
   ]
  },
  {
   "cell_type": "markdown",
   "metadata": {},
   "source": [
    "** understanding the text_to_dict function**\n",
    "\n",
    "You don't have to completely understand this function to use it, but you do need to understand its parameters. It takes three parameters:\n",
    "* `title` is a string you need to write inside function's parameters\n",
    "* `text` is the variable that holds the entire text\n",
    "* `poem` True/False parameter --if it is true it will split your text by line (`\\n`) \n",
    " \tIf it is false it will split your text by sentence ('[.?!])\n",
    "\n",
    "If you look at the function you will see that it builds a dictionary with the following fields:\n",
    "* `title` is the title of the text\n",
    "* `text_as_string` is the full text as a string\n",
    "* `lines` is a list of lines or sentences\n",
    "\n",
    "It returns a dictionary with those fields."
   ]
  },
  {
   "cell_type": "code",
   "execution_count": 42,
   "metadata": {},
   "outputs": [],
   "source": [
    "def text_to_dict(title,text,poem):\n",
    "    dict_of_this_text = {}\n",
    "    dict_of_this_text['title'] = title\n",
    "    dict_of_this_text['text_as_string'] = text\n",
    "    if poem:\n",
    "        text_to_list = text.strip().split('\\n')\n",
    "    else:\n",
    "        text_to_list = re.split(r\"[.?!]\",text)\n",
    "    dict_of_this_text['lines'] = text_to_list\n",
    "    return dict_of_this_text"
   ]
  },
  {
   "cell_type": "markdown",
   "metadata": {},
   "source": [
    "## Part One\n",
    "\n",
    "The next five cells are exactly the same. They define five different texts, and then they pass each text through the `text_to_dict` function. And then they add the resulting dictionary to the all_texts list. \n",
    "\n",
    "In the five cells below enter your five selected texts.\n",
    "\n",
    "**You should do no coding at any point** until the very last cell before part two."
   ]
  },
  {
   "cell_type": "code",
   "execution_count": 43,
   "metadata": {},
   "outputs": [],
   "source": [
    "#I'm getting the first 4 paragraphs for SOTU, 2018 - 2014\n",
    "text0 = '''\n",
    "Mr Speaker, Mr Vice President, Members of Congress, the First Lady of the United States, and my fellow Americans: Less than 1 year has passed since I first stood at this podium, in this majestic Chamber, to speak on behalf of the American people and to address their concerns, their hopes, and their dreams. That night, our new administration had already taken very swift action. A new tide of optimism was already sweeping across our land. Each day since, we have gone forward with a clear vision and a righteous mission: to make America great again for all Americans.\n",
    "Over the last year, we have made incredible progress and achieved extraordinary success. We have faced challenges we expected and others we could never have imagined. We have shared in the heights of victory and the pains of hardship. We have endured floods and fires and storms. But through it all, we have seen the beauty of America's soul and the steel in America's spine.\n",
    "Each test has forged new American heroes to remind us who we are and show us what we can be. We saw the volunteers of the Cajun Navy racing to the rescue with their fishing boats to save people in the aftermath of a totally devastating hurricane. We saw strangers shielding strangers from a hail of gunfire on the Las Vegas strip.\n",
    "We heard tales of Americans like Coast Guard Petty Officer Ashlee Leppert, who is here tonight in the gallery with Melania. Ashlee was aboard one of the first helicopters on the scene in Houston during the Hurricane Harvey. Through 18 hours of wind and rain, Ashlee braved live power lines and deep water to help save more than 40 lives. Ashlee, we all thank you. Thank you very much.\n",
    "'''\n",
    "#Remember: you need to type the title into the first parameter\n",
    "#If you want to split by line choose True for the third parameter\n",
    "#If you want to split by sentence, choose False\n",
    "transform_it = text_to_dict(\"Donald Trump 2018 SOTU\",text0,False)\n",
    "all_texts.append(transform_it)"
   ]
  },
  {
   "cell_type": "code",
   "execution_count": 44,
   "metadata": {},
   "outputs": [],
   "source": [
    "text1 = '''\n",
    "Thank you very much. Mr Speaker, Mr Vice President, Members of Congress, the First Lady of the United States, and citizens of America: Tonight, as we mark the conclusion of our celebration of Black History Month, we are reminded of our Nation's path towards civil rights and the work that still remains to be done. Recent threats targeting Jewish community centers and vandalism of Jewish cemeteries, as well as last week's shooting in Kansas City, remind us that while we may be a nation divided on policies, we are a country that stands united in condemning hate and evil in all of its very ugly forms.\n",
    "Each American generation passes the torch of truth, liberty, and justice in an unbroken chain, all the way down to the present. That torch is now in our hands, and we will use it to light up the world. I am here tonight to deliver a message of unity and strength, and it is a message deeply delivered from my heart. A new chapter of American greatness is now beginning. A new national pride is sweeping across our Nation. And a new surge of optimism is placing impossible dreams firmly within our grasp.\n",
    "What we are witnessing today is the renewal of the American spirit. Our allies will find that America is once again ready to lead. All the nations of the world—friend or foe—will find that America is strong, America is proud, and America is free.\n",
    "In 9 years, the United States will celebrate the 250th anniversary of our founding: 250 years since the day we declared our independence. It will be one of the great milestones in the history of the world. But what will America look like as we reach our 250th year? What kind of country will we leave for our children?\n",
    "'''\n",
    "transform_it = text_to_dict(\"Donald Trump 2017 SOTU\",text1,False)\n",
    "all_texts.append(transform_it)"
   ]
  },
  {
   "cell_type": "code",
   "execution_count": 45,
   "metadata": {},
   "outputs": [],
   "source": [
    "text2 = '''\n",
    "Thank you. Mr Speaker, Mr Vice President, Members of Congress, my fellow Americans: Tonight marks the eighth year that I've come here to report on the State of the Union. And for this final one, I'm going to try to make it a little shorter. I know some of you are antsy to get back to Iowa. [Laughter] I've been there. I'll be shaking hands afterwards if you want some tips. [Laughter]\n",
    "Now, I understand that because it's an election season, expectations for what we will achieve this year are low. But, Mr Speaker, I appreciate the constructive approach that you and other leaders took at the end of last year to pass a budget and make tax cuts permanent for working families. So I hope we can work together this year on some bipartisan priorities like criminal justice reform and helping people who are battling prescription drug abuse and heroin abuse. So, who knows, we might surprise the cynics again.\n",
    "But tonight I want to go easy on the traditional list of proposals for the year ahead. Don't worry, I've got plenty—[laughter]—from helping students learn to write computer code to personalizing medical treatments for patients. And I will keep pushing for progress on the work that I believe still needs to be done: fixing a broken immigration system, protecting our kids from gun violence, equal pay for equal work, paid leave, raising the minimum wage. All these things still matter to hard-working families. They're still the right thing to do. And I won't let up until they get done.\n",
    "But for my final address to this Chamber, I don't want to just talk about next year. I want to focus on the next 5 years, the next 10 years, and beyond. I want to focus on our future.\n",
    "'''\n",
    "transform_it = text_to_dict(\"Barack Obama 2016 SOTU\",text2,False)\n",
    "all_texts.append(transform_it)"
   ]
  },
  {
   "cell_type": "code",
   "execution_count": 46,
   "metadata": {},
   "outputs": [
    {
     "data": {
      "text/plain": [
       "'Donald Trump 2017 SOTU'"
      ]
     },
     "execution_count": 46,
     "metadata": {},
     "output_type": "execute_result"
    }
   ],
   "source": [
    "all_texts[1]['title']"
   ]
  },
  {
   "cell_type": "code",
   "execution_count": 47,
   "metadata": {},
   "outputs": [],
   "source": [
    "text3 = '''\n",
    "Mr Speaker, Mr Vice President, Members of Congress, my fellow Americans: We are 15 years into this new century. Fifteen years that dawned with terror touching our shores, that unfolded with a new generation fighting two long and costly wars, that saw a vicious recession spread across our Nation and the world. It has been and still is a hard time for many.\n",
    "But tonight we turn the page. Tonight, after a breakthrough year for America, our economy is growing and creating jobs at the fastest pace since 1999. Our unemployment rate is now lower than it was before the financial crisis. More of our kids are graduating than ever before. More of our people are insured than ever before. And we are as free from the grip of foreign oil as we've been in almost 30 years.\n",
    "Tonight, for the first time since 9/11, our combat mission in Afghanistan is over. Six years ago, nearly 180,000 American troops served in Iraq and Afghanistan. Today, fewer than 15,000 remain. And we salute the courage and sacrifice of every man and woman in this 9/11 generation who has served to keep us safe. We are humbled and grateful for your service.\n",
    "America, for all that we have endured, for all the grit and hard work required to come back, for all the tasks that lie ahead, know this: The shadow of crisis has passed, and the State of the Union is strong.\n",
    "'''\n",
    "transform_it = text_to_dict(\"Barack Obama 2015 SOTU\",text3,False)\n",
    "all_texts.append(transform_it)"
   ]
  },
  {
   "cell_type": "code",
   "execution_count": 48,
   "metadata": {},
   "outputs": [],
   "source": [
    "text4 = '''\n",
    "Mr Speaker, Mr Vice President, Members of Congress, my fellow Americans: Today in America, a teacher spent extra time with a student who needed it and did her part to lift America's graduation rate to its highest levels in more than three decades. An entrepreneur flipped on the lights in her tech startup and did her part to add to the more than 8 million new jobs our businesses have created over the past 4 years. An autoworker fine-tuned some of the best, most fuel-efficient cars in the world and did his part to help America wean itself off foreign oil.\n",
    "A farmer prepared for the spring after the strongest 5-year stretch of farm exports in our history. A rural doctor gave a young child the first prescription to treat asthma that his mother could afford. A man took the bus home from the graveyard shift, bone-tired, but dreaming big dreams for his son. And in tight-knit communities all across America, fathers and mothers will tuck in their kids, put an arm around their spouse, remember fallen comrades, and give thanks for being home from a war that after 12 long years is finally coming to an end.\n",
    "Tonight this Chamber speaks with one voice to the people we represent: It is you, our citizens, who make the state of our Union strong.\n",
    "And here are the results of your efforts: the lowest unemployment rate in over 5 years; a rebounding housing market; a manufacturing sector that's adding jobs for the first time since the 1990s; more oil produced at home than we buy from the rest of the world, the first time that's happened in nearly 20 years; our deficits cut by more than half. And for the first time in over a decade, business leaders around the world have declared that China is no longer the world's number-one place to invest, America is.\n",
    "'''\n",
    "transform_it = text_to_dict(\"Barack Obama 2014 SOTU\",text4,False)\n",
    "all_texts.append(transform_it)"
   ]
  },
  {
   "cell_type": "markdown",
   "metadata": {},
   "source": [
    "Run the two cells below to confirm that first, you only have five texts in the all_texts list, and next, look at the all_texts list to see the dictionary inside it. "
   ]
  },
  {
   "cell_type": "code",
   "execution_count": 49,
   "metadata": {},
   "outputs": [
    {
     "data": {
      "text/plain": [
       "5"
      ]
     },
     "execution_count": 49,
     "metadata": {},
     "output_type": "execute_result"
    }
   ],
   "source": [
    "len(all_texts)"
   ]
  },
  {
   "cell_type": "code",
   "execution_count": 50,
   "metadata": {},
   "outputs": [
    {
     "data": {
      "text/plain": [
       "[{'title': 'Donald Trump 2018 SOTU',\n",
       "  'text_as_string': \"\\nMr Speaker, Mr Vice President, Members of Congress, the First Lady of the United States, and my fellow Americans: Less than 1 year has passed since I first stood at this podium, in this majestic Chamber, to speak on behalf of the American people and to address their concerns, their hopes, and their dreams. That night, our new administration had already taken very swift action. A new tide of optimism was already sweeping across our land. Each day since, we have gone forward with a clear vision and a righteous mission: to make America great again for all Americans.\\nOver the last year, we have made incredible progress and achieved extraordinary success. We have faced challenges we expected and others we could never have imagined. We have shared in the heights of victory and the pains of hardship. We have endured floods and fires and storms. But through it all, we have seen the beauty of America's soul and the steel in America's spine.\\nEach test has forged new American heroes to remind us who we are and show us what we can be. We saw the volunteers of the Cajun Navy racing to the rescue with their fishing boats to save people in the aftermath of a totally devastating hurricane. We saw strangers shielding strangers from a hail of gunfire on the Las Vegas strip.\\nWe heard tales of Americans like Coast Guard Petty Officer Ashlee Leppert, who is here tonight in the gallery with Melania. Ashlee was aboard one of the first helicopters on the scene in Houston during the Hurricane Harvey. Through 18 hours of wind and rain, Ashlee braved live power lines and deep water to help save more than 40 lives. Ashlee, we all thank you. Thank you very much.\\n\",\n",
       "  'lines': ['\\nMr Speaker, Mr Vice President, Members of Congress, the First Lady of the United States, and my fellow Americans: Less than 1 year has passed since I first stood at this podium, in this majestic Chamber, to speak on behalf of the American people and to address their concerns, their hopes, and their dreams',\n",
       "   ' That night, our new administration had already taken very swift action',\n",
       "   ' A new tide of optimism was already sweeping across our land',\n",
       "   ' Each day since, we have gone forward with a clear vision and a righteous mission: to make America great again for all Americans',\n",
       "   '\\nOver the last year, we have made incredible progress and achieved extraordinary success',\n",
       "   ' We have faced challenges we expected and others we could never have imagined',\n",
       "   ' We have shared in the heights of victory and the pains of hardship',\n",
       "   ' We have endured floods and fires and storms',\n",
       "   \" But through it all, we have seen the beauty of America's soul and the steel in America's spine\",\n",
       "   '\\nEach test has forged new American heroes to remind us who we are and show us what we can be',\n",
       "   ' We saw the volunteers of the Cajun Navy racing to the rescue with their fishing boats to save people in the aftermath of a totally devastating hurricane',\n",
       "   ' We saw strangers shielding strangers from a hail of gunfire on the Las Vegas strip',\n",
       "   '\\nWe heard tales of Americans like Coast Guard Petty Officer Ashlee Leppert, who is here tonight in the gallery with Melania',\n",
       "   ' Ashlee was aboard one of the first helicopters on the scene in Houston during the Hurricane Harvey',\n",
       "   ' Through 18 hours of wind and rain, Ashlee braved live power lines and deep water to help save more than 40 lives',\n",
       "   ' Ashlee, we all thank you',\n",
       "   ' Thank you very much',\n",
       "   '\\n']},\n",
       " {'title': 'Donald Trump 2017 SOTU',\n",
       "  'text_as_string': \"\\nThank you very much. Mr Speaker, Mr Vice President, Members of Congress, the First Lady of the United States, and citizens of America: Tonight, as we mark the conclusion of our celebration of Black History Month, we are reminded of our Nation's path towards civil rights and the work that still remains to be done. Recent threats targeting Jewish community centers and vandalism of Jewish cemeteries, as well as last week's shooting in Kansas City, remind us that while we may be a nation divided on policies, we are a country that stands united in condemning hate and evil in all of its very ugly forms.\\nEach American generation passes the torch of truth, liberty, and justice in an unbroken chain, all the way down to the present. That torch is now in our hands, and we will use it to light up the world. I am here tonight to deliver a message of unity and strength, and it is a message deeply delivered from my heart. A new chapter of American greatness is now beginning. A new national pride is sweeping across our Nation. And a new surge of optimism is placing impossible dreams firmly within our grasp.\\nWhat we are witnessing today is the renewal of the American spirit. Our allies will find that America is once again ready to lead. All the nations of the world—friend or foe—will find that America is strong, America is proud, and America is free.\\nIn 9 years, the United States will celebrate the 250th anniversary of our founding: 250 years since the day we declared our independence. It will be one of the great milestones in the history of the world. But what will America look like as we reach our 250th year? What kind of country will we leave for our children?\\n\",\n",
       "  'lines': ['\\nThank you very much',\n",
       "   \" Mr Speaker, Mr Vice President, Members of Congress, the First Lady of the United States, and citizens of America: Tonight, as we mark the conclusion of our celebration of Black History Month, we are reminded of our Nation's path towards civil rights and the work that still remains to be done\",\n",
       "   \" Recent threats targeting Jewish community centers and vandalism of Jewish cemeteries, as well as last week's shooting in Kansas City, remind us that while we may be a nation divided on policies, we are a country that stands united in condemning hate and evil in all of its very ugly forms\",\n",
       "   '\\nEach American generation passes the torch of truth, liberty, and justice in an unbroken chain, all the way down to the present',\n",
       "   ' That torch is now in our hands, and we will use it to light up the world',\n",
       "   ' I am here tonight to deliver a message of unity and strength, and it is a message deeply delivered from my heart',\n",
       "   ' A new chapter of American greatness is now beginning',\n",
       "   ' A new national pride is sweeping across our Nation',\n",
       "   ' And a new surge of optimism is placing impossible dreams firmly within our grasp',\n",
       "   '\\nWhat we are witnessing today is the renewal of the American spirit',\n",
       "   ' Our allies will find that America is once again ready to lead',\n",
       "   ' All the nations of the world—friend or foe—will find that America is strong, America is proud, and America is free',\n",
       "   '\\nIn 9 years, the United States will celebrate the 250th anniversary of our founding: 250 years since the day we declared our independence',\n",
       "   ' It will be one of the great milestones in the history of the world',\n",
       "   ' But what will America look like as we reach our 250th year',\n",
       "   ' What kind of country will we leave for our children',\n",
       "   '\\n']},\n",
       " {'title': 'Barack Obama 2016 SOTU',\n",
       "  'text_as_string': \"\\nThank you. Mr Speaker, Mr Vice President, Members of Congress, my fellow Americans: Tonight marks the eighth year that I've come here to report on the State of the Union. And for this final one, I'm going to try to make it a little shorter. I know some of you are antsy to get back to Iowa. [Laughter] I've been there. I'll be shaking hands afterwards if you want some tips. [Laughter]\\nNow, I understand that because it's an election season, expectations for what we will achieve this year are low. But, Mr Speaker, I appreciate the constructive approach that you and other leaders took at the end of last year to pass a budget and make tax cuts permanent for working families. So I hope we can work together this year on some bipartisan priorities like criminal justice reform and helping people who are battling prescription drug abuse and heroin abuse. So, who knows, we might surprise the cynics again.\\nBut tonight I want to go easy on the traditional list of proposals for the year ahead. Don't worry, I've got plenty—[laughter]—from helping students learn to write computer code to personalizing medical treatments for patients. And I will keep pushing for progress on the work that I believe still needs to be done: fixing a broken immigration system, protecting our kids from gun violence, equal pay for equal work, paid leave, raising the minimum wage. All these things still matter to hard-working families. They're still the right thing to do. And I won't let up until they get done.\\nBut for my final address to this Chamber, I don't want to just talk about next year. I want to focus on the next 5 years, the next 10 years, and beyond. I want to focus on our future.\\n\",\n",
       "  'lines': ['\\nThank you',\n",
       "   \" Mr Speaker, Mr Vice President, Members of Congress, my fellow Americans: Tonight marks the eighth year that I've come here to report on the State of the Union\",\n",
       "   \" And for this final one, I'm going to try to make it a little shorter\",\n",
       "   ' I know some of you are antsy to get back to Iowa',\n",
       "   \" [Laughter] I've been there\",\n",
       "   \" I'll be shaking hands afterwards if you want some tips\",\n",
       "   \" [Laughter]\\nNow, I understand that because it's an election season, expectations for what we will achieve this year are low\",\n",
       "   ' But, Mr Speaker, I appreciate the constructive approach that you and other leaders took at the end of last year to pass a budget and make tax cuts permanent for working families',\n",
       "   ' So I hope we can work together this year on some bipartisan priorities like criminal justice reform and helping people who are battling prescription drug abuse and heroin abuse',\n",
       "   ' So, who knows, we might surprise the cynics again',\n",
       "   '\\nBut tonight I want to go easy on the traditional list of proposals for the year ahead',\n",
       "   \" Don't worry, I've got plenty—[laughter]—from helping students learn to write computer code to personalizing medical treatments for patients\",\n",
       "   ' And I will keep pushing for progress on the work that I believe still needs to be done: fixing a broken immigration system, protecting our kids from gun violence, equal pay for equal work, paid leave, raising the minimum wage',\n",
       "   ' All these things still matter to hard-working families',\n",
       "   \" They're still the right thing to do\",\n",
       "   \" And I won't let up until they get done\",\n",
       "   \"\\nBut for my final address to this Chamber, I don't want to just talk about next year\",\n",
       "   ' I want to focus on the next 5 years, the next 10 years, and beyond',\n",
       "   ' I want to focus on our future',\n",
       "   '\\n']},\n",
       " {'title': 'Barack Obama 2015 SOTU',\n",
       "  'text_as_string': \"\\nMr Speaker, Mr Vice President, Members of Congress, my fellow Americans: We are 15 years into this new century. Fifteen years that dawned with terror touching our shores, that unfolded with a new generation fighting two long and costly wars, that saw a vicious recession spread across our Nation and the world. It has been and still is a hard time for many.\\nBut tonight we turn the page. Tonight, after a breakthrough year for America, our economy is growing and creating jobs at the fastest pace since 1999. Our unemployment rate is now lower than it was before the financial crisis. More of our kids are graduating than ever before. More of our people are insured than ever before. And we are as free from the grip of foreign oil as we've been in almost 30 years.\\nTonight, for the first time since 9/11, our combat mission in Afghanistan is over. Six years ago, nearly 180,000 American troops served in Iraq and Afghanistan. Today, fewer than 15,000 remain. And we salute the courage and sacrifice of every man and woman in this 9/11 generation who has served to keep us safe. We are humbled and grateful for your service.\\nAmerica, for all that we have endured, for all the grit and hard work required to come back, for all the tasks that lie ahead, know this: The shadow of crisis has passed, and the State of the Union is strong.\\n\",\n",
       "  'lines': ['\\nMr Speaker, Mr Vice President, Members of Congress, my fellow Americans: We are 15 years into this new century',\n",
       "   ' Fifteen years that dawned with terror touching our shores, that unfolded with a new generation fighting two long and costly wars, that saw a vicious recession spread across our Nation and the world',\n",
       "   ' It has been and still is a hard time for many',\n",
       "   '\\nBut tonight we turn the page',\n",
       "   ' Tonight, after a breakthrough year for America, our economy is growing and creating jobs at the fastest pace since 1999',\n",
       "   ' Our unemployment rate is now lower than it was before the financial crisis',\n",
       "   ' More of our kids are graduating than ever before',\n",
       "   ' More of our people are insured than ever before',\n",
       "   \" And we are as free from the grip of foreign oil as we've been in almost 30 years\",\n",
       "   '\\nTonight, for the first time since 9/11, our combat mission in Afghanistan is over',\n",
       "   ' Six years ago, nearly 180,000 American troops served in Iraq and Afghanistan',\n",
       "   ' Today, fewer than 15,000 remain',\n",
       "   ' And we salute the courage and sacrifice of every man and woman in this 9/11 generation who has served to keep us safe',\n",
       "   ' We are humbled and grateful for your service',\n",
       "   '\\nAmerica, for all that we have endured, for all the grit and hard work required to come back, for all the tasks that lie ahead, know this: The shadow of crisis has passed, and the State of the Union is strong',\n",
       "   '\\n']},\n",
       " {'title': 'Barack Obama 2014 SOTU',\n",
       "  'text_as_string': \"\\nMr Speaker, Mr Vice President, Members of Congress, my fellow Americans: Today in America, a teacher spent extra time with a student who needed it and did her part to lift America's graduation rate to its highest levels in more than three decades. An entrepreneur flipped on the lights in her tech startup and did her part to add to the more than 8 million new jobs our businesses have created over the past 4 years. An autoworker fine-tuned some of the best, most fuel-efficient cars in the world and did his part to help America wean itself off foreign oil.\\nA farmer prepared for the spring after the strongest 5-year stretch of farm exports in our history. A rural doctor gave a young child the first prescription to treat asthma that his mother could afford. A man took the bus home from the graveyard shift, bone-tired, but dreaming big dreams for his son. And in tight-knit communities all across America, fathers and mothers will tuck in their kids, put an arm around their spouse, remember fallen comrades, and give thanks for being home from a war that after 12 long years is finally coming to an end.\\nTonight this Chamber speaks with one voice to the people we represent: It is you, our citizens, who make the state of our Union strong.\\nAnd here are the results of your efforts: the lowest unemployment rate in over 5 years; a rebounding housing market; a manufacturing sector that's adding jobs for the first time since the 1990s; more oil produced at home than we buy from the rest of the world, the first time that's happened in nearly 20 years; our deficits cut by more than half. And for the first time in over a decade, business leaders around the world have declared that China is no longer the world's number-one place to invest, America is.\\n\",\n",
       "  'lines': [\"\\nMr Speaker, Mr Vice President, Members of Congress, my fellow Americans: Today in America, a teacher spent extra time with a student who needed it and did her part to lift America's graduation rate to its highest levels in more than three decades\",\n",
       "   ' An entrepreneur flipped on the lights in her tech startup and did her part to add to the more than 8 million new jobs our businesses have created over the past 4 years',\n",
       "   ' An autoworker fine-tuned some of the best, most fuel-efficient cars in the world and did his part to help America wean itself off foreign oil',\n",
       "   '\\nA farmer prepared for the spring after the strongest 5-year stretch of farm exports in our history',\n",
       "   ' A rural doctor gave a young child the first prescription to treat asthma that his mother could afford',\n",
       "   ' A man took the bus home from the graveyard shift, bone-tired, but dreaming big dreams for his son',\n",
       "   ' And in tight-knit communities all across America, fathers and mothers will tuck in their kids, put an arm around their spouse, remember fallen comrades, and give thanks for being home from a war that after 12 long years is finally coming to an end',\n",
       "   '\\nTonight this Chamber speaks with one voice to the people we represent: It is you, our citizens, who make the state of our Union strong',\n",
       "   \"\\nAnd here are the results of your efforts: the lowest unemployment rate in over 5 years; a rebounding housing market; a manufacturing sector that's adding jobs for the first time since the 1990s; more oil produced at home than we buy from the rest of the world, the first time that's happened in nearly 20 years; our deficits cut by more than half\",\n",
       "   \" And for the first time in over a decade, business leaders around the world have declared that China is no longer the world's number-one place to invest, America is\",\n",
       "   '\\n']}]"
      ]
     },
     "execution_count": 50,
     "metadata": {},
     "output_type": "execute_result"
    }
   ],
   "source": [
    "all_texts"
   ]
  },
  {
   "cell_type": "markdown",
   "metadata": {},
   "source": [
    "In the cell below, loop through all_texts and print out the title of each text. (This is the only code you need to write for Part One.)"
   ]
  },
  {
   "cell_type": "code",
   "execution_count": 51,
   "metadata": {},
   "outputs": [
    {
     "name": "stdout",
     "output_type": "stream",
     "text": [
      "{'title': 'Donald Trump 2018 SOTU', 'text_as_string': \"\\nMr Speaker, Mr Vice President, Members of Congress, the First Lady of the United States, and my fellow Americans: Less than 1 year has passed since I first stood at this podium, in this majestic Chamber, to speak on behalf of the American people and to address their concerns, their hopes, and their dreams. That night, our new administration had already taken very swift action. A new tide of optimism was already sweeping across our land. Each day since, we have gone forward with a clear vision and a righteous mission: to make America great again for all Americans.\\nOver the last year, we have made incredible progress and achieved extraordinary success. We have faced challenges we expected and others we could never have imagined. We have shared in the heights of victory and the pains of hardship. We have endured floods and fires and storms. But through it all, we have seen the beauty of America's soul and the steel in America's spine.\\nEach test has forged new American heroes to remind us who we are and show us what we can be. We saw the volunteers of the Cajun Navy racing to the rescue with their fishing boats to save people in the aftermath of a totally devastating hurricane. We saw strangers shielding strangers from a hail of gunfire on the Las Vegas strip.\\nWe heard tales of Americans like Coast Guard Petty Officer Ashlee Leppert, who is here tonight in the gallery with Melania. Ashlee was aboard one of the first helicopters on the scene in Houston during the Hurricane Harvey. Through 18 hours of wind and rain, Ashlee braved live power lines and deep water to help save more than 40 lives. Ashlee, we all thank you. Thank you very much.\\n\", 'lines': ['\\nMr Speaker, Mr Vice President, Members of Congress, the First Lady of the United States, and my fellow Americans: Less than 1 year has passed since I first stood at this podium, in this majestic Chamber, to speak on behalf of the American people and to address their concerns, their hopes, and their dreams', ' That night, our new administration had already taken very swift action', ' A new tide of optimism was already sweeping across our land', ' Each day since, we have gone forward with a clear vision and a righteous mission: to make America great again for all Americans', '\\nOver the last year, we have made incredible progress and achieved extraordinary success', ' We have faced challenges we expected and others we could never have imagined', ' We have shared in the heights of victory and the pains of hardship', ' We have endured floods and fires and storms', \" But through it all, we have seen the beauty of America's soul and the steel in America's spine\", '\\nEach test has forged new American heroes to remind us who we are and show us what we can be', ' We saw the volunteers of the Cajun Navy racing to the rescue with their fishing boats to save people in the aftermath of a totally devastating hurricane', ' We saw strangers shielding strangers from a hail of gunfire on the Las Vegas strip', '\\nWe heard tales of Americans like Coast Guard Petty Officer Ashlee Leppert, who is here tonight in the gallery with Melania', ' Ashlee was aboard one of the first helicopters on the scene in Houston during the Hurricane Harvey', ' Through 18 hours of wind and rain, Ashlee braved live power lines and deep water to help save more than 40 lives', ' Ashlee, we all thank you', ' Thank you very much', '\\n']}\n",
      "{'title': 'Donald Trump 2017 SOTU', 'text_as_string': \"\\nThank you very much. Mr Speaker, Mr Vice President, Members of Congress, the First Lady of the United States, and citizens of America: Tonight, as we mark the conclusion of our celebration of Black History Month, we are reminded of our Nation's path towards civil rights and the work that still remains to be done. Recent threats targeting Jewish community centers and vandalism of Jewish cemeteries, as well as last week's shooting in Kansas City, remind us that while we may be a nation divided on policies, we are a country that stands united in condemning hate and evil in all of its very ugly forms.\\nEach American generation passes the torch of truth, liberty, and justice in an unbroken chain, all the way down to the present. That torch is now in our hands, and we will use it to light up the world. I am here tonight to deliver a message of unity and strength, and it is a message deeply delivered from my heart. A new chapter of American greatness is now beginning. A new national pride is sweeping across our Nation. And a new surge of optimism is placing impossible dreams firmly within our grasp.\\nWhat we are witnessing today is the renewal of the American spirit. Our allies will find that America is once again ready to lead. All the nations of the world—friend or foe—will find that America is strong, America is proud, and America is free.\\nIn 9 years, the United States will celebrate the 250th anniversary of our founding: 250 years since the day we declared our independence. It will be one of the great milestones in the history of the world. But what will America look like as we reach our 250th year? What kind of country will we leave for our children?\\n\", 'lines': ['\\nThank you very much', \" Mr Speaker, Mr Vice President, Members of Congress, the First Lady of the United States, and citizens of America: Tonight, as we mark the conclusion of our celebration of Black History Month, we are reminded of our Nation's path towards civil rights and the work that still remains to be done\", \" Recent threats targeting Jewish community centers and vandalism of Jewish cemeteries, as well as last week's shooting in Kansas City, remind us that while we may be a nation divided on policies, we are a country that stands united in condemning hate and evil in all of its very ugly forms\", '\\nEach American generation passes the torch of truth, liberty, and justice in an unbroken chain, all the way down to the present', ' That torch is now in our hands, and we will use it to light up the world', ' I am here tonight to deliver a message of unity and strength, and it is a message deeply delivered from my heart', ' A new chapter of American greatness is now beginning', ' A new national pride is sweeping across our Nation', ' And a new surge of optimism is placing impossible dreams firmly within our grasp', '\\nWhat we are witnessing today is the renewal of the American spirit', ' Our allies will find that America is once again ready to lead', ' All the nations of the world—friend or foe—will find that America is strong, America is proud, and America is free', '\\nIn 9 years, the United States will celebrate the 250th anniversary of our founding: 250 years since the day we declared our independence', ' It will be one of the great milestones in the history of the world', ' But what will America look like as we reach our 250th year', ' What kind of country will we leave for our children', '\\n']}\n",
      "{'title': 'Barack Obama 2016 SOTU', 'text_as_string': \"\\nThank you. Mr Speaker, Mr Vice President, Members of Congress, my fellow Americans: Tonight marks the eighth year that I've come here to report on the State of the Union. And for this final one, I'm going to try to make it a little shorter. I know some of you are antsy to get back to Iowa. [Laughter] I've been there. I'll be shaking hands afterwards if you want some tips. [Laughter]\\nNow, I understand that because it's an election season, expectations for what we will achieve this year are low. But, Mr Speaker, I appreciate the constructive approach that you and other leaders took at the end of last year to pass a budget and make tax cuts permanent for working families. So I hope we can work together this year on some bipartisan priorities like criminal justice reform and helping people who are battling prescription drug abuse and heroin abuse. So, who knows, we might surprise the cynics again.\\nBut tonight I want to go easy on the traditional list of proposals for the year ahead. Don't worry, I've got plenty—[laughter]—from helping students learn to write computer code to personalizing medical treatments for patients. And I will keep pushing for progress on the work that I believe still needs to be done: fixing a broken immigration system, protecting our kids from gun violence, equal pay for equal work, paid leave, raising the minimum wage. All these things still matter to hard-working families. They're still the right thing to do. And I won't let up until they get done.\\nBut for my final address to this Chamber, I don't want to just talk about next year. I want to focus on the next 5 years, the next 10 years, and beyond. I want to focus on our future.\\n\", 'lines': ['\\nThank you', \" Mr Speaker, Mr Vice President, Members of Congress, my fellow Americans: Tonight marks the eighth year that I've come here to report on the State of the Union\", \" And for this final one, I'm going to try to make it a little shorter\", ' I know some of you are antsy to get back to Iowa', \" [Laughter] I've been there\", \" I'll be shaking hands afterwards if you want some tips\", \" [Laughter]\\nNow, I understand that because it's an election season, expectations for what we will achieve this year are low\", ' But, Mr Speaker, I appreciate the constructive approach that you and other leaders took at the end of last year to pass a budget and make tax cuts permanent for working families', ' So I hope we can work together this year on some bipartisan priorities like criminal justice reform and helping people who are battling prescription drug abuse and heroin abuse', ' So, who knows, we might surprise the cynics again', '\\nBut tonight I want to go easy on the traditional list of proposals for the year ahead', \" Don't worry, I've got plenty—[laughter]—from helping students learn to write computer code to personalizing medical treatments for patients\", ' And I will keep pushing for progress on the work that I believe still needs to be done: fixing a broken immigration system, protecting our kids from gun violence, equal pay for equal work, paid leave, raising the minimum wage', ' All these things still matter to hard-working families', \" They're still the right thing to do\", \" And I won't let up until they get done\", \"\\nBut for my final address to this Chamber, I don't want to just talk about next year\", ' I want to focus on the next 5 years, the next 10 years, and beyond', ' I want to focus on our future', '\\n']}\n",
      "{'title': 'Barack Obama 2015 SOTU', 'text_as_string': \"\\nMr Speaker, Mr Vice President, Members of Congress, my fellow Americans: We are 15 years into this new century. Fifteen years that dawned with terror touching our shores, that unfolded with a new generation fighting two long and costly wars, that saw a vicious recession spread across our Nation and the world. It has been and still is a hard time for many.\\nBut tonight we turn the page. Tonight, after a breakthrough year for America, our economy is growing and creating jobs at the fastest pace since 1999. Our unemployment rate is now lower than it was before the financial crisis. More of our kids are graduating than ever before. More of our people are insured than ever before. And we are as free from the grip of foreign oil as we've been in almost 30 years.\\nTonight, for the first time since 9/11, our combat mission in Afghanistan is over. Six years ago, nearly 180,000 American troops served in Iraq and Afghanistan. Today, fewer than 15,000 remain. And we salute the courage and sacrifice of every man and woman in this 9/11 generation who has served to keep us safe. We are humbled and grateful for your service.\\nAmerica, for all that we have endured, for all the grit and hard work required to come back, for all the tasks that lie ahead, know this: The shadow of crisis has passed, and the State of the Union is strong.\\n\", 'lines': ['\\nMr Speaker, Mr Vice President, Members of Congress, my fellow Americans: We are 15 years into this new century', ' Fifteen years that dawned with terror touching our shores, that unfolded with a new generation fighting two long and costly wars, that saw a vicious recession spread across our Nation and the world', ' It has been and still is a hard time for many', '\\nBut tonight we turn the page', ' Tonight, after a breakthrough year for America, our economy is growing and creating jobs at the fastest pace since 1999', ' Our unemployment rate is now lower than it was before the financial crisis', ' More of our kids are graduating than ever before', ' More of our people are insured than ever before', \" And we are as free from the grip of foreign oil as we've been in almost 30 years\", '\\nTonight, for the first time since 9/11, our combat mission in Afghanistan is over', ' Six years ago, nearly 180,000 American troops served in Iraq and Afghanistan', ' Today, fewer than 15,000 remain', ' And we salute the courage and sacrifice of every man and woman in this 9/11 generation who has served to keep us safe', ' We are humbled and grateful for your service', '\\nAmerica, for all that we have endured, for all the grit and hard work required to come back, for all the tasks that lie ahead, know this: The shadow of crisis has passed, and the State of the Union is strong', '\\n']}\n",
      "{'title': 'Barack Obama 2014 SOTU', 'text_as_string': \"\\nMr Speaker, Mr Vice President, Members of Congress, my fellow Americans: Today in America, a teacher spent extra time with a student who needed it and did her part to lift America's graduation rate to its highest levels in more than three decades. An entrepreneur flipped on the lights in her tech startup and did her part to add to the more than 8 million new jobs our businesses have created over the past 4 years. An autoworker fine-tuned some of the best, most fuel-efficient cars in the world and did his part to help America wean itself off foreign oil.\\nA farmer prepared for the spring after the strongest 5-year stretch of farm exports in our history. A rural doctor gave a young child the first prescription to treat asthma that his mother could afford. A man took the bus home from the graveyard shift, bone-tired, but dreaming big dreams for his son. And in tight-knit communities all across America, fathers and mothers will tuck in their kids, put an arm around their spouse, remember fallen comrades, and give thanks for being home from a war that after 12 long years is finally coming to an end.\\nTonight this Chamber speaks with one voice to the people we represent: It is you, our citizens, who make the state of our Union strong.\\nAnd here are the results of your efforts: the lowest unemployment rate in over 5 years; a rebounding housing market; a manufacturing sector that's adding jobs for the first time since the 1990s; more oil produced at home than we buy from the rest of the world, the first time that's happened in nearly 20 years; our deficits cut by more than half. And for the first time in over a decade, business leaders around the world have declared that China is no longer the world's number-one place to invest, America is.\\n\", 'lines': [\"\\nMr Speaker, Mr Vice President, Members of Congress, my fellow Americans: Today in America, a teacher spent extra time with a student who needed it and did her part to lift America's graduation rate to its highest levels in more than three decades\", ' An entrepreneur flipped on the lights in her tech startup and did her part to add to the more than 8 million new jobs our businesses have created over the past 4 years', ' An autoworker fine-tuned some of the best, most fuel-efficient cars in the world and did his part to help America wean itself off foreign oil', '\\nA farmer prepared for the spring after the strongest 5-year stretch of farm exports in our history', ' A rural doctor gave a young child the first prescription to treat asthma that his mother could afford', ' A man took the bus home from the graveyard shift, bone-tired, but dreaming big dreams for his son', ' And in tight-knit communities all across America, fathers and mothers will tuck in their kids, put an arm around their spouse, remember fallen comrades, and give thanks for being home from a war that after 12 long years is finally coming to an end', '\\nTonight this Chamber speaks with one voice to the people we represent: It is you, our citizens, who make the state of our Union strong', \"\\nAnd here are the results of your efforts: the lowest unemployment rate in over 5 years; a rebounding housing market; a manufacturing sector that's adding jobs for the first time since the 1990s; more oil produced at home than we buy from the rest of the world, the first time that's happened in nearly 20 years; our deficits cut by more than half\", \" And for the first time in over a decade, business leaders around the world have declared that China is no longer the world's number-one place to invest, America is\", '\\n']}\n"
     ]
    }
   ],
   "source": [
    "###Write your code here\n",
    "\n",
    "for text in all_texts:\n",
    "    print(text)"
   ]
  },
  {
   "cell_type": "markdown",
   "metadata": {},
   "source": [
    "## Part Two:  searching within lists and dictionaries\n",
    "In this part, we will be searching through each text and printing out a desired result. The searches, including loops and printing should all be defined in the function. The second cell should just have to function call that executes the function. I have written an example function and call for the first search. For each function that you write you should copy the original function and modify it so what does what I ask for.\n",
    "\n",
    "For the first five functions, there are no parameters passed to the functions--the calls will just execute the function. Go step-by-step and take your time."
   ]
  },
  {
   "cell_type": "code",
   "execution_count": 52,
   "metadata": {},
   "outputs": [],
   "source": [
    "def get_lengths():\n",
    "    for text in all_texts:\n",
    "        print(text['title'])\n",
    "        print(len(text['text_as_string']))\n",
    "        print(\"------------\")"
   ]
  },
  {
   "cell_type": "code",
   "execution_count": 53,
   "metadata": {},
   "outputs": [
    {
     "name": "stdout",
     "output_type": "stream",
     "text": [
      "Donald Trump 2018 SOTU\n",
      "1663\n",
      "------------\n",
      "Donald Trump 2017 SOTU\n",
      "1676\n",
      "------------\n",
      "Barack Obama 2016 SOTU\n",
      "1680\n",
      "------------\n",
      "Barack Obama 2015 SOTU\n",
      "1335\n",
      "------------\n",
      "Barack Obama 2014 SOTU\n",
      "1761\n",
      "------------\n"
     ]
    }
   ],
   "source": [
    "get_lengths()"
   ]
  },
  {
   "cell_type": "markdown",
   "metadata": {},
   "source": [
    "Question 1\n",
    "Now write a function that gets the **line count for each poem** (or sentence count for each piece of prose). This function is going to be very similar to the last one. Instead of accessing the whole text via text['text_as_string'] which is a string, you need to access the list of lines/sentences and get the length of that list. Everything else should be the same."
   ]
  },
  {
   "cell_type": "code",
   "execution_count": 54,
   "metadata": {},
   "outputs": [],
   "source": [
    "#Write your function here, name it get_line_count()\n",
    "def get_line_count():\n",
    "    for text in all_texts:\n",
    "        print(text['title'])\n",
    "        print(len(text['lines']))\n",
    "        print(\"------------\")"
   ]
  },
  {
   "cell_type": "code",
   "execution_count": 55,
   "metadata": {},
   "outputs": [
    {
     "name": "stdout",
     "output_type": "stream",
     "text": [
      "Donald Trump 2018 SOTU\n",
      "18\n",
      "------------\n",
      "Donald Trump 2017 SOTU\n",
      "17\n",
      "------------\n",
      "Barack Obama 2016 SOTU\n",
      "20\n",
      "------------\n",
      "Barack Obama 2015 SOTU\n",
      "16\n",
      "------------\n",
      "Barack Obama 2014 SOTU\n",
      "11\n",
      "------------\n"
     ]
    }
   ],
   "source": [
    "get_line_count()"
   ]
  },
  {
   "cell_type": "markdown",
   "metadata": {},
   "source": [
    "Question 2\n",
    "Now write a function that prints out **one random line or sentence from each text**. Again, this function will look much the same as the last ones, but instead of getting numbers you need to get actual lines. I have included the necessary import and an example of how to get random integers. Basically, for each text you need to get one element from the list of lines/ sentences with a random number between 0 and the length of the list."
   ]
  },
  {
   "cell_type": "code",
   "execution_count": 56,
   "metadata": {},
   "outputs": [],
   "source": [
    "\n",
    "from random import randint\n",
    "#Write your function here name it show_random_lines()\n",
    "def show_random_lines():\n",
    "    for text in all_texts:\n",
    "        line_len = len(text['lines'])\n",
    "        random_num = randint(0, line_len)\n",
    "        print(text['lines'][random_num])\n",
    "        print(\"------------\")\n",
    "#This should be inside the inner loop \n",
    "#so you get a fresh random number for each text\n",
    "#And it should not be from 0 to 9, but 0 to what?\n",
    "#Keep in mind that the range (0,9) give you any number \n",
    "#from 0 to 9 including both 0 and 9.\n"
   ]
  },
  {
   "cell_type": "code",
   "execution_count": 60,
   "metadata": {},
   "outputs": [
    {
     "name": "stdout",
     "output_type": "stream",
     "text": [
      " But through it all, we have seen the beauty of America's soul and the steel in America's spine\n",
      "------------\n",
      " A new national pride is sweeping across our Nation\n",
      "------------\n",
      " I'll be shaking hands afterwards if you want some tips\n",
      "------------\n",
      " Fifteen years that dawned with terror touching our shores, that unfolded with a new generation fighting two long and costly wars, that saw a vicious recession spread across our Nation and the world\n",
      "------------\n",
      " A rural doctor gave a young child the first prescription to treat asthma that his mother could afford\n",
      "------------\n"
     ]
    }
   ],
   "source": [
    "show_random_lines()"
   ]
  },
  {
   "cell_type": "markdown",
   "metadata": {},
   "source": [
    "Question 3\n",
    "This is a little bit different--instead of printing out something from each text, I want you to **print the entire text of the longest text**. Remember in the first function, I printed out the length of each text. Well, you need to test for the longest text as you look through and when you're done looping through print out the one that is longest.\n",
    "\n",
    "**Major hints!**: To do this you will need two **tracking variables** set before the loop runs: A numerical one that tracks the longest length (the number), and string variable remembers the actual text that has that length.\n",
    "\n",
    "Like this: longest_length = 0 and longest_text = \"\"\n",
    "\n",
    "When you loop through you need to test if each text was longer than the last one, and if it is longer--you update longest_length and longest_text to reflect the highest length, and the actual text. When the loop is over you then print out that longest_text string."
   ]
  },
  {
   "cell_type": "code",
   "execution_count": 63,
   "metadata": {},
   "outputs": [],
   "source": [
    "#Write your function here, name it longest_text()\n",
    "def longest_text():\n",
    "    longest_text = \"empty\"\n",
    "    longest_title = \"empty\"\n",
    "    for text in all_texts:\n",
    "        if len(text[\"text_as_string\"]) > len(longest_text):\n",
    "            longest_text = text[\"text_as_string\"]\n",
    "            longest_title = text[\"title\"]\n",
    "    print(longest_title, longest_text)"
   ]
  },
  {
   "cell_type": "code",
   "execution_count": 64,
   "metadata": {},
   "outputs": [
    {
     "name": "stdout",
     "output_type": "stream",
     "text": [
      "Barack Obama 2014 SOTU \n",
      "Mr Speaker, Mr Vice President, Members of Congress, my fellow Americans: Today in America, a teacher spent extra time with a student who needed it and did her part to lift America's graduation rate to its highest levels in more than three decades. An entrepreneur flipped on the lights in her tech startup and did her part to add to the more than 8 million new jobs our businesses have created over the past 4 years. An autoworker fine-tuned some of the best, most fuel-efficient cars in the world and did his part to help America wean itself off foreign oil.\n",
      "A farmer prepared for the spring after the strongest 5-year stretch of farm exports in our history. A rural doctor gave a young child the first prescription to treat asthma that his mother could afford. A man took the bus home from the graveyard shift, bone-tired, but dreaming big dreams for his son. And in tight-knit communities all across America, fathers and mothers will tuck in their kids, put an arm around their spouse, remember fallen comrades, and give thanks for being home from a war that after 12 long years is finally coming to an end.\n",
      "Tonight this Chamber speaks with one voice to the people we represent: It is you, our citizens, who make the state of our Union strong.\n",
      "And here are the results of your efforts: the lowest unemployment rate in over 5 years; a rebounding housing market; a manufacturing sector that's adding jobs for the first time since the 1990s; more oil produced at home than we buy from the rest of the world, the first time that's happened in nearly 20 years; our deficits cut by more than half. And for the first time in over a decade, business leaders around the world have declared that China is no longer the world's number-one place to invest, America is.\n",
      "\n"
     ]
    }
   ],
   "source": [
    "longest_text()"
   ]
  },
  {
   "cell_type": "markdown",
   "metadata": {},
   "source": [
    "Question 4\n",
    "This is kind of a combination of the first two functions--write a function that gets the **average line/sentence length for each text**."
   ]
  },
  {
   "cell_type": "code",
   "execution_count": 68,
   "metadata": {},
   "outputs": [],
   "source": [
    "#Write your function here\n",
    "def average_line_length():\n",
    "    for text in all_texts:\n",
    "        line_num = len(text['lines'])\n",
    "        text_len = len(text[\"text_as_string\"])\n",
    "        average_line_len = text_len / line_num\n",
    "        print(text[\"title\"], average_line_len, \"characters per line.\")"
   ]
  },
  {
   "cell_type": "code",
   "execution_count": 69,
   "metadata": {},
   "outputs": [
    {
     "name": "stdout",
     "output_type": "stream",
     "text": [
      "Donald Trump 2018 SOTU 92.38888888888889 characters per line.\n",
      "Donald Trump 2017 SOTU 98.58823529411765 characters per line.\n",
      "Barack Obama 2016 SOTU 84.0 characters per line.\n",
      "Barack Obama 2015 SOTU 83.4375 characters per line.\n",
      "Barack Obama 2014 SOTU 160.0909090909091 characters per line.\n"
     ]
    }
   ],
   "source": [
    "average_line_length()"
   ]
  },
  {
   "cell_type": "markdown",
   "metadata": {},
   "source": [
    "Question 5\n",
    "**Print the longest line/sentence in each text**. \n",
    "This is similar to question 3--but your two tracking variables (longest_length and longest_line) need to be placed right before the inside loop--and then you print the lines each time the inside loop ends."
   ]
  },
  {
   "cell_type": "code",
   "execution_count": 71,
   "metadata": {},
   "outputs": [],
   "source": [
    "#Write your function here\n",
    "def longest_line_in_each():\n",
    "    for text in all_texts:\n",
    "        longest_line = \"empty\"\n",
    "        for line in text[\"lines\"]:\n",
    "            if len(line) > len(longest_line):\n",
    "                longest_line = line\n",
    "        print(text[\"title\"], longest_line)"
   ]
  },
  {
   "cell_type": "code",
   "execution_count": 72,
   "metadata": {},
   "outputs": [
    {
     "name": "stdout",
     "output_type": "stream",
     "text": [
      "Donald Trump 2018 SOTU \n",
      "Mr Speaker, Mr Vice President, Members of Congress, the First Lady of the United States, and my fellow Americans: Less than 1 year has passed since I first stood at this podium, in this majestic Chamber, to speak on behalf of the American people and to address their concerns, their hopes, and their dreams\n",
      "Donald Trump 2017 SOTU  Mr Speaker, Mr Vice President, Members of Congress, the First Lady of the United States, and citizens of America: Tonight, as we mark the conclusion of our celebration of Black History Month, we are reminded of our Nation's path towards civil rights and the work that still remains to be done\n",
      "Barack Obama 2016 SOTU  And I will keep pushing for progress on the work that I believe still needs to be done: fixing a broken immigration system, protecting our kids from gun violence, equal pay for equal work, paid leave, raising the minimum wage\n",
      "Barack Obama 2015 SOTU \n",
      "America, for all that we have endured, for all the grit and hard work required to come back, for all the tasks that lie ahead, know this: The shadow of crisis has passed, and the State of the Union is strong\n",
      "Barack Obama 2014 SOTU \n",
      "And here are the results of your efforts: the lowest unemployment rate in over 5 years; a rebounding housing market; a manufacturing sector that's adding jobs for the first time since the 1990s; more oil produced at home than we buy from the rest of the world, the first time that's happened in nearly 20 years; our deficits cut by more than half\n"
     ]
    }
   ],
   "source": [
    "longest_line_in_each()"
   ]
  },
  {
   "cell_type": "markdown",
   "metadata": {},
   "source": [
    "Question 6\n",
    "**Print the shortest single line/sentence out of all of the texts that is greater than zero**\n",
    "This is the tricky-ish: You need to place the tracking variables outside the loop (like question 4, but the loop through all of the lines, test for the shortest one (greater than 0)."
   ]
  },
  {
   "cell_type": "code",
   "execution_count": 83,
   "metadata": {},
   "outputs": [],
   "source": [
    "#Write your function here\n",
    "def shortest_of_all_lines():\n",
    "    shortest_line_ever = \"And here are the results of your efforts: the lowest unemployment rate in over 5 years; a rebounding housing market; a manufacturing sector that's adding jobs for the first time since the 1990s; more oil produced at home than we buy from the rest of the world, the first time that's happened in nearly 20 years; our deficits cut by more than half\"\n",
    "    shortest_title = \" \"\n",
    "    for text in all_texts:\n",
    "        shortest_line = text[\"lines\"][0]\n",
    "        for line in text[\"lines\"]:\n",
    "            if 1 < len(line) < len(shortest_line):\n",
    "                shortest_line = line\n",
    "        if 1 < len(shortest_line) < len(shortest_line_ever):\n",
    "            shortest_line_ever = shortest_line\n",
    "            shortest_title = text[\"title\"]\n",
    "    print(shortest_title, shortest_line_ever)"
   ]
  },
  {
   "cell_type": "code",
   "execution_count": 84,
   "metadata": {},
   "outputs": [
    {
     "name": "stdout",
     "output_type": "stream",
     "text": [
      "Barack Obama 2016 SOTU \n",
      "Thank you\n"
     ]
    }
   ],
   "source": [
    "shortest_of_all_lines()"
   ]
  },
  {
   "cell_type": "markdown",
   "metadata": {},
   "source": [
    "## searching with regular expressions\n",
    "In the functions below you will search all the texts using regular expressions. The first few of these functions should not be too challenging--you just need to adjust the regular expression inside the function. At points it gets a little more complex as you have to control the looping through the lists and dictionaries."
   ]
  },
  {
   "cell_type": "code",
   "execution_count": 268,
   "metadata": {},
   "outputs": [],
   "source": [
    "def get_this_word(word):\n",
    "    my_regex = r\"\\b\" + word + r\"\\b\"\n",
    "    for text in all_texts:\n",
    "        result = [line for line in text['lines'] if re.search(my_regex, line, re.IGNORECASE)]\n",
    "        if len(result) > 0:\n",
    "            print(text['title'])\n",
    "            [print(line) for line in result]\n",
    "            print(\"------------\")\n",
    "            "
   ]
  },
  {
   "cell_type": "code",
   "execution_count": 269,
   "metadata": {},
   "outputs": [
    {
     "name": "stdout",
     "output_type": "stream",
     "text": [
      "Donald Trump 2017 SOTU\n",
      "\n",
      "Each American generation passes the torch of truth, liberty, and justice in an unbroken chain, all the way down to the present\n",
      "------------\n",
      "Barack Obama 2015 SOTU\n",
      " Fifteen years that dawned with terror touching our shores, that unfolded with a new generation fighting two long and costly wars, that saw a vicious recession spread across our Nation and the world\n",
      " And we salute the courage and sacrifice of every man and woman in this 9/11 generation who has served to keep us safe\n",
      "------------\n"
     ]
    }
   ],
   "source": [
    "get_this_word('generation')"
   ]
  },
  {
   "cell_type": "markdown",
   "metadata": {},
   "source": [
    "Question 7\n",
    "Print out the lines that start with the word entered.  You just need to adjust the regular expression here."
   ]
  },
  {
   "cell_type": "code",
   "execution_count": 231,
   "metadata": {},
   "outputs": [],
   "source": [
    "#Write your function here\n",
    "def line_starts_with(word):\n",
    "    my_regex = r\"[\\n]\" + (word)\n",
    "    for text in all_texts:\n",
    "        result = [line for line in text['lines'] if re.search(my_regex, line, re.IGNORECASE)]\n",
    "        if len(result) > 0:\n",
    "            print(text['title'])\n",
    "            [print(line) for line in result]\n",
    "            print(\"------------\")"
   ]
  },
  {
   "cell_type": "code",
   "execution_count": 232,
   "metadata": {},
   "outputs": [
    {
     "name": "stdout",
     "output_type": "stream",
     "text": [
      "Barack Obama 2016 SOTU\n",
      "\n",
      "But tonight I want to go easy on the traditional list of proposals for the year ahead\n",
      "\n",
      "But for my final address to this Chamber, I don't want to just talk about next year\n",
      "------------\n",
      "Barack Obama 2015 SOTU\n",
      "\n",
      "But tonight we turn the page\n",
      "------------\n"
     ]
    }
   ],
   "source": [
    "line_starts_with('but')"
   ]
  },
  {
   "cell_type": "markdown",
   "metadata": {},
   "source": [
    "Question 8\n",
    "Print out the lines that end with the word entered.  You just need to adjust the regular expression here."
   ]
  },
  {
   "cell_type": "code",
   "execution_count": 239,
   "metadata": {},
   "outputs": [],
   "source": [
    "#Write your function here\n",
    "def line_ends_with(word):\n",
    "    my_regex = r\" \" + word + r\"$\" \n",
    "    for text in all_texts:\n",
    "        result = [line for line in text['lines'] if re.search(my_regex, line, re.IGNORECASE)]\n",
    "        if len(result) > 0:\n",
    "            print(text['title'])\n",
    "            [print(line) for line in result]\n",
    "            print(\"------------\")"
   ]
  },
  {
   "cell_type": "code",
   "execution_count": 240,
   "metadata": {},
   "outputs": [
    {
     "name": "stdout",
     "output_type": "stream",
     "text": [
      "Barack Obama 2014 SOTU\n",
      " And for the first time in over a decade, business leaders around the world have declared that China is no longer the world's number-one place to invest, America is\n",
      "------------\n"
     ]
    }
   ],
   "source": [
    "line_ends_with('is')"
   ]
  },
  {
   "cell_type": "markdown",
   "metadata": {},
   "source": [
    "Question 9\n",
    "Print out **how many times the word was found in each text.** In this case, instead of the list comprehension, you want to run a re.findall() on the string of the text (not the list) and then count the number of elements in the list of results.\n",
    "\n",
    "Hint: use the original function at the beginning of this section, and make the proper adjustments to the variable \"result\""
   ]
  },
  {
   "cell_type": "code",
   "execution_count": 256,
   "metadata": {},
   "outputs": [],
   "source": [
    "#Write your function here\n",
    "def how_many_times(word):\n",
    "    my_regex = r\"\\b\" + word + r\"\\b\"\n",
    "    for text in all_texts:\n",
    "        result = re.findall(my_regex, text[\"text_as_string\"], re.IGNORECASE)\n",
    "        if len(result) > 0:\n",
    "            print(text['title'])\n",
    "            print(len(result))\n",
    "            print(\"------------\")"
   ]
  },
  {
   "cell_type": "code",
   "execution_count": 264,
   "metadata": {},
   "outputs": [
    {
     "name": "stdout",
     "output_type": "stream",
     "text": [
      "Donald Trump 2017 SOTU\n",
      "3\n",
      "------------\n",
      "Barack Obama 2015 SOTU\n",
      "1\n",
      "------------\n",
      "Barack Obama 2014 SOTU\n",
      "4\n",
      "------------\n"
     ]
    }
   ],
   "source": [
    "how_many_times('world')"
   ]
  },
  {
   "cell_type": "markdown",
   "metadata": {},
   "source": [
    "Question 10\n",
    "Print out **the text that has the highest occurrence of the word** you searched for. This is similar to the last function, but here you need tracking variables like you had in Question 3.\n"
   ]
  },
  {
   "cell_type": "code",
   "execution_count": 265,
   "metadata": {},
   "outputs": [],
   "source": [
    "#Write your function here\n",
    "def text_with_most_occurance_of(word):\n",
    "    most_title = \"\"\n",
    "    most_freq = 0\n",
    "    my_regex = r\"\\b\" + word + r\"\\b\"\n",
    "    for text in all_texts:\n",
    "        result = re.findall(my_regex, text[\"text_as_string\"], re.IGNORECASE)\n",
    "        if len(result) > most_freq:\n",
    "            most_freq = len(result)\n",
    "            most_title = text[\"title\"]\n",
    "    print(most_title, \":\", most_freq)"
   ]
  },
  {
   "cell_type": "code",
   "execution_count": 267,
   "metadata": {},
   "outputs": [
    {
     "name": "stdout",
     "output_type": "stream",
     "text": [
      "Barack Obama 2014 SOTU : 4\n"
     ]
    }
   ],
   "source": [
    "text_with_most_occurance_of('world')"
   ]
  },
  {
   "cell_type": "markdown",
   "metadata": {},
   "source": [
    "Question 11\n",
    "Print out **lines containing words of the length asked**. We are sort of back to basics here, you just need to modify the regular expression of the first function (get_this_word(word)) so that it can take a number parameter for the length of characters in a word."
   ]
  },
  {
   "cell_type": "code",
   "execution_count": 284,
   "metadata": {},
   "outputs": [],
   "source": [
    "#Write your function here\n",
    "def lines_with_words_this_length(length):\n",
    "    my_regex = r\"[A-Za-z]\" + r\"{\" + length + r\"}\"\n",
    "    for text in all_texts:\n",
    "        result = [line for line in text['lines'] if re.search(my_regex, line, re.IGNORECASE)]\n",
    "        if len(result) > 0:\n",
    "            print(text['title'])\n",
    "            [print(line) for line in result]\n",
    "            print(\"------------\")\n",
    "            "
   ]
  },
  {
   "cell_type": "code",
   "execution_count": 290,
   "metadata": {},
   "outputs": [
    {
     "name": "stdout",
     "output_type": "stream",
     "text": [
      "Donald Trump 2018 SOTU\n",
      " That night, our new administration had already taken very swift action\n",
      "------------\n"
     ]
    }
   ],
   "source": [
    "lines_with_words_this_length(\"14\")"
   ]
  },
  {
   "cell_type": "code",
   "execution_count": 289,
   "metadata": {},
   "outputs": [
    {
     "data": {
      "text/plain": [
       "14"
      ]
     },
     "execution_count": 289,
     "metadata": {},
     "output_type": "execute_result"
    }
   ],
   "source": [
    "len(\"administration\")"
   ]
  },
  {
   "cell_type": "markdown",
   "metadata": {
    "collapsed": true
   },
   "source": [
    "**Final question:** in this cell, describe two functions that you would like to write, not ones that you're able to write, but ones you think would be useful or interesting or fun. If you feel like trying to write it, go-ahead!"
   ]
  },
  {
   "cell_type": "code",
   "execution_count": null,
   "metadata": {
    "collapsed": true
   },
   "outputs": [],
   "source": [
    "#Average length of words for each speech\n",
    "\n",
    "#How many times are sentences ending with preposition\n",
    "\n",
    "#I want to include entire speeches and see how many times each president uses I/me"
   ]
  },
  {
   "cell_type": "markdown",
   "metadata": {
    "collapsed": true
   },
   "source": [
    "**Bonus question:** Write a function that counts word frequency: that is, it returns a dictionary with each unique word and its count, sorted by the most frequent. Note, this is highly stack-overflowable -- Python has some built in ways of doing this. If you're doing this, you might as well try to do it on your own. But it's up to you!"
   ]
  },
  {
   "cell_type": "code",
   "execution_count": 380,
   "metadata": {},
   "outputs": [],
   "source": [
    "# freq_list = []\n",
    "# for text in all_texts:\n",
    "#     freq_dic = {}\n",
    "#     word_frequency = 0\n",
    "#     words = text[\"text_as_string\"].split()\n",
    "#     for word in words:\n",
    "#         my_regex = r\"\\b\" + word + r\"\\b\"\n",
    "#         word_frequency = len(re.findall(my_regex, text[\"text_as_string\"], re.IGNORECASE))\n",
    "#         if freq_dic.get(word) == None:\n",
    "#             freq_dic[\"word\"] = word\n",
    "#             freq_dic[\"frequency\"] = word_frequency\n",
    "#         print(freq_dic)"
   ]
  },
  {
   "cell_type": "code",
   "execution_count": 381,
   "metadata": {},
   "outputs": [],
   "source": [
    "# freq_list = []\n",
    "# word_frequency = 0\n",
    "# text_clean = all_texts[0][\"text_as_string\"].replace(\".\", \" \")\n",
    "# text_clean = text_clean.replace(\",\", \" \")\n",
    "# text_clean = text_clean.replace(\":\", \" \")\n",
    "\n",
    "# words = text_clean.split()\n",
    "# for word in words:\n",
    "#     freq_dic = {}\n",
    "#     my_regex = r\"\\b\" + word + r\"\\b\"\n",
    "#     word_frequency = len(re.findall(my_regex, text_clean, re.IGNORECASE))\n",
    "#     if word not in freq_dic:\n",
    "#         freq_dic[\"word\"] = word.lower()\n",
    "#         freq_dic[\"frequency\"] = word_frequency\n",
    "#         freq_list.append(freq_dic)\n",
    "\n",
    "# result = [dict(t) for t in set([tuple(d.items()) for d in freq_list])]\n"
   ]
  },
  {
   "cell_type": "code",
   "execution_count": 379,
   "metadata": {},
   "outputs": [
    {
     "data": {
      "text/plain": [
       "[{'word': 'the', 'frequency': 17},\n",
       " {'word': 'we', 'frequency': 14},\n",
       " {'word': 'of', 'frequency': 13},\n",
       " {'word': 'and', 'frequency': 13},\n",
       " {'word': 'have', 'frequency': 7},\n",
       " {'word': 'to', 'frequency': 7},\n",
       " {'word': 'in', 'frequency': 6},\n",
       " {'word': 'a', 'frequency': 5},\n",
       " {'word': 'ashlee', 'frequency': 4},\n",
       " {'word': 'their', 'frequency': 4},\n",
       " {'word': 'all', 'frequency': 3},\n",
       " {'word': 'new', 'frequency': 3},\n",
       " {'word': 'with', 'frequency': 3},\n",
       " {'word': 'americans', 'frequency': 3},\n",
       " {'word': 'on', 'frequency': 3},\n",
       " {'word': 'america', 'frequency': 3},\n",
       " {'word': 'first', 'frequency': 3},\n",
       " {'word': 'since', 'frequency': 2},\n",
       " {'word': \"america's\", 'frequency': 2},\n",
       " {'word': 'mr', 'frequency': 2},\n",
       " {'word': 'hurricane', 'frequency': 2},\n",
       " {'word': 'people', 'frequency': 2},\n",
       " {'word': 'very', 'frequency': 2},\n",
       " {'word': 'was', 'frequency': 2},\n",
       " {'word': 'this', 'frequency': 2},\n",
       " {'word': 'year', 'frequency': 2},\n",
       " {'word': 'has', 'frequency': 2},\n",
       " {'word': 'already', 'frequency': 2},\n",
       " {'word': 'you', 'frequency': 2},\n",
       " {'word': 'saw', 'frequency': 2},\n",
       " {'word': 'thank', 'frequency': 2},\n",
       " {'word': 'who', 'frequency': 2},\n",
       " {'word': 'than', 'frequency': 2},\n",
       " {'word': 'american', 'frequency': 2},\n",
       " {'word': 'through', 'frequency': 2},\n",
       " {'word': 'our', 'frequency': 2},\n",
       " {'word': 'us', 'frequency': 2},\n",
       " {'word': 'each', 'frequency': 2},\n",
       " {'word': 'strangers', 'frequency': 2},\n",
       " {'word': 'save', 'frequency': 2},\n",
       " {'word': 'gunfire', 'frequency': 1},\n",
       " {'word': 'congress', 'frequency': 1},\n",
       " {'word': 'during', 'frequency': 1},\n",
       " {'word': 'day', 'frequency': 1},\n",
       " {'word': 'last', 'frequency': 1},\n",
       " {'word': 'never', 'frequency': 1},\n",
       " {'word': 'fires', 'frequency': 1},\n",
       " {'word': 'endured', 'frequency': 1},\n",
       " {'word': 'make', 'frequency': 1},\n",
       " {'word': 'from', 'frequency': 1},\n",
       " {'word': 'lines', 'frequency': 1},\n",
       " {'word': 'vice', 'frequency': 1},\n",
       " {'word': 'shared', 'frequency': 1},\n",
       " {'word': 'but', 'frequency': 1},\n",
       " {'word': 'states', 'frequency': 1},\n",
       " {'word': 'melania', 'frequency': 1},\n",
       " {'word': 'lives', 'frequency': 1},\n",
       " {'word': 'optimism', 'frequency': 1},\n",
       " {'word': 'pains', 'frequency': 1},\n",
       " {'word': 'power', 'frequency': 1},\n",
       " {'word': 'cajun', 'frequency': 1},\n",
       " {'word': 'land', 'frequency': 1},\n",
       " {'word': 'majestic', 'frequency': 1},\n",
       " {'word': 'action', 'frequency': 1},\n",
       " {'word': 'that', 'frequency': 1},\n",
       " {'word': 'wind', 'frequency': 1},\n",
       " {'word': 'steel', 'frequency': 1},\n",
       " {'word': 'achieved', 'frequency': 1},\n",
       " {'word': 'water', 'frequency': 1},\n",
       " {'word': 'taken', 'frequency': 1},\n",
       " {'word': 'progress', 'frequency': 1},\n",
       " {'word': 'i', 'frequency': 1},\n",
       " {'word': 'hail', 'frequency': 1},\n",
       " {'word': 'braved', 'frequency': 1},\n",
       " {'word': 'great', 'frequency': 1},\n",
       " {'word': 'gallery', 'frequency': 1},\n",
       " {'word': 'made', 'frequency': 1},\n",
       " {'word': 'can', 'frequency': 1},\n",
       " {'word': 'clear', 'frequency': 1},\n",
       " {'word': 'speak', 'frequency': 1},\n",
       " {'word': 'could', 'frequency': 1},\n",
       " {'word': 'volunteers', 'frequency': 1},\n",
       " {'word': 'president', 'frequency': 1},\n",
       " {'word': 'leppert', 'frequency': 1},\n",
       " {'word': 'storms', 'frequency': 1},\n",
       " {'word': 'devastating', 'frequency': 1},\n",
       " {'word': 'harvey', 'frequency': 1},\n",
       " {'word': 'navy', 'frequency': 1},\n",
       " {'word': '40', 'frequency': 1},\n",
       " {'word': 'hopes', 'frequency': 1},\n",
       " {'word': 'faced', 'frequency': 1},\n",
       " {'word': 'it', 'frequency': 1},\n",
       " {'word': 'show', 'frequency': 1},\n",
       " {'word': 'fishing', 'frequency': 1},\n",
       " {'word': 'hardship', 'frequency': 1},\n",
       " {'word': 'officer', 'frequency': 1},\n",
       " {'word': 'sweeping', 'frequency': 1},\n",
       " {'word': 'tide', 'frequency': 1},\n",
       " {'word': 'deep', 'frequency': 1},\n",
       " {'word': 'speaker', 'frequency': 1},\n",
       " {'word': 'dreams', 'frequency': 1},\n",
       " {'word': 'strip', 'frequency': 1},\n",
       " {'word': 'forged', 'frequency': 1},\n",
       " {'word': 'for', 'frequency': 1},\n",
       " {'word': 'be', 'frequency': 1},\n",
       " {'word': 'soul', 'frequency': 1},\n",
       " {'word': 'tales', 'frequency': 1},\n",
       " {'word': 'again', 'frequency': 1},\n",
       " {'word': '18', 'frequency': 1},\n",
       " {'word': 'rescue', 'frequency': 1},\n",
       " {'word': 'what', 'frequency': 1},\n",
       " {'word': 'las', 'frequency': 1},\n",
       " {'word': 'others', 'frequency': 1},\n",
       " {'word': 'righteous', 'frequency': 1},\n",
       " {'word': 'scene', 'frequency': 1},\n",
       " {'word': 'passed', 'frequency': 1},\n",
       " {'word': 'test', 'frequency': 1},\n",
       " {'word': 'across', 'frequency': 1},\n",
       " {'word': 'lady', 'frequency': 1},\n",
       " {'word': 'my', 'frequency': 1},\n",
       " {'word': 'here', 'frequency': 1},\n",
       " {'word': 'extraordinary', 'frequency': 1},\n",
       " {'word': 'tonight', 'frequency': 1},\n",
       " {'word': 'houston', 'frequency': 1},\n",
       " {'word': 'victory', 'frequency': 1},\n",
       " {'word': 'behalf', 'frequency': 1},\n",
       " {'word': 'mission', 'frequency': 1},\n",
       " {'word': 'petty', 'frequency': 1},\n",
       " {'word': 'like', 'frequency': 1},\n",
       " {'word': 'totally', 'frequency': 1},\n",
       " {'word': 'concerns', 'frequency': 1},\n",
       " {'word': '1', 'frequency': 1},\n",
       " {'word': 'members', 'frequency': 1},\n",
       " {'word': 'night', 'frequency': 1},\n",
       " {'word': 'vision', 'frequency': 1},\n",
       " {'word': 'challenges', 'frequency': 1},\n",
       " {'word': 'more', 'frequency': 1},\n",
       " {'word': 'stood', 'frequency': 1},\n",
       " {'word': 'united', 'frequency': 1},\n",
       " {'word': 'heard', 'frequency': 1},\n",
       " {'word': 'at', 'frequency': 1},\n",
       " {'word': 'helicopters', 'frequency': 1},\n",
       " {'word': 'help', 'frequency': 1},\n",
       " {'word': 'forward', 'frequency': 1},\n",
       " {'word': 'aftermath', 'frequency': 1},\n",
       " {'word': 'chamber', 'frequency': 1},\n",
       " {'word': 'shielding', 'frequency': 1},\n",
       " {'word': 'vegas', 'frequency': 1},\n",
       " {'word': 'administration', 'frequency': 1},\n",
       " {'word': 'aboard', 'frequency': 1},\n",
       " {'word': 'racing', 'frequency': 1},\n",
       " {'word': 'incredible', 'frequency': 1},\n",
       " {'word': 'rain', 'frequency': 1},\n",
       " {'word': 'remind', 'frequency': 1},\n",
       " {'word': 'swift', 'frequency': 1},\n",
       " {'word': 'gone', 'frequency': 1},\n",
       " {'word': 'are', 'frequency': 1},\n",
       " {'word': 'floods', 'frequency': 1},\n",
       " {'word': 'spine', 'frequency': 1},\n",
       " {'word': 'less', 'frequency': 1},\n",
       " {'word': 'fellow', 'frequency': 1},\n",
       " {'word': 'over', 'frequency': 1},\n",
       " {'word': 'coast', 'frequency': 1},\n",
       " {'word': 'address', 'frequency': 1},\n",
       " {'word': 'guard', 'frequency': 1},\n",
       " {'word': 'boats', 'frequency': 1},\n",
       " {'word': 'had', 'frequency': 1},\n",
       " {'word': 'podium', 'frequency': 1},\n",
       " {'word': 'beauty', 'frequency': 1},\n",
       " {'word': 'one', 'frequency': 1},\n",
       " {'word': 'heights', 'frequency': 1},\n",
       " {'word': 'much', 'frequency': 1},\n",
       " {'word': 'heroes', 'frequency': 1},\n",
       " {'word': 'hours', 'frequency': 1},\n",
       " {'word': 'seen', 'frequency': 1},\n",
       " {'word': 'is', 'frequency': 1},\n",
       " {'word': 'imagined', 'frequency': 1},\n",
       " {'word': 'expected', 'frequency': 1},\n",
       " {'word': 'success', 'frequency': 1},\n",
       " {'word': 'live', 'frequency': 1}]"
      ]
     },
     "execution_count": 379,
     "metadata": {},
     "output_type": "execute_result"
    }
   ],
   "source": [
    "# newlist = sorted(result, key=lambda k: k['frequency'], reverse=True) \n",
    "# newlist"
   ]
  },
  {
   "cell_type": "code",
   "execution_count": 384,
   "metadata": {},
   "outputs": [
    {
     "name": "stdout",
     "output_type": "stream",
     "text": [
      "[[{'word': 'the', 'frequency': 17}, {'word': 'we', 'frequency': 14}, {'word': 'of', 'frequency': 13}, {'word': 'and', 'frequency': 13}, {'word': 'have', 'frequency': 7}, {'word': 'to', 'frequency': 7}, {'word': 'in', 'frequency': 6}, {'word': 'a', 'frequency': 5}, {'word': 'ashlee', 'frequency': 4}, {'word': 'their', 'frequency': 4}, {'word': 'all', 'frequency': 3}, {'word': 'new', 'frequency': 3}, {'word': 'with', 'frequency': 3}, {'word': 'americans', 'frequency': 3}, {'word': 'on', 'frequency': 3}, {'word': 'america', 'frequency': 3}, {'word': 'first', 'frequency': 3}, {'word': 'since', 'frequency': 2}, {'word': \"america's\", 'frequency': 2}, {'word': 'mr', 'frequency': 2}, {'word': 'hurricane', 'frequency': 2}, {'word': 'people', 'frequency': 2}, {'word': 'very', 'frequency': 2}, {'word': 'was', 'frequency': 2}, {'word': 'this', 'frequency': 2}, {'word': 'year', 'frequency': 2}, {'word': 'has', 'frequency': 2}, {'word': 'already', 'frequency': 2}, {'word': 'you', 'frequency': 2}, {'word': 'saw', 'frequency': 2}, {'word': 'thank', 'frequency': 2}, {'word': 'who', 'frequency': 2}, {'word': 'than', 'frequency': 2}, {'word': 'american', 'frequency': 2}, {'word': 'through', 'frequency': 2}, {'word': 'our', 'frequency': 2}, {'word': 'us', 'frequency': 2}, {'word': 'each', 'frequency': 2}, {'word': 'strangers', 'frequency': 2}, {'word': 'save', 'frequency': 2}, {'word': 'gunfire', 'frequency': 1}, {'word': 'congress', 'frequency': 1}, {'word': 'during', 'frequency': 1}, {'word': 'day', 'frequency': 1}, {'word': 'last', 'frequency': 1}, {'word': 'never', 'frequency': 1}, {'word': 'fires', 'frequency': 1}, {'word': 'endured', 'frequency': 1}, {'word': 'make', 'frequency': 1}, {'word': 'from', 'frequency': 1}, {'word': 'lines', 'frequency': 1}, {'word': 'vice', 'frequency': 1}, {'word': 'shared', 'frequency': 1}, {'word': 'but', 'frequency': 1}, {'word': 'states', 'frequency': 1}, {'word': 'melania', 'frequency': 1}, {'word': 'lives', 'frequency': 1}, {'word': 'optimism', 'frequency': 1}, {'word': 'pains', 'frequency': 1}, {'word': 'power', 'frequency': 1}, {'word': 'cajun', 'frequency': 1}, {'word': 'land', 'frequency': 1}, {'word': 'majestic', 'frequency': 1}, {'word': 'action', 'frequency': 1}, {'word': 'that', 'frequency': 1}, {'word': 'wind', 'frequency': 1}, {'word': 'steel', 'frequency': 1}, {'word': 'achieved', 'frequency': 1}, {'word': 'water', 'frequency': 1}, {'word': 'taken', 'frequency': 1}, {'word': 'progress', 'frequency': 1}, {'word': 'i', 'frequency': 1}, {'word': 'hail', 'frequency': 1}, {'word': 'braved', 'frequency': 1}, {'word': 'great', 'frequency': 1}, {'word': 'gallery', 'frequency': 1}, {'word': 'made', 'frequency': 1}, {'word': 'can', 'frequency': 1}, {'word': 'clear', 'frequency': 1}, {'word': 'speak', 'frequency': 1}, {'word': 'could', 'frequency': 1}, {'word': 'volunteers', 'frequency': 1}, {'word': 'president', 'frequency': 1}, {'word': 'leppert', 'frequency': 1}, {'word': 'storms', 'frequency': 1}, {'word': 'devastating', 'frequency': 1}, {'word': 'harvey', 'frequency': 1}, {'word': 'navy', 'frequency': 1}, {'word': '40', 'frequency': 1}, {'word': 'hopes', 'frequency': 1}, {'word': 'faced', 'frequency': 1}, {'word': 'it', 'frequency': 1}, {'word': 'show', 'frequency': 1}, {'word': 'fishing', 'frequency': 1}, {'word': 'hardship', 'frequency': 1}, {'word': 'officer', 'frequency': 1}, {'word': 'sweeping', 'frequency': 1}, {'word': 'tide', 'frequency': 1}, {'word': 'deep', 'frequency': 1}, {'word': 'speaker', 'frequency': 1}, {'word': 'dreams', 'frequency': 1}, {'word': 'strip', 'frequency': 1}, {'word': 'forged', 'frequency': 1}, {'word': 'for', 'frequency': 1}, {'word': 'be', 'frequency': 1}, {'word': 'soul', 'frequency': 1}, {'word': 'tales', 'frequency': 1}, {'word': 'again', 'frequency': 1}, {'word': '18', 'frequency': 1}, {'word': 'rescue', 'frequency': 1}, {'word': 'what', 'frequency': 1}, {'word': 'las', 'frequency': 1}, {'word': 'others', 'frequency': 1}, {'word': 'righteous', 'frequency': 1}, {'word': 'scene', 'frequency': 1}, {'word': 'passed', 'frequency': 1}, {'word': 'test', 'frequency': 1}, {'word': 'across', 'frequency': 1}, {'word': 'lady', 'frequency': 1}, {'word': 'my', 'frequency': 1}, {'word': 'here', 'frequency': 1}, {'word': 'extraordinary', 'frequency': 1}, {'word': 'tonight', 'frequency': 1}, {'word': 'houston', 'frequency': 1}, {'word': 'victory', 'frequency': 1}, {'word': 'behalf', 'frequency': 1}, {'word': 'mission', 'frequency': 1}, {'word': 'petty', 'frequency': 1}, {'word': 'like', 'frequency': 1}, {'word': 'totally', 'frequency': 1}, {'word': 'concerns', 'frequency': 1}, {'word': '1', 'frequency': 1}, {'word': 'members', 'frequency': 1}, {'word': 'night', 'frequency': 1}, {'word': 'vision', 'frequency': 1}, {'word': 'challenges', 'frequency': 1}, {'word': 'more', 'frequency': 1}, {'word': 'stood', 'frequency': 1}, {'word': 'united', 'frequency': 1}, {'word': 'heard', 'frequency': 1}, {'word': 'at', 'frequency': 1}, {'word': 'helicopters', 'frequency': 1}, {'word': 'help', 'frequency': 1}, {'word': 'forward', 'frequency': 1}, {'word': 'aftermath', 'frequency': 1}, {'word': 'chamber', 'frequency': 1}, {'word': 'shielding', 'frequency': 1}, {'word': 'vegas', 'frequency': 1}, {'word': 'administration', 'frequency': 1}, {'word': 'aboard', 'frequency': 1}, {'word': 'racing', 'frequency': 1}, {'word': 'incredible', 'frequency': 1}, {'word': 'rain', 'frequency': 1}, {'word': 'remind', 'frequency': 1}, {'word': 'swift', 'frequency': 1}, {'word': 'gone', 'frequency': 1}, {'word': 'are', 'frequency': 1}, {'word': 'floods', 'frequency': 1}, {'word': 'spine', 'frequency': 1}, {'word': 'less', 'frequency': 1}, {'word': 'fellow', 'frequency': 1}, {'word': 'over', 'frequency': 1}, {'word': 'coast', 'frequency': 1}, {'word': 'address', 'frequency': 1}, {'word': 'guard', 'frequency': 1}, {'word': 'boats', 'frequency': 1}, {'word': 'had', 'frequency': 1}, {'word': 'podium', 'frequency': 1}, {'word': 'beauty', 'frequency': 1}, {'word': 'one', 'frequency': 1}, {'word': 'heights', 'frequency': 1}, {'word': 'much', 'frequency': 1}, {'word': 'heroes', 'frequency': 1}, {'word': 'hours', 'frequency': 1}, {'word': 'seen', 'frequency': 1}, {'word': 'is', 'frequency': 1}, {'word': 'imagined', 'frequency': 1}, {'word': 'expected', 'frequency': 1}, {'word': 'success', 'frequency': 1}, {'word': 'live', 'frequency': 1}], [{'word': 'the', 'frequency': 18}, {'word': 'of', 'frequency': 18}, {'word': 'is', 'frequency': 10}, {'word': 'and', 'frequency': 10}, {'word': 'our', 'frequency': 10}, {'word': 'we', 'frequency': 9}, {'word': 'will', 'frequency': 7}, {'word': 'a', 'frequency': 7}, {'word': 'in', 'frequency': 7}, {'word': 'that', 'frequency': 6}, {'word': 'america', 'frequency': 6}, {'word': 'to', 'frequency': 5}, {'word': 'as', 'frequency': 4}, {'word': 'all', 'frequency': 3}, {'word': 'new', 'frequency': 3}, {'word': 'american', 'frequency': 3}, {'word': 'nation', 'frequency': 3}, {'word': 'united', 'frequency': 3}, {'word': 'are', 'frequency': 3}, {'word': 'what', 'frequency': 3}, {'word': 'be', 'frequency': 3}, {'word': 'it', 'frequency': 3}, {'word': 'world', 'frequency': 3}, {'word': 'torch', 'frequency': 2}, {'word': 'tonight', 'frequency': 2}, {'word': 'mr', 'frequency': 2}, {'word': 'find', 'frequency': 2}, {'word': 'very', 'frequency': 2}, {'word': 'now', 'frequency': 2}, {'word': 'country', 'frequency': 2}, {'word': 'history', 'frequency': 2}, {'word': 'years', 'frequency': 2}, {'word': 'jewish', 'frequency': 2}, {'word': 'states', 'frequency': 2}, {'word': 'message', 'frequency': 2}, {'word': '250th', 'frequency': 2}, {'word': 'impossible', 'frequency': 1}, {'word': 'congress', 'frequency': 1}, {'word': 'day', 'frequency': 1}, {'word': 'passes', 'frequency': 1}, {'word': 'last', 'frequency': 1}, {'word': 'civil', 'frequency': 1}, {'word': 'black', 'frequency': 1}, {'word': 'community', 'frequency': 1}, {'word': 'from', 'frequency': 1}, {'word': 'vice', 'frequency': 1}, {'word': 'mark', 'frequency': 1}, {'word': 'beginning', 'frequency': 1}, {'word': 'but', 'frequency': 1}, {'word': 'optimism', 'frequency': 1}, {'word': 'strength', 'frequency': 1}, {'word': 'anniversary', 'frequency': 1}, {'word': 'spirit', 'frequency': 1}, {'word': 'light', 'frequency': 1}, {'word': 'pride', 'frequency': 1}, {'word': 'i', 'frequency': 1}, {'word': 'ready', 'frequency': 1}, {'word': 'great', 'frequency': 1}, {'word': 'rights', 'frequency': 1}, {'word': 'down', 'frequency': 1}, {'word': 'centers', 'frequency': 1}, {'word': 'us', 'frequency': 1}, {'word': 'since', 'frequency': 1}, {'word': 'reminded', 'frequency': 1}, {'word': 'celebration', 'frequency': 1}, {'word': 'grasp', 'frequency': 1}, {'word': 'generation', 'frequency': 1}, {'word': 'heart', 'frequency': 1}, {'word': 'president', 'frequency': 1}, {'word': 'well', 'frequency': 1}, {'word': 'strong', 'frequency': 1}, {'word': 'children?', 'frequency': 1}, {'word': 'its', 'frequency': 1}, {'word': 'year?', 'frequency': 1}, {'word': 'each', 'frequency': 1}, {'word': 'kind', 'frequency': 1}, {'word': 'targeting', 'frequency': 1}, {'word': 'evil', 'frequency': 1}, {'word': 'declared', 'frequency': 1}, {'word': 'sweeping', 'frequency': 1}, {'word': 'speaker', 'frequency': 1}, {'word': 'world—friend', 'frequency': 1}, {'word': 'placing', 'frequency': 1}, {'word': 'dreams', 'frequency': 1}, {'word': 'for', 'frequency': 1}, {'word': 'liberty', 'frequency': 1}, {'word': 'firmly', 'frequency': 1}, {'word': 'remains', 'frequency': 1}, {'word': \"nation's\", 'frequency': 1}, {'word': 'way', 'frequency': 1}, {'word': 'greatness', 'frequency': 1}, {'word': 'again', 'frequency': 1}, {'word': 'path', 'frequency': 1}, {'word': 'conclusion', 'frequency': 1}, {'word': 'may', 'frequency': 1}, {'word': 'ugly', 'frequency': 1}, {'word': 'witnessing', 'frequency': 1}, {'word': 'founding', 'frequency': 1}, {'word': 'deliver', 'frequency': 1}, {'word': 'surge', 'frequency': 1}, {'word': 'on', 'frequency': 1}, {'word': 'chapter', 'frequency': 1}, {'word': 'foe—will', 'frequency': 1}, {'word': 'vandalism', 'frequency': 1}, {'word': 'across', 'frequency': 1}, {'word': 'lady', 'frequency': 1}, {'word': 'city', 'frequency': 1}, {'word': 'once', 'frequency': 1}, {'word': 'policies', 'frequency': 1}, {'word': 'my', 'frequency': 1}, {'word': 'here', 'frequency': 1}, {'word': 'recent', 'frequency': 1}, {'word': 'nations', 'frequency': 1}, {'word': 'thank', 'frequency': 1}, {'word': 'hate', 'frequency': 1}, {'word': 'still', 'frequency': 1}, {'word': 'forms', 'frequency': 1}, {'word': 'free', 'frequency': 1}, {'word': 'kansas', 'frequency': 1}, {'word': 'proud', 'frequency': 1}, {'word': 'renewal', 'frequency': 1}, {'word': '250', 'frequency': 1}, {'word': 'like', 'frequency': 1}, {'word': 'or', 'frequency': 1}, {'word': 'first', 'frequency': 1}, {'word': 'shooting', 'frequency': 1}, {'word': 'lead', 'frequency': 1}, {'word': 'members', 'frequency': 1}, {'word': 'delivered', 'frequency': 1}, {'word': '9', 'frequency': 1}, {'word': \"week's\", 'frequency': 1}, {'word': 'national', 'frequency': 1}, {'word': 'citizens', 'frequency': 1}, {'word': 'you', 'frequency': 1}, {'word': 'within', 'frequency': 1}, {'word': 'justice', 'frequency': 1}, {'word': 'today', 'frequency': 1}, {'word': 'deeply', 'frequency': 1}, {'word': 'leave', 'frequency': 1}, {'word': 'celebrate', 'frequency': 1}, {'word': 'an', 'frequency': 1}, {'word': 'reach', 'frequency': 1}, {'word': 'unbroken', 'frequency': 1}, {'word': 'remind', 'frequency': 1}, {'word': 'truth', 'frequency': 1}, {'word': 'chain', 'frequency': 1}, {'word': 'done', 'frequency': 1}, {'word': 'allies', 'frequency': 1}, {'word': 'while', 'frequency': 1}, {'word': 'month', 'frequency': 1}, {'word': 'threats', 'frequency': 1}, {'word': 'use', 'frequency': 1}, {'word': 'stands', 'frequency': 1}, {'word': 'am', 'frequency': 1}, {'word': 'towards', 'frequency': 1}, {'word': 'divided', 'frequency': 1}, {'word': 'independence', 'frequency': 1}, {'word': 'work', 'frequency': 1}, {'word': 'unity', 'frequency': 1}, {'word': 'one', 'frequency': 1}, {'word': 'condemning', 'frequency': 1}, {'word': 'much', 'frequency': 1}, {'word': 'milestones', 'frequency': 1}, {'word': 'hands', 'frequency': 1}, {'word': 'present', 'frequency': 1}, {'word': 'up', 'frequency': 1}, {'word': 'cemeteries', 'frequency': 1}, {'word': 'look', 'frequency': 1}], [{'word': 'to', 'frequency': 16}, {'word': 'i', 'frequency': 16}, {'word': 'the', 'frequency': 13}, {'word': 'for', 'frequency': 8}, {'word': 'and', 'frequency': 8}, {'word': 'on', 'frequency': 6}, {'word': '[laughter]', 'frequency': 6}, {'word': 'year', 'frequency': 6}, {'word': 'of', 'frequency': 5}, {'word': 'want', 'frequency': 5}, {'word': 'this', 'frequency': 4}, {'word': 'you', 'frequency': 4}, {'word': 'that', 'frequency': 4}, {'word': 'next', 'frequency': 3}, {'word': 'we', 'frequency': 3}, {'word': 'but', 'frequency': 3}, {'word': \"i've\", 'frequency': 3}, {'word': 'still', 'frequency': 3}, {'word': 'some', 'frequency': 3}, {'word': 'work', 'frequency': 3}, {'word': 'a', 'frequency': 3}, {'word': 'are', 'frequency': 3}, {'word': 'mr', 'frequency': 3}, {'word': 'working', 'frequency': 2}, {'word': 'tonight', 'frequency': 2}, {'word': 'final', 'frequency': 2}, {'word': 'make', 'frequency': 2}, {'word': 'be', 'frequency': 2}, {'word': 'done', 'frequency': 2}, {'word': 'they', 'frequency': 2}, {'word': 'focus', 'frequency': 2}, {'word': \"don't\", 'frequency': 2}, {'word': 'families', 'frequency': 2}, {'word': 'abuse', 'frequency': 2}, {'word': 'so', 'frequency': 2}, {'word': 'my', 'frequency': 2}, {'word': 'who', 'frequency': 2}, {'word': 'speaker', 'frequency': 2}, {'word': 'years', 'frequency': 2}, {'word': 'our', 'frequency': 2}, {'word': 'will', 'frequency': 2}, {'word': 'it', 'frequency': 2}, {'word': 'get', 'frequency': 2}, {'word': 'helping', 'frequency': 2}, {'word': 'equal', 'frequency': 2}, {'word': 'from', 'frequency': 2}, {'word': 'because', 'frequency': 1}, {'word': 'congress', 'frequency': 1}, {'word': 'go', 'frequency': 1}, {'word': 'raising', 'frequency': 1}, {'word': \"i'm\", 'frequency': 1}, {'word': 'last', 'frequency': 1}, {'word': \"it's\", 'frequency': 1}, {'word': 'students', 'frequency': 1}, {'word': 'vice', 'frequency': 1}, {'word': 'beyond', 'frequency': 1}, {'word': 'state', 'frequency': 1}, {'word': 'patients', 'frequency': 1}, {'word': 'worry', 'frequency': 1}, {'word': 'took', 'frequency': 1}, {'word': 'americans', 'frequency': 1}, {'word': 'priorities', 'frequency': 1}, {'word': 'computer', 'frequency': 1}, {'word': 'protecting', 'frequency': 1}, {'word': 'future', 'frequency': 1}, {'word': 'these', 'frequency': 1}, {'word': 'progress', 'frequency': 1}, {'word': 'hope', 'frequency': 1}, {'word': 'end', 'frequency': 1}, {'word': 'can', 'frequency': 1}, {'word': 'about', 'frequency': 1}, {'word': 'things', 'frequency': 1}, {'word': \"they're\", 'frequency': 1}, {'word': 'battling', 'frequency': 1}, {'word': 'broken', 'frequency': 1}, {'word': 'heroin', 'frequency': 1}, {'word': 'back', 'frequency': 1}, {'word': 'minimum', 'frequency': 1}, {'word': 'president', 'frequency': 1}, {'word': 'drug', 'frequency': 1}, {'word': 'other', 'frequency': 1}, {'word': 'traditional', 'frequency': 1}, {'word': 'criminal', 'frequency': 1}, {'word': 'cynics', 'frequency': 1}, {'word': 'marks', 'frequency': 1}, {'word': 'just', 'frequency': 1}, {'word': 'eighth', 'frequency': 1}, {'word': 'shaking', 'frequency': 1}, {'word': 'personalizing', 'frequency': 1}, {'word': 'wage', 'frequency': 1}, {'word': '5', 'frequency': 1}, {'word': 'there', 'frequency': 1}, {'word': 'kids', 'frequency': 1}, {'word': \"i'll\", 'frequency': 1}, {'word': 'going', 'frequency': 1}, {'word': 'let', 'frequency': 1}, {'word': 'needs', 'frequency': 1}, {'word': 'budget', 'frequency': 1}, {'word': 'iowa', 'frequency': 1}, {'word': 'tax', 'frequency': 1}, {'word': 'again', 'frequency': 1}, {'word': 'what', 'frequency': 1}, {'word': 'ahead', 'frequency': 1}, {'word': 'together', 'frequency': 1}, {'word': 'medical', 'frequency': 1}, {'word': 'leaders', 'frequency': 1}, {'word': 'prescription', 'frequency': 1}, {'word': 'list', 'frequency': 1}, {'word': 'constructive', 'frequency': 1}, {'word': 'reform', 'frequency': 1}, {'word': 'approach', 'frequency': 1}, {'word': 'know', 'frequency': 1}, {'word': 'here', 'frequency': 1}, {'word': \"won't\", 'frequency': 1}, {'word': 'permanent', 'frequency': 1}, {'word': 'do', 'frequency': 1}, {'word': 'thank', 'frequency': 1}, {'word': 'fixing', 'frequency': 1}, {'word': 'all', 'frequency': 1}, {'word': 'hard-working', 'frequency': 1}, {'word': 'tips', 'frequency': 1}, {'word': 'like', 'frequency': 1}, {'word': 'proposals', 'frequency': 1}, {'word': 'paid', 'frequency': 1}, {'word': 'been', 'frequency': 1}, {'word': 'members', 'frequency': 1}, {'word': 'shorter', 'frequency': 1}, {'word': 'try', 'frequency': 1}, {'word': 'bipartisan', 'frequency': 1}, {'word': 'at', 'frequency': 1}, {'word': 'immigration', 'frequency': 1}, {'word': 'season', 'frequency': 1}, {'word': 'justice', 'frequency': 1}, {'word': 'right', 'frequency': 1}, {'word': 'chamber', 'frequency': 1}, {'word': 'keep', 'frequency': 1}, {'word': 'leave', 'frequency': 1}, {'word': 'antsy', 'frequency': 1}, {'word': 'afterwards', 'frequency': 1}, {'word': 'understand', 'frequency': 1}, {'word': 'an', 'frequency': 1}, {'word': 'achieve', 'frequency': 1}, {'word': 'pay', 'frequency': 1}, {'word': 'knows', 'frequency': 1}, {'word': 'believe', 'frequency': 1}, {'word': 'if', 'frequency': 1}, {'word': 'matter', 'frequency': 1}, {'word': 'little', 'frequency': 1}, {'word': 'election', 'frequency': 1}, {'word': 'low', 'frequency': 1}, {'word': 'union', 'frequency': 1}, {'word': 'pushing', 'frequency': 1}, {'word': '10', 'frequency': 1}, {'word': 'got', 'frequency': 1}, {'word': 'treatments', 'frequency': 1}, {'word': 'report', 'frequency': 1}, {'word': 'might', 'frequency': 1}, {'word': 'fellow', 'frequency': 1}, {'word': 'thing', 'frequency': 1}, {'word': 'until', 'frequency': 1}, {'word': 'cuts', 'frequency': 1}, {'word': 'write', 'frequency': 1}, {'word': 'address', 'frequency': 1}, {'word': 'come', 'frequency': 1}, {'word': 'code', 'frequency': 1}, {'word': 'people', 'frequency': 1}, {'word': 'appreciate', 'frequency': 1}, {'word': 'violence', 'frequency': 1}, {'word': 'one', 'frequency': 1}, {'word': 'system', 'frequency': 1}, {'word': 'pass', 'frequency': 1}, {'word': 'talk', 'frequency': 1}, {'word': 'expectations', 'frequency': 1}, {'word': 'hands', 'frequency': 1}, {'word': 'learn', 'frequency': 1}, {'word': 'up', 'frequency': 1}, {'word': 'surprise', 'frequency': 1}, {'word': 'gun', 'frequency': 1}, {'word': 'now', 'frequency': 1}, {'word': 'easy', 'frequency': 1}, {'word': 'plenty—[laughter]—from', 'frequency': 0}], [{'word': 'and', 'frequency': 12}, {'word': 'the', 'frequency': 12}, {'word': 'for', 'frequency': 7}, {'word': 'our', 'frequency': 7}, {'word': 'we', 'frequency': 7}, {'word': 'of', 'frequency': 7}, {'word': 'is', 'frequency': 5}, {'word': 'that', 'frequency': 5}, {'word': 'are', 'frequency': 5}, {'word': 'a', 'frequency': 4}, {'word': 'in', 'frequency': 4}, {'word': 'years', 'frequency': 4}, {'word': 'than', 'frequency': 4}, {'word': 'has', 'frequency': 3}, {'word': 'before', 'frequency': 3}, {'word': 'all', 'frequency': 3}, {'word': 'this', 'frequency': 3}, {'word': 'tonight', 'frequency': 3}, {'word': 'afghanistan', 'frequency': 2}, {'word': 'served', 'frequency': 2}, {'word': 'since', 'frequency': 2}, {'word': 'mr', 'frequency': 2}, {'word': '15', 'frequency': 2}, {'word': 'with', 'frequency': 2}, {'word': 'crisis', 'frequency': 2}, {'word': 'generation', 'frequency': 2}, {'word': 'new', 'frequency': 2}, {'word': 'more', 'frequency': 2}, {'word': '000', 'frequency': 2}, {'word': 'hard', 'frequency': 2}, {'word': 'been', 'frequency': 2}, {'word': 'it', 'frequency': 2}, {'word': 'to', 'frequency': 2}, {'word': 'time', 'frequency': 2}, {'word': 'ever', 'frequency': 2}, {'word': 'as', 'frequency': 2}, {'word': 'america', 'frequency': 2}, {'word': '9/11', 'frequency': 2}, {'word': 'woman', 'frequency': 1}, {'word': 'congress', 'frequency': 1}, {'word': 'lower', 'frequency': 1}, {'word': 'wars', 'frequency': 1}, {'word': '30', 'frequency': 1}, {'word': 'graduating', 'frequency': 1}, {'word': 'endured', 'frequency': 1}, {'word': 'from', 'frequency': 1}, {'word': '1999', 'frequency': 1}, {'word': 'vice', 'frequency': 1}, {'word': 'but', 'frequency': 1}, {'word': 'state', 'frequency': 1}, {'word': 'grip', 'frequency': 1}, {'word': 'jobs', 'frequency': 1}, {'word': 'americans', 'frequency': 1}, {'word': 'safe', 'frequency': 1}, {'word': 'required', 'frequency': 1}, {'word': 'fewer', 'frequency': 1}, {'word': 'page', 'frequency': 1}, {'word': 'growing', 'frequency': 1}, {'word': 'shadow', 'frequency': 1}, {'word': 'us', 'frequency': 1}, {'word': 'dawned', 'frequency': 1}, {'word': 'back', 'frequency': 1}, {'word': 'remain', 'frequency': 1}, {'word': 'saw', 'frequency': 1}, {'word': 'president', 'frequency': 1}, {'word': 'man', 'frequency': 1}, {'word': 'strong', 'frequency': 1}, {'word': 'tasks', 'frequency': 1}, {'word': \"we've\", 'frequency': 1}, {'word': 'american', 'frequency': 1}, {'word': 'iraq', 'frequency': 1}, {'word': 'ago', 'frequency': 1}, {'word': 'financial', 'frequency': 1}, {'word': 'breakthrough', 'frequency': 1}, {'word': 'unemployment', 'frequency': 1}, {'word': 'speaker', 'frequency': 1}, {'word': 'kids', 'frequency': 1}, {'word': 'your', 'frequency': 1}, {'word': 'turn', 'frequency': 1}, {'word': 'combat', 'frequency': 1}, {'word': 'oil', 'frequency': 1}, {'word': 'nation', 'frequency': 1}, {'word': 'every', 'frequency': 1}, {'word': 'pace', 'frequency': 1}, {'word': 'insured', 'frequency': 1}, {'word': 'century', 'frequency': 1}, {'word': 'ahead', 'frequency': 1}, {'word': 'terror', 'frequency': 1}, {'word': 'into', 'frequency': 1}, {'word': 'vicious', 'frequency': 1}, {'word': 'troops', 'frequency': 1}, {'word': 'rate', 'frequency': 1}, {'word': 'passed', 'frequency': 1}, {'word': 'courage', 'frequency': 1}, {'word': 'across', 'frequency': 1}, {'word': 'know', 'frequency': 1}, {'word': 'my', 'frequency': 1}, {'word': 'creating', 'frequency': 1}, {'word': 'costly', 'frequency': 1}, {'word': 'who', 'frequency': 1}, {'word': 'still', 'frequency': 1}, {'word': 'free', 'frequency': 1}, {'word': 'mission', 'frequency': 1}, {'word': 'first', 'frequency': 1}, {'word': 'almost', 'frequency': 1}, {'word': 'members', 'frequency': 1}, {'word': 'fighting', 'frequency': 1}, {'word': 'long', 'frequency': 1}, {'word': 'spread', 'frequency': 1}, {'word': 'grateful', 'frequency': 1}, {'word': 'at', 'frequency': 1}, {'word': 'many', 'frequency': 1}, {'word': 'today', 'frequency': 1}, {'word': 'lie', 'frequency': 1}, {'word': 'keep', 'frequency': 1}, {'word': 'sacrifice', 'frequency': 1}, {'word': 'shores', 'frequency': 1}, {'word': '180', 'frequency': 1}, {'word': 'year', 'frequency': 1}, {'word': 'unfolded', 'frequency': 1}, {'word': 'union', 'frequency': 1}, {'word': 'nearly', 'frequency': 1}, {'word': 'world', 'frequency': 1}, {'word': 'grit', 'frequency': 1}, {'word': 'two', 'frequency': 1}, {'word': 'was', 'frequency': 1}, {'word': 'fellow', 'frequency': 1}, {'word': 'over', 'frequency': 1}, {'word': 'recession', 'frequency': 1}, {'word': 'fastest', 'frequency': 1}, {'word': 'economy', 'frequency': 1}, {'word': 'work', 'frequency': 1}, {'word': 'service', 'frequency': 1}, {'word': 'humbled', 'frequency': 1}, {'word': 'come', 'frequency': 1}, {'word': 'foreign', 'frequency': 1}, {'word': 'people', 'frequency': 1}, {'word': 'salute', 'frequency': 1}, {'word': 'fifteen', 'frequency': 1}, {'word': 'after', 'frequency': 1}, {'word': 'touching', 'frequency': 1}, {'word': 'have', 'frequency': 1}, {'word': 'six', 'frequency': 1}, {'word': 'now', 'frequency': 1}], [{'word': 'the', 'frequency': 22}, {'word': 'a', 'frequency': 10}, {'word': 'in', 'frequency': 10}, {'word': 'to', 'frequency': 9}, {'word': 'and', 'frequency': 8}, {'word': 'of', 'frequency': 6}, {'word': 'america', 'frequency': 5}, {'word': 'our', 'frequency': 5}, {'word': 'for', 'frequency': 5}, {'word': 'that', 'frequency': 5}, {'word': 'is', 'frequency': 4}, {'word': 'more', 'frequency': 4}, {'word': 'world', 'frequency': 4}, {'word': 'years', 'frequency': 4}, {'word': 'than', 'frequency': 4}, {'word': 'an', 'frequency': 4}, {'word': 'first', 'frequency': 4}, {'word': 'time', 'frequency': 4}, {'word': 'his', 'frequency': 3}, {'word': 'from', 'frequency': 3}, {'word': 'her', 'frequency': 3}, {'word': 'home', 'frequency': 3}, {'word': 'did', 'frequency': 3}, {'word': 'over', 'frequency': 3}, {'word': 'part', 'frequency': 3}, {'word': 'their', 'frequency': 2}, {'word': 'mr', 'frequency': 2}, {'word': 'have', 'frequency': 2}, {'word': 'oil', 'frequency': 2}, {'word': 'with', 'frequency': 2}, {'word': \"that's\", 'frequency': 2}, {'word': 'jobs', 'frequency': 2}, {'word': 'around', 'frequency': 2}, {'word': 'we', 'frequency': 2}, {'word': '5', 'frequency': 2}, {'word': 'who', 'frequency': 2}, {'word': 'after', 'frequency': 2}, {'word': 'rate', 'frequency': 2}, {'word': 'it', 'frequency': 2}, {'word': 'one', 'frequency': 2}, {'word': 'exports', 'frequency': 1}, {'word': 'congress', 'frequency': 1}, {'word': 'treat', 'frequency': 1}, {'word': 'million', 'frequency': 1}, {'word': 'sector', 'frequency': 1}, {'word': 'by', 'frequency': 1}, {'word': 'flipped', 'frequency': 1}, {'word': 'make', 'frequency': 1}, {'word': 'vice', 'frequency': 1}, {'word': 'but', 'frequency': 1}, {'word': '20', 'frequency': 1}, {'word': 'results', 'frequency': 1}, {'word': 'state', 'frequency': 1}, {'word': 'remember', 'frequency': 1}, {'word': 'invest', 'frequency': 1}, {'word': 'took', 'frequency': 1}, {'word': 'americans', 'frequency': 1}, {'word': 'give', 'frequency': 1}, {'word': \"world's\", 'frequency': 1}, {'word': 'farm', 'frequency': 1}, {'word': 'coming', 'frequency': 1}, {'word': 'arm', 'frequency': 1}, {'word': 'thanks', 'frequency': 1}, {'word': 'cut', 'frequency': 1}, {'word': 'itself', 'frequency': 1}, {'word': 'buy', 'frequency': 1}, {'word': 'end', 'frequency': 1}, {'word': 'past', 'frequency': 1}, {'word': 'since', 'frequency': 1}, {'word': 'lights', 'frequency': 1}, {'word': 'three', 'frequency': 1}, {'word': 'war', 'frequency': 1}, {'word': 'could', 'frequency': 1}, {'word': 'extra', 'frequency': 1}, {'word': 'created', 'frequency': 1}, {'word': 'president', 'frequency': 1}, {'word': 'man', 'frequency': 1}, {'word': 'comrades', 'frequency': 1}, {'word': 'rest', 'frequency': 1}, {'word': 'strong', 'frequency': 1}, {'word': 'tech', 'frequency': 1}, {'word': 'big', 'frequency': 1}, {'word': 'entrepreneur', 'frequency': 1}, {'word': 'efforts', 'frequency': 1}, {'word': 'its', 'frequency': 1}, {'word': 'graduation', 'frequency': 1}, {'word': 'half', 'frequency': 1}, {'word': 'manufacturing', 'frequency': 1}, {'word': \"america's\", 'frequency': 1}, {'word': 'mother', 'frequency': 1}, {'word': 'tight-knit', 'frequency': 1}, {'word': 'longer', 'frequency': 1}, {'word': 'fallen', 'frequency': 1}, {'word': 'autoworker', 'frequency': 1}, {'word': 'declared', 'frequency': 1}, {'word': 'mothers', 'frequency': 1}, {'word': 'unemployment', 'frequency': 1}, {'word': 'off', 'frequency': 1}, {'word': 'speaker', 'frequency': 1}, {'word': 'child', 'frequency': 1}, {'word': 'fine-tuned', 'frequency': 1}, {'word': 'most', 'frequency': 1}, {'word': 'shift', 'frequency': 1}, {'word': 'dreams', 'frequency': 1}, {'word': 'kids', 'frequency': 1}, {'word': 'afford', 'frequency': 1}, {'word': 'your', 'frequency': 1}, {'word': 'rebounding', 'frequency': 1}, {'word': 'housing', 'frequency': 1}, {'word': 'strongest', 'frequency': 1}, {'word': 'teacher', 'frequency': 1}, {'word': 'no', 'frequency': 1}, {'word': 'graveyard', 'frequency': 1}, {'word': 'rural', 'frequency': 1}, {'word': 'student', 'frequency': 1}, {'word': 'will', 'frequency': 1}, {'word': 'voice', 'frequency': 1}, {'word': 'startup', 'frequency': 1}, {'word': 'on', 'frequency': 1}, {'word': 'business', 'frequency': 1}, {'word': 'young', 'frequency': 1}, {'word': 'prescription', 'frequency': 1}, {'word': 'leaders', 'frequency': 1}, {'word': 'decades', 'frequency': 1}, {'word': 'decade', 'frequency': 1}, {'word': 'son', 'frequency': 1}, {'word': 'across', 'frequency': 1}, {'word': 'spent', 'frequency': 1}, {'word': 'my', 'frequency': 1}, {'word': 'here', 'frequency': 1}, {'word': 'china', 'frequency': 1}, {'word': 'tonight', 'frequency': 1}, {'word': 'doctor', 'frequency': 1}, {'word': 'all', 'frequency': 1}, {'word': 'add', 'frequency': 1}, {'word': 'lift', 'frequency': 1}, {'word': 'highest', 'frequency': 1}, {'word': 'communities', 'frequency': 1}, {'word': 'being', 'frequency': 1}, {'word': 'fathers', 'frequency': 1}, {'word': '5-year', 'frequency': 1}, {'word': 'members', 'frequency': 1}, {'word': 'long', 'frequency': 1}, {'word': 'finally', 'frequency': 1}, {'word': 'bone-tired', 'frequency': 1}, {'word': 'citizens', 'frequency': 1}, {'word': 'farmer', 'frequency': 1}, {'word': 'at', 'frequency': 1}, {'word': 'number-one', 'frequency': 1}, {'word': 'dreaming', 'frequency': 1}, {'word': 'new', 'frequency': 1}, {'word': 'help', 'frequency': 1}, {'word': '12', 'frequency': 1}, {'word': 'you', 'frequency': 1}, {'word': 'fuel-efficient', 'frequency': 1}, {'word': 'asthma', 'frequency': 1}, {'word': 'chamber', 'frequency': 1}, {'word': 'today', 'frequency': 1}, {'word': 'adding', 'frequency': 1}, {'word': 'spring', 'frequency': 1}, {'word': '8', 'frequency': 1}, {'word': 'produced', 'frequency': 1}, {'word': 'history', 'frequency': 1}, {'word': 'are', 'frequency': 1}, {'word': 'tuck', 'frequency': 1}, {'word': 'bus', 'frequency': 1}, {'word': 'best', 'frequency': 1}, {'word': 'union', 'frequency': 1}, {'word': 'this', 'frequency': 1}, {'word': 'nearly', 'frequency': 1}, {'word': 'deficits', 'frequency': 1}, {'word': 'spouse', 'frequency': 1}, {'word': 'levels', 'frequency': 1}, {'word': 'businesses', 'frequency': 1}, {'word': 'fellow', 'frequency': 1}, {'word': 'gave', 'frequency': 1}, {'word': 'happened', 'frequency': 1}, {'word': 'prepared', 'frequency': 1}, {'word': 'put', 'frequency': 1}, {'word': 'stretch', 'frequency': 1}, {'word': 'place', 'frequency': 1}, {'word': 'some', 'frequency': 1}, {'word': 'needed', 'frequency': 1}, {'word': 'foreign', 'frequency': 1}, {'word': 'people', 'frequency': 1}, {'word': 'lowest', 'frequency': 1}, {'word': '4', 'frequency': 1}, {'word': 'wean', 'frequency': 1}, {'word': 'speaks', 'frequency': 1}, {'word': 'represent', 'frequency': 1}, {'word': 'cars', 'frequency': 1}, {'word': 'market;', 'frequency': 0}, {'word': '1990s;', 'frequency': 0}, {'word': 'years;', 'frequency': 0}]]\n"
     ]
    }
   ],
   "source": [
    "#counting each passage individually\n",
    "\n",
    "freq_list_all = []\n",
    "for text in all_texts:\n",
    "    freq_list = []\n",
    "    word_frequency = 0\n",
    "    text_clean = text[\"text_as_string\"].replace(\".\", \" \")\n",
    "    text_clean = text_clean.replace(\",\", \" \")\n",
    "    text_clean = text_clean.replace(\":\", \" \")\n",
    "\n",
    "    words = text_clean.split()\n",
    "    for word in words:\n",
    "        freq_dic = {}\n",
    "        my_regex = r\"\\b\" + word + r\"\\b\"\n",
    "        word_frequency = len(re.findall(my_regex, text_clean, re.IGNORECASE))\n",
    "        if word not in freq_dic:\n",
    "            freq_dic[\"word\"] = word.lower()\n",
    "            freq_dic[\"frequency\"] = word_frequency\n",
    "            freq_list.append(freq_dic)\n",
    "\n",
    "    result = [dict(t) for t in set([tuple(d.items()) for d in freq_list])]\n",
    "    newlist = sorted(result, key=lambda k: k['frequency'], reverse=True) \n",
    "    freq_list_all.append(newlist)\n",
    "print(freq_list_all)"
   ]
  }
 ],
 "metadata": {
  "kernelspec": {
   "display_name": "Python 3",
   "language": "python",
   "name": "python3"
  },
  "language_info": {
   "codemirror_mode": {
    "name": "ipython",
    "version": 3
   },
   "file_extension": ".py",
   "mimetype": "text/x-python",
   "name": "python",
   "nbconvert_exporter": "python",
   "pygments_lexer": "ipython3",
   "version": "3.6.5"
  }
 },
 "nbformat": 4,
 "nbformat_minor": 2
}
