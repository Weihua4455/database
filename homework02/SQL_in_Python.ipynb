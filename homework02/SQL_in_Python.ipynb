{
 "cells": [
  {
   "cell_type": "markdown",
   "metadata": {},
   "source": [
    "# Writing SQL Queries in Python"
   ]
  },
  {
   "cell_type": "markdown",
   "metadata": {},
   "source": [
    "It's finally time (just one week in) to liberate yourself from running SQL in the shell! \n",
    "Now we will move into the peaceful iPython Notebook where we will happily play with our data for the next month."
   ]
  },
  {
   "cell_type": "markdown",
   "metadata": {},
   "source": [
    "## Python PostgreSQL libraries"
   ]
  },
  {
   "cell_type": "markdown",
   "metadata": {},
   "source": [
    "To connect from Python to the PostgreSQL database you have installed on your computer, we need a library (database adapter library). For this class we will use [pg8000](https://github.com/mfenniak/pg8000). It is written entirely in Python, and it is easy to install. \n",
    "\n",
    "The other library many people use, psycopg2, is much faster(http://blog.fizyk.net.pl/blog/sqlalchemy-speed-tests-on-postgres-and-mysql.html) but tricky to install--so we will stick with the basics. If you find you need greater performance in the future, you will find the coding syntax quite similar. If you want to learn more about these packages [here is a nice summary](https://www.openscg.com/2017/01/how-to-pick-a-postgresql-python-driver/)\n",
    "\n"
   ]
  },
  {
   "cell_type": "markdown",
   "metadata": {},
   "source": [
    "## Installing pg8000\n",
    "\n",
    "First make sure you have `pip` installed on computer! Then write:\n",
    "\n",
    "    pip3 install pg8000\n",
    "    \n",
    "(Hopefully this will do the trick. Use sudo if that's what you do.)"
   ]
  },
  {
   "cell_type": "markdown",
   "metadata": {},
   "source": [
    "## Connecting to a database with pg8000"
   ]
  },
  {
   "cell_type": "markdown",
   "metadata": {},
   "source": [
    "When using a SQL server from Python, two main objects are necessary to make the connection and to send queries and commands:\n",
    "\n",
    "* 1. The *connection Object*, pg8000.connect(), which connects you to the database and server. You can pass a few parameters inside the connect() function, including the name of the database, user, password and others. (See documentation here)[http://pythonhosted.org/pg8000/dbapi.html#pg8000.connect]\n",
    "* 2. *cursor objects*, which you use to make SQL queries and retrieve data returned from those queries.\n",
    "\n",
    "To create a connection object, call `pg8000`'s `connect()` function:"
   ]
  },
  {
   "cell_type": "code",
   "execution_count": 8,
   "metadata": {},
   "outputs": [
    {
     "name": "stdout",
     "output_type": "stream",
     "text": [
      "<class 'pg8000.core.Connection'>\n"
     ]
    }
   ],
   "source": [
    "import pg8000\n",
    "#conn = pg8000.connect(database=\"mondial\")\n",
    "#You may need to specify the Username\n",
    "conn = pg8000.connect(database=\"mondial\", user=\"postgres\")\n",
    "print(type(conn))"
   ]
  },
  {
   "cell_type": "markdown",
   "metadata": {},
   "source": [
    "## Making a query"
   ]
  },
  {
   "cell_type": "markdown",
   "metadata": {},
   "source": [
    "Now that we've connected, you need create a cursor() object through which we will send commands. (Imagine this as an actual blinking cursor on page that you will type into. We are using the connection object's `.cursor()` method:"
   ]
  },
  {
   "cell_type": "code",
   "execution_count": 9,
   "metadata": {},
   "outputs": [
    {
     "name": "stdout",
     "output_type": "stream",
     "text": [
      "<class 'pg8000.core.Cursor'>\n"
     ]
    }
   ],
   "source": [
    "cursor = conn.cursor()\n",
    "print(type(cursor))"
   ]
  },
  {
   "cell_type": "markdown",
   "metadata": {},
   "source": [
    "The cursor object has several methods of interest to us. You can find all of the properties of the cursor method on the [documentation page](http://pythonhosted.org/pg8000/dbapi.html). The first and most important is `.execute()`, which takes a SQL statement (in a Python string) as a parameter:"
   ]
  },
  {
   "cell_type": "code",
   "execution_count": 14,
   "metadata": {},
   "outputs": [],
   "source": [
    "#Longest rivers\n",
    "cursor.execute(\"SELECT name, max(length) FROM river GROUP BY name ORDER BY max(length) DESC NULLS LAST\")"
   ]
  },
  {
   "cell_type": "markdown",
   "metadata": {},
   "source": [
    "The `.execute()` performs the query, but doesn't return any values. After calling `.execute()`, you can call the cursor's `.fetchone()`, `.fetchmany()` or `.fetchall()`  methods to get rows returned from the query:"
   ]
  },
  {
   "cell_type": "code",
   "execution_count": 21,
   "metadata": {},
   "outputs": [
    {
     "data": {
      "text/plain": [
       "['Jurua', Decimal('3283')]"
      ]
     },
     "execution_count": 21,
     "metadata": {},
     "output_type": "execute_result"
    }
   ],
   "source": [
    "#This gets one row, if you run again it gets the next row\n",
    "cursor.fetchone()"
   ]
  },
  {
   "cell_type": "code",
   "execution_count": 16,
   "metadata": {},
   "outputs": [
    {
     "data": {
      "text/plain": [
       "(['Hwangho', Decimal('4845')],\n",
       " ['Lena', Decimal('4400')],\n",
       " ['Zaire', Decimal('4374')],\n",
       " ['Mekong', Decimal('4350')],\n",
       " ['Irtysch', Decimal('4248')],\n",
       " ['Niger', Decimal('4184')],\n",
       " ['Missouri', Decimal('4130')],\n",
       " ['Jenissej', Decimal('4092')])"
      ]
     },
     "execution_count": 16,
     "metadata": {},
     "output_type": "execute_result"
    }
   ],
   "source": [
    "#This gets the next 8 rows\n",
    "cursor.fetchmany(8)"
   ]
  },
  {
   "cell_type": "code",
   "execution_count": 22,
   "metadata": {},
   "outputs": [
    {
     "data": {
      "text/plain": [
       "(['Tarim-Yarkend', Decimal('3260')],\n",
       " ['Purus', Decimal('3210')],\n",
       " ['Yukon River', Decimal('3185')],\n",
       " ['Indus', Decimal('3180')],\n",
       " ['Nile', Decimal('3090')],\n",
       " ['Rio Grande del Norte', Decimal('3034')],\n",
       " ['Saluen', Decimal('2980')],\n",
       " ['Brahmaputra', Decimal('2896')],\n",
       " ['Rio Negro', Decimal('2866')],\n",
       " ['Volta', Decimal('2850')],\n",
       " ['Donau', Decimal('2845')],\n",
       " ['Angara', Decimal('2830')],\n",
       " ['Rio Sao Francisco', Decimal('2830')],\n",
       " ['Amur', Decimal('2824')],\n",
       " ['Japura', Decimal('2816')],\n",
       " ['Darling River', Decimal('2739')],\n",
       " ['Euphrat', Decimal('2736')],\n",
       " ['Parana', Decimal('2640')],\n",
       " ['Ganges', Decimal('2620')],\n",
       " ['Zambezi', Decimal('2574')],\n",
       " ['Paraguay', Decimal('2549')],\n",
       " ['Kolyma', Decimal('2513')],\n",
       " ['Tocantins', Decimal('2450')],\n",
       " ['Ischim', Decimal('2450')],\n",
       " ['Ural', Decimal('2428')],\n",
       " ['Pilcomayo', Decimal('2425')],\n",
       " ['Murray River', Decimal('2375')],\n",
       " ['Rio Salado', Decimal('2355')],\n",
       " ['Arkansas', Decimal('2334')],\n",
       " ['Colorado', Decimal('2330')],\n",
       " ['Syrdarja', Decimal('2212')],\n",
       " ['Dnepr', Decimal('2201')],\n",
       " ['Araguaia', Decimal('2198')],\n",
       " ['Xi Jiang', Decimal('2197')],\n",
       " ['Irawaddy', Decimal('2170')],\n",
       " ['Oranje', Decimal('2160')],\n",
       " ['Kasai', Decimal('2153')],\n",
       " ['Orinoco', Decimal('2010')],\n",
       " ['Xingu', Decimal('1980')],\n",
       " ['Columbia River', Decimal('1953')],\n",
       " ['Rio Mamore', Decimal('1931')],\n",
       " ['Songhua', Decimal('1927')],\n",
       " ['Peace River', Decimal('1923')],\n",
       " ['Maranon', Decimal('1905')],\n",
       " ['Mackenzie River', Decimal('1903')],\n",
       " ['Tigris', Decimal('1900')],\n",
       " ['Don', Decimal('1870')],\n",
       " ['Shabelle', Decimal('1820')],\n",
       " ['Rio Putumayo', Decimal('1813')],\n",
       " ['Petschora', Decimal('1809')],\n",
       " ['Kama', Decimal('1805')],\n",
       " ['Uruguay', Decimal('1790')],\n",
       " ['Blue Nile', Decimal('1783')],\n",
       " ['Limpopo', Decimal('1750')],\n",
       " ['Rio Parnaiba', Decimal('1716')],\n",
       " ['Okavango', Decimal('1700')],\n",
       " ['Jubba', Decimal('1658')],\n",
       " ['Chatanga', Decimal('1636')],\n",
       " ['Argun', Decimal('1620')],\n",
       " ['Ucayali', Decimal('1600')],\n",
       " ['Beni', Decimal('1600')],\n",
       " ['Tobol', Decimal('1591')],\n",
       " ['Murrumbidgee River', Decimal('1579')],\n",
       " ['Ohio River', Decimal('1579')],\n",
       " ['Rio Magdalena', Decimal('1538')],\n",
       " ['Han', Decimal('1532')],\n",
       " ['Satluj', Decimal('1500')],\n",
       " ['R铆o Salado del Oeste', Decimal('1498')],\n",
       " ['Rio Guaviare', Decimal('1497')],\n",
       " ['Oka', Decimal('1480')],\n",
       " ['Godavari', Decimal('1465')],\n",
       " ['Lomami', Decimal('1450')],\n",
       " ['Rio Madeira', Decimal('1450')],\n",
       " ['Senegal', Decimal('1430')],\n",
       " ['Amudarja', Decimal('1415')],\n",
       " ['Schari', Decimal('1400')],\n",
       " ['Benue', Decimal('1400')],\n",
       " ['South Saskatchewan River', Decimal('1392')],\n",
       " ['Liao He', Decimal('1390')],\n",
       " ['Yamuna', Decimal('1376')],\n",
       " ['Kura', Decimal('1364')],\n",
       " ['Rio Grande', Decimal('1360')],\n",
       " ['Dnister', Decimal('1352')],\n",
       " ['Rhein', Decimal('1324')],\n",
       " ['Iguacu', Decimal('1320')],\n",
       " ['Narmada', Decimal('1312')],\n",
       " ['Theiss', Decimal('1308')],\n",
       " ['Krishna', Decimal('1291')],\n",
       " ['Aruwimi', Decimal('1287')],\n",
       " ['North Saskatchewan River', Decimal('1287')],\n",
       " ['Ottawa River', Decimal('1271')],\n",
       " ['Kherlen', Decimal('1264')],\n",
       " ['Vaal', Decimal('1251')],\n",
       " ['Chanab', Decimal('1242')],\n",
       " ['Athabasca River', Decimal('1231')],\n",
       " ['Ili', Decimal('1221')],\n",
       " ['Rio Madre de Dios', Decimal('1210')],\n",
       " ['Rio Meta', Decimal('1200')],\n",
       " ['Saint Lawrence River', Decimal('1197')],\n",
       " ['Rio Cauca', Decimal('1180')],\n",
       " ['Green River', Decimal('1175')],\n",
       " ['Bahr el-Djebel/Albert Nil', Decimal('1156')],\n",
       " ['Hong He', Decimal('1149')],\n",
       " ['Kapuas', Decimal('1143')],\n",
       " ['Pjandsh', Decimal('1141')],\n",
       " ['Huallaga', Decimal('1138')],\n",
       " ['Rio Paraiba do Sul', Decimal('1137')],\n",
       " ['Tiete', Decimal('1130')],\n",
       " ['Uelle', Decimal('1130')],\n",
       " ['Sepik', Decimal('1126')],\n",
       " ['Helmand', Decimal('1125')],\n",
       " ['Orchon', Decimal('1124')],\n",
       " ['Atbara', Decimal('1120')],\n",
       " ['Fly River', Decimal('1120')],\n",
       " ['Gambia', Decimal('1120')],\n",
       " ['Ubangi', Decimal('1120')],\n",
       " ['Liard River', Decimal('1115')],\n",
       " ['R铆o Colorado', Decimal('1114')],\n",
       " ['Huai', Decimal('1110')],\n",
       " ['Cuango', Decimal('1100')],\n",
       " ['North Platte River', Decimal('1094')],\n",
       " ['Elbe', Decimal('1091')],\n",
       " ['Ghaghara', Decimal('1080')],\n",
       " ['Aras', Decimal('1072')],\n",
       " ['Paranaiba', Decimal('1070')],\n",
       " ['Arauca', Decimal('1050')],\n",
       " ['Bandama', Decimal('1050')],\n",
       " ['Tennessee River', Decimal('1049')],\n",
       " ['Weichsel', Decimal('1047')],\n",
       " ['Gila River', Decimal('1044')],\n",
       " ['Apure', Decimal('1038')],\n",
       " ['Yuan Jiang', Decimal('1033')],\n",
       " ['Onon', Decimal('1032')],\n",
       " ['Western Dwina', Decimal('1020')],\n",
       " ['Loire', Decimal('1013')],\n",
       " ['Essequibo', Decimal('1010')],\n",
       " ['Tajo', Decimal('1007')],\n",
       " ['Rio Usumacinta', Decimal('1000')],\n",
       " ['Tshuapa', Decimal('1000')],\n",
       " ['Acre', Decimal('1000')],\n",
       " ['Selenge', Decimal('992')],\n",
       " ['Mahakam', Decimal('980')],\n",
       " ['Lulua', Decimal('970')],\n",
       " ['Cuilo', Decimal('970')],\n",
       " ['Mbomou', Decimal('966')],\n",
       " ['Rio Lerma Santiago', Decimal('965')],\n",
       " ['Chambal', Decimal('960')],\n",
       " ['Pruth', Decimal('953')],\n",
       " ['Karun', Decimal('950')],\n",
       " ['White Nile', Decimal('950')],\n",
       " ['Save', Decimal('945')],\n",
       " ['Memel', Decimal('937')],\n",
       " ['Paranapanema', Decimal('929')],\n",
       " ['Ebro', Decimal('925')],\n",
       " ['Maas', Decimal('925')],\n",
       " ['Sanaga', Decimal('918')],\n",
       " ['Lukenie', Decimal('900')],\n",
       " ['Ussuri', Decimal('897')],\n",
       " ['Douro', Decimal('897')],\n",
       " ['Barito', Decimal('890')],\n",
       " ['Red River of the North', Decimal('877')],\n",
       " ['Kuban', Decimal('870')],\n",
       " ['Nei脽e', Decimal('866')],\n",
       " ['Oder', Decimal('866')],\n",
       " ['Xiang Jiang', Decimal('856')],\n",
       " ['Taimyra', Decimal('840')],\n",
       " ['Tom', Decimal('827')],\n",
       " ['Tuul', Decimal('819')],\n",
       " ['Wei He', Decimal('818')],\n",
       " ['Como茅', Decimal('813')],\n",
       " ['Yalu', Decimal('813')],\n",
       " ['Rhone', Decimal('812')],\n",
       " ['Warta', Decimal('808')],\n",
       " ['Batang Hari', Decimal('800')],\n",
       " ['Sanga', Decimal('785')],\n",
       " ['Mure葯', Decimal('776')],\n",
       " ['Seine', Decimal('776')],\n",
       " ['Prypjat', Decimal('775')],\n",
       " ['Western Bug', Decimal('772')],\n",
       " ['Gan Jiang', Decimal('758')],\n",
       " ['Rio Coco', Decimal('750')],\n",
       " ['Urubamba', Decimal('750')],\n",
       " ['Drau', Decimal('749')],\n",
       " ['Guadiana', Decimal('742')],\n",
       " ['Northern Dwina', Decimal('740')],\n",
       " ['Sobat', Decimal('740')],\n",
       " ['Apurimac', Decimal('730')],\n",
       " ['Sereth', Decimal('726')],\n",
       " ['Mantaro', Decimal('724')],\n",
       " ['Murat', Decimal('720')],\n",
       " ['Bahr el-Ghazal', Decimal('716')],\n",
       " ['Susquehanna River', Decimal('715')],\n",
       " ['Mangoky', Decimal('714')],\n",
       " ['South Platte River', Decimal('711')],\n",
       " ['Ingoda', Decimal('708')],\n",
       " ['Chelif', Decimal('700')],\n",
       " ['Katun', Decimal('688')],\n",
       " ['Naryn', Decimal('678')],\n",
       " ['Nelson River', Decimal('664')],\n",
       " ['Guadalquivir', Decimal('657')],\n",
       " ['Connecticut River', Decimal('655')],\n",
       " ['Po', Decimal('652')],\n",
       " ['Potomac River', Decimal('652')],\n",
       " ['Garonne', Decimal('647')],\n",
       " ['Torne盲lv', Decimal('631')],\n",
       " ['Olt', Decimal('615')],\n",
       " ['Sacramento River', Decimal('607')],\n",
       " ['Glomma', Decimal('604')],\n",
       " ['Rajang', Decimal('563')],\n",
       " ['Schilka', Decimal('560')],\n",
       " ['Suchona', Decimal('558')],\n",
       " ['Kadei', Decimal('552')],\n",
       " ['Kemijoki', Decimal('550')],\n",
       " ['Saskatchewan River', Decimal('547')],\n",
       " ['Mosel', Decimal('544')],\n",
       " ['Egiin Gol', Decimal('535')],\n",
       " ['San Joaquin River', Decimal('530')],\n",
       " ['Nakdonggang', Decimal('526')],\n",
       " ['Main', Decimal('524')],\n",
       " ['Dong Jiang', Decimal('523')],\n",
       " ['Allegheny River', Decimal('523')],\n",
       " ['Tumen', Decimal('521')],\n",
       " ['Dal盲lv', Decimal('520')],\n",
       " ['Inn', Decimal('517')],\n",
       " ['Marne', Decimal('514')],\n",
       " ['Catatumbo', Decimal('500')],\n",
       " ['Arun', Decimal('500')],\n",
       " ['Rio Patuca', Decimal('500')],\n",
       " ['Platte River', Decimal('499')],\n",
       " ['Namhangang', Decimal('494')],\n",
       " ['Hudson River', Decimal('493')],\n",
       " ['Mambere', Decimal('488')],\n",
       " ['Rio Motagua', Decimal('486')],\n",
       " ['Victoria Nile', Decimal('480')],\n",
       " ['Rio Grijalva', Decimal('480')],\n",
       " ['Ruvuvu', Decimal('480')],\n",
       " ['Saone', Decimal('473')],\n",
       " ['Karasu', Decimal('470')],\n",
       " ['Ume盲lv', Decimal('470')],\n",
       " ['Bei Jiang', Decimal('468')],\n",
       " ['Humboldt River', Decimal('467')],\n",
       " ['Medjerda', Decimal('460')],\n",
       " ['Klar盲lv', Decimal('460')],\n",
       " ['Mur', Decimal('453')],\n",
       " ['Doubs', Decimal('453')],\n",
       " ['Narew', Decimal('448')],\n",
       " ['Rio Loa', Decimal('443')],\n",
       " ['Moldau', Decimal('440')],\n",
       " ['Weser', Decimal('440')],\n",
       " ['Slave River', Decimal('434')],\n",
       " ['Bani', Decimal('430')],\n",
       " ['Tista', Decimal('430')],\n",
       " ['Sunkoshi', Decimal('430')],\n",
       " ['Waikato River', Decimal('425')],\n",
       " ['Klamath River', Decimal('423')],\n",
       " ['Rio Lempa', Decimal('422')],\n",
       " ['Etsch', Decimal('415')],\n",
       " ['Saale', Decimal('413')],\n",
       " ['Tevere', Decimal('405')],\n",
       " ['Waag', Decimal('403')],\n",
       " ['Snowy River', Decimal('403')],\n",
       " ['Shire', Decimal('402')],\n",
       " ['Kagera', Decimal('400')],\n",
       " ['Spree', Decimal('400')],\n",
       " ['Gandaki', Decimal('400')],\n",
       " ['Mara', Decimal('395')],\n",
       " ['Murgab', Decimal('395')],\n",
       " ['Rio Guayas', Decimal('389')],\n",
       " ['Vardar', Decimal('388')],\n",
       " ['Rio Desaguadero', Decimal('383')],\n",
       " ['R铆o B铆o B铆o', Decimal('380')],\n",
       " ['Rio Bogota', Decimal('375')],\n",
       " ['Iskar', Decimal('368')],\n",
       " ['Shinano', Decimal('367')],\n",
       " ['Neckar', Decimal('367')],\n",
       " ['Schelde', Decimal('360')],\n",
       " ['Shannon', Decimal('360')],\n",
       " ['March', Decimal('358')],\n",
       " ['Severn', Decimal('354')],\n",
       " ['Kali Gandaki', Decimal('350')],\n",
       " ['Lukuga', Decimal('350')],\n",
       " ['Arge葯', Decimal('350')],\n",
       " ['Feather River', Decimal('350')],\n",
       " ['Rukurara-Nyabarongo', Decimal('350')],\n",
       " ['Luvua', Decimal('350')],\n",
       " ['Drina', Decimal('346')],\n",
       " ['Thames', Decimal('346')],\n",
       " ['Artibonito', Decimal('343')],\n",
       " ['Rio Cauto', Decimal('343')],\n",
       " ['Clutha River', Decimal('338')],\n",
       " ['Havel', Decimal('334')],\n",
       " ['Bukhangang', Decimal('325')],\n",
       " ['Tone', Decimal('322')],\n",
       " ['L氓gen', Decimal('322')],\n",
       " ['V盲sterdal盲lv', Decimal('320')],\n",
       " ['Pibor', Decimal('320')],\n",
       " ['Mulde', Decimal('314')],\n",
       " ['Adda', Decimal('313')],\n",
       " ['Western Morava', Decimal('308')],\n",
       " ['Baro', Decimal('306')],\n",
       " ['Luapula', Decimal('300')],\n",
       " ['Trishuli', Decimal('300')],\n",
       " ['Koshi', Decimal('300')],\n",
       " ['Ounasjoki', Decimal('300')],\n",
       " ['Trent', Decimal('298')],\n",
       " ['Maritsa', Decimal('297')],\n",
       " ['Aliakmonas', Decimal('297')],\n",
       " ['Southern Morava', Decimal('295')],\n",
       " ['Isar', Decimal('295')],\n",
       " ['Werra', Decimal('292')],\n",
       " ['Aare', Decimal('288')],\n",
       " ['Isere', Decimal('286')],\n",
       " ['Leine', Decimal('281')],\n",
       " ['Tanaro', Decimal('276')],\n",
       " ['Ishikari', Decimal('268')],\n",
       " ['Lech', Decimal('264')],\n",
       " ['Wei脽e Elster', Decimal('257')],\n",
       " ['Enns', Decimal('254')],\n",
       " ['Jordan', Decimal('251')],\n",
       " ['Raab', Decimal('250')],\n",
       " ['Kitakami', Decimal('249')],\n",
       " ['Ticino', Decimal('248')],\n",
       " ['Lahn', Decimal('246')],\n",
       " ['脰sterdal盲lv', Decimal('241')],\n",
       " ['Arno', Decimal('240')],\n",
       " ['D芒mbovi葲a', Decimal('237')],\n",
       " ['Mondego', Decimal('234')],\n",
       " ['Semliki', Decimal('230')],\n",
       " ['Thjorsa', Decimal('230')],\n",
       " ['Saar', Decimal('227')],\n",
       " ['Truckee River', Decimal('225')],\n",
       " ['Salzach', Decimal('225')],\n",
       " ['Swir', Decimal('224')],\n",
       " ['Fulda', Decimal('221')],\n",
       " ['Lippe', Decimal('220')],\n",
       " ['Ruhr', Decimal('219')],\n",
       " ['Neretva', Decimal('218')],\n",
       " ['Ill', Decimal('217')],\n",
       " ['Aller', Decimal('211')],\n",
       " ['J枚kulsa a Fj枚llum', Decimal('206')],\n",
       " ['Kymijoki', Decimal('203')],\n",
       " ['Fimi', Decimal('200')],\n",
       " ['Rhumel', Decimal('200')],\n",
       " ['Manicouagan River', Decimal('200')],\n",
       " ['Detroit River', Decimal('200')],\n",
       " ['Rio San Juan', Decimal('199')],\n",
       " ['Schatt al Arab', Decimal('193')],\n",
       " ['Amargosa River', Decimal('185')],\n",
       " ['Morava', Decimal('185')],\n",
       " ['Sungacha', Decimal('180')],\n",
       " ['Sado', Decimal('180')],\n",
       " ['Ene', Decimal('180')],\n",
       " ['Merrimack River', Decimal('177')],\n",
       " ['Clyde', Decimal('176')],\n",
       " ['White Drin', Decimal('175')],\n",
       " ['Sauer', Decimal('173')],\n",
       " ['R铆o Baker', Decimal('170')],\n",
       " ['Pearl River', Decimal('170')],\n",
       " ['Ammer', Decimal('168')],\n",
       " ['Perene', Decimal('165')],\n",
       " ['Reuss', Decimal('164')],\n",
       " ['Vuoksi', Decimal('162')],\n",
       " ['Dora Baltea', Decimal('160')],\n",
       " ['Tambo', Decimal('160')],\n",
       " ['Sieg', Decimal('155')],\n",
       " ['Tirso', Decimal('152')],\n",
       " ['Drin', Decimal('152')],\n",
       " ['Alz', Decimal('150')],\n",
       " ['Asahan', Decimal('150')],\n",
       " ['Iller', Decimal('147')],\n",
       " ['Paatsjoki', Decimal('145')],\n",
       " ['Imera Meridionale', Decimal('144')],\n",
       " ['Hrazdan', Decimal('141')],\n",
       " ['Tara', Decimal('140')],\n",
       " ['Bartang', Decimal('133')],\n",
       " ['Black Drin', Decimal('133')],\n",
       " ['Bann', Decimal('129')],\n",
       " ['Regen', Decimal('125')],\n",
       " ['Riviere Richelieu', Decimal('124')],\n",
       " ['Elz', Decimal('121')],\n",
       " ['Kokem盲enjoki', Decimal('121')],\n",
       " ['Saint Marys River', Decimal('120')],\n",
       " ['Piva', Decimal('120')],\n",
       " ['Tonle Sap River', Decimal('120')],\n",
       " ['Great Bear River', Decimal('113')],\n",
       " ['Luvironza', Decimal('110')],\n",
       " ['Caloosahatchee River', Decimal('108')],\n",
       " ['Oulujoki', Decimal('107')],\n",
       " ['Enz', Decimal('105')],\n",
       " ['Ruzizi', Decimal('104')],\n",
       " ['Motala Str枚m', Decimal('100')],\n",
       " ['Moraca', Decimal('99.5')],\n",
       " ['G枚ta盲lv', Decimal('93')],\n",
       " ['Eucumbene River', Decimal('83')],\n",
       " ['Koukdjuak River', Decimal('80')],\n",
       " ['Narva', Decimal('78')],\n",
       " ['Yodo', Decimal('75')],\n",
       " ['Mincio', Decimal('75')],\n",
       " ['Newa', Decimal('74')],\n",
       " ['Alzette', Decimal('73')],\n",
       " ['Hinterrhein', Decimal('72')],\n",
       " ['Panjnad', Decimal('71')],\n",
       " ['Bregenzer Ach', Decimal('67')],\n",
       " ['Ilz', Decimal('62')],\n",
       " ['Niagara River', Decimal('58')],\n",
       " ['Nipigon River', Decimal('48')],\n",
       " ['Breg', Decimal('45.9')],\n",
       " ['Buna', Decimal('44')],\n",
       " ['Rio Dulce', Decimal('43')],\n",
       " ['Brigach', Decimal('43')],\n",
       " ['Agus River', Decimal('37')],\n",
       " ['Limmat', Decimal('36.3')],\n",
       " ['Arrone', Decimal('35')],\n",
       " ['Marta', Decimal('35')],\n",
       " ['W眉rm', Decimal('35')],\n",
       " ['Ruggles River', Decimal('22')],\n",
       " ['Manitou River', Decimal('15')],\n",
       " ['Ness', Decimal('12')],\n",
       " ['Leven', Decimal('10')],\n",
       " ['Pansipit River', Decimal('9')],\n",
       " ['Mindemoya River', Decimal('8')],\n",
       " ['Straits of Mackinac', Decimal('0.1')],\n",
       " ['Lualaba', None])"
      ]
     },
     "execution_count": 22,
     "metadata": {},
     "output_type": "execute_result"
    }
   ],
   "source": [
    "#This gets the rest of the rows (or a all of the rows if you call it first)\n",
    "cursor.fetchall()"
   ]
  },
  {
   "cell_type": "markdown",
   "metadata": {},
   "source": [
    "To get all of the rows returned from a query, you can also use the cursor object in a `for` loop, like so:"
   ]
  },
  {
   "cell_type": "code",
   "execution_count": 23,
   "metadata": {},
   "outputs": [
    {
     "name": "stdout",
     "output_type": "stream",
     "text": [
      "['Lualaba', None]\n",
      "['Yangtze', Decimal('6380')]\n",
      "['Hwangho', Decimal('4845')]\n",
      "['Lena', Decimal('4400')]\n",
      "['Zaire', Decimal('4374')]\n",
      "['Mekong', Decimal('4350')]\n",
      "['Irtysch', Decimal('4248')]\n",
      "['Niger', Decimal('4184')]\n",
      "['Missouri', Decimal('4130')]\n",
      "['Jenissej', Decimal('4092')]\n",
      "['Mississippi', Decimal('3778')]\n",
      "['Amazonas', Decimal('3778')]\n",
      "['Ob', Decimal('3650')]\n",
      "['Volga', Decimal('3531')]\n",
      "['Jurua', Decimal('3283')]\n",
      "['Tarim-Yarkend', Decimal('3260')]\n",
      "['Purus', Decimal('3210')]\n",
      "['Yukon River', Decimal('3185')]\n",
      "['Indus', Decimal('3180')]\n",
      "['Nile', Decimal('3090')]\n"
     ]
    }
   ],
   "source": [
    "myquery = \"SELECT name, max(length) FROM river GROUP BY name ORDER BY max(length) DESC LIMIT 20;\"\n",
    "cursor.execute(myquery)\n",
    "for row in cursor:\n",
    "    print(row)"
   ]
  },
  {
   "cell_type": "code",
   "execution_count": 24,
   "metadata": {},
   "outputs": [
    {
     "name": "stdout",
     "output_type": "stream",
     "text": [
      "['Lualaba', None]\n",
      "['Yangtze', Decimal('6380')]\n",
      "['Hwangho', Decimal('4845')]\n",
      "['Lena', Decimal('4400')]\n",
      "['Zaire', Decimal('4374')]\n",
      "['Mekong', Decimal('4350')]\n",
      "['Irtysch', Decimal('4248')]\n",
      "['Niger', Decimal('4184')]\n",
      "['Missouri', Decimal('4130')]\n",
      "['Jenissej', Decimal('4092')]\n",
      "['Mississippi', Decimal('3778')]\n",
      "['Amazonas', Decimal('3778')]\n",
      "['Ob', Decimal('3650')]\n",
      "['Volga', Decimal('3531')]\n",
      "['Jurua', Decimal('3283')]\n",
      "['Tarim-Yarkend', Decimal('3260')]\n",
      "['Purus', Decimal('3210')]\n",
      "['Yukon River', Decimal('3185')]\n",
      "['Indus', Decimal('3180')]\n",
      "['Nile', Decimal('3090')]\n"
     ]
    }
   ],
   "source": [
    "#Same thing but an extra variable\n",
    "myquery = \"SELECT name, max(length) FROM river GROUP BY name ORDER BY max(length) DESC LIMIT 20;\"\n",
    "cursor.execute(myquery)\n",
    "myresult = cursor.fetchall()\n",
    "for row in myresult:\n",
    "    print(row)"
   ]
  },
  {
   "cell_type": "code",
   "execution_count": 25,
   "metadata": {},
   "outputs": [
    {
     "name": "stdout",
     "output_type": "stream",
     "text": [
      "['Lualaba', None]\n",
      "['Yangtze', Decimal('6380')]\n",
      "['Hwangho', Decimal('4845')]\n",
      "['Lena', Decimal('4400')]\n",
      "['Zaire', Decimal('4374')]\n",
      "['Mekong', Decimal('4350')]\n",
      "['Irtysch', Decimal('4248')]\n",
      "['Niger', Decimal('4184')]\n",
      "['Missouri', Decimal('4130')]\n",
      "['Jenissej', Decimal('4092')]\n",
      "['Mississippi', Decimal('3778')]\n",
      "['Amazonas', Decimal('3778')]\n",
      "['Ob', Decimal('3650')]\n",
      "['Volga', Decimal('3531')]\n",
      "['Jurua', Decimal('3283')]\n",
      "['Tarim-Yarkend', Decimal('3260')]\n",
      "['Purus', Decimal('3210')]\n",
      "['Yukon River', Decimal('3185')]\n",
      "['Indus', Decimal('3180')]\n",
      "['Nile', Decimal('3090')]\n"
     ]
    }
   ],
   "source": [
    "#Same thing but with space for a big query\n",
    "myquery = '''\n",
    "SELECT name, max(length) \n",
    "FROM river \n",
    "GROUP BY name \n",
    "ORDER BY max(length) DESC\n",
    "LIMIT 20;\n",
    "'''\n",
    "cursor.execute(myquery)\n",
    "myresult = cursor.fetchall()\n",
    "for row in myresult:\n",
    "    print(row)\n"
   ]
  },
  {
   "cell_type": "markdown",
   "metadata": {},
   "source": [
    "The `.fetchone()` method gets you a LIST for the results of each row (each row is one element in a TUPLE of LISTS returned by the cursor object.)"
   ]
  },
  {
   "cell_type": "markdown",
   "metadata": {},
   "source": [
    "## Flexible Queries\n",
    "Now that we are in Python we can be more flexible about what goes in and out of our queries. For example, if we are getting names of rivers inputted by the users of our website, we can set up a query to get information about the river from the database."
   ]
  },
  {
   "cell_type": "markdown",
   "metadata": {},
   "source": [
    "We could build our query as a simple variable (but you will see we don't want to):"
   ]
  },
  {
   "cell_type": "code",
   "execution_count": 26,
   "metadata": {},
   "outputs": [
    {
     "name": "stdout",
     "output_type": "stream",
     "text": [
      "SELECT length FROM river WHERE name = 'Mississippi'\n"
     ]
    }
   ],
   "source": [
    "userwants = \"Mississippi\"\n",
    "badquery = \"SELECT length FROM river WHERE name = '\" + userwants + \"'\";\n",
    "print(badquery)"
   ]
  },
  {
   "cell_type": "code",
   "execution_count": 27,
   "metadata": {},
   "outputs": [
    {
     "data": {
      "text/plain": [
       "[Decimal('3778')]"
      ]
     },
     "execution_count": 27,
     "metadata": {},
     "output_type": "execute_result"
    }
   ],
   "source": [
    "cursor.execute(badquery)\n",
    "cursor.fetchone()"
   ]
  },
  {
   "cell_type": "markdown",
   "metadata": {},
   "source": [
    "So why did I name that variable \"badquery\"? A couple reasons. First, if there was a river with an ' in its name, like \"Roger's River\" the query would break."
   ]
  },
  {
   "cell_type": "code",
   "execution_count": 28,
   "metadata": {},
   "outputs": [
    {
     "name": "stdout",
     "output_type": "stream",
     "text": [
      "SELECT length FROM river WHERE name = 'Roger's River'\n"
     ]
    }
   ],
   "source": [
    "bad_river = \"Roger's River\"\n",
    "query = \"SELECT length FROM river WHERE name = '\" + bad_river + \"'\"\n",
    "print(query)"
   ]
  },
  {
   "cell_type": "markdown",
   "metadata": {},
   "source": [
    "For this reason and others, the cursor object's `.execute()` method comes with a built-in means of interpolating values into queries. Use `%s` as wildcards in your query string wherever you want to insert a value, and then pass as a second parameter to `.execute()` via list of values that you want to be included in the query:"
   ]
  },
  {
   "cell_type": "code",
   "execution_count": 29,
   "metadata": {},
   "outputs": [],
   "source": [
    "cursor.execute(\"SELECT length FROM river WHERE name = %s\",\n",
    "              [\"Roger's River\"])"
   ]
  },
  {
   "cell_type": "markdown",
   "metadata": {},
   "source": [
    "pg8000 deals with interpolated to string properly, and protects you from [SQL injection attacks](https://en.wikipedia.org/wiki/SQL_injection).\n",
    "\n",
    "Here's an example looping through a list of rivers to get their length:"
   ]
  },
  {
   "cell_type": "code",
   "execution_count": 30,
   "metadata": {},
   "outputs": [
    {
     "name": "stdout",
     "output_type": "stream",
     "text": [
      "Zaire [Decimal('4374')]\n",
      "Nile [Decimal('3090')]\n",
      "Missouri [Decimal('4130')]\n",
      "Indus [Decimal('3180')]\n"
     ]
    }
   ],
   "source": [
    "user_wants_rivers = [\"Zaire\",\"Nile\",\"Missouri\",\"Indus\"]\n",
    "for river_name in user_wants_rivers:\n",
    "    cursor.execute(\"SELECT length FROM river WHERE name = %s\",\n",
    "                   [river_name])\n",
    "    length = cursor.fetchone() # fetchone() returns a tuple w/1 val\n",
    "    print(river_name, length)"
   ]
  },
  {
   "cell_type": "markdown",
   "metadata": {},
   "source": [
    "##  errors in pg8000\n",
    "\n",
    "Simple errors can break your connection to the database."
   ]
  },
  {
   "cell_type": "code",
   "execution_count": 31,
   "metadata": {},
   "outputs": [
    {
     "ename": "ProgrammingError",
     "evalue": "('ERROR', 'ERROR', '42601', 'syntax error at or near \"SELECTT\"', '1', 'scan.l', '1087', 'scanner_yyerror')",
     "output_type": "error",
     "traceback": [
      "\u001b[1;31m---------------------------------------------------------------------------\u001b[0m",
      "\u001b[1;31mKeyError\u001b[0m                                  Traceback (most recent call last)",
      "\u001b[1;32m~\\AppData\\Local\\Programs\\Python\\Python36\\lib\\site-packages\\pg8000\\core.py\u001b[0m in \u001b[0;36mexecute\u001b[1;34m(self, cursor, operation, vals)\u001b[0m\n\u001b[0;32m   1692\u001b[0m         \u001b[1;32mtry\u001b[0m\u001b[1;33m:\u001b[0m\u001b[1;33m\u001b[0m\u001b[0m\n\u001b[1;32m-> 1693\u001b[1;33m             \u001b[0mps\u001b[0m \u001b[1;33m=\u001b[0m \u001b[0mcache\u001b[0m\u001b[1;33m[\u001b[0m\u001b[1;34m'ps'\u001b[0m\u001b[1;33m]\u001b[0m\u001b[1;33m[\u001b[0m\u001b[0mkey\u001b[0m\u001b[1;33m]\u001b[0m\u001b[1;33m\u001b[0m\u001b[0m\n\u001b[0m\u001b[0;32m   1694\u001b[0m             \u001b[0mcursor\u001b[0m\u001b[1;33m.\u001b[0m\u001b[0mps\u001b[0m \u001b[1;33m=\u001b[0m \u001b[0mps\u001b[0m\u001b[1;33m\u001b[0m\u001b[0m\n",
      "\u001b[1;31mKeyError\u001b[0m: (\"SELECTT length FROM river WHERE name = 'Nile'\", ())",
      "\nDuring handling of the above exception, another exception occurred:\n",
      "\u001b[1;31mProgrammingError\u001b[0m                          Traceback (most recent call last)",
      "\u001b[1;32m<ipython-input-31-b5b88a4698c8>\u001b[0m in \u001b[0;36m<module>\u001b[1;34m()\u001b[0m\n\u001b[0;32m      1\u001b[0m \u001b[0mcursor\u001b[0m \u001b[1;33m=\u001b[0m \u001b[0mconn\u001b[0m\u001b[1;33m.\u001b[0m\u001b[0mcursor\u001b[0m\u001b[1;33m(\u001b[0m\u001b[1;33m)\u001b[0m\u001b[1;33m\u001b[0m\u001b[0m\n\u001b[1;32m----> 2\u001b[1;33m \u001b[0mcursor\u001b[0m\u001b[1;33m.\u001b[0m\u001b[0mexecute\u001b[0m\u001b[1;33m(\u001b[0m\u001b[1;34m\"SELECTT length FROM river WHERE name = 'Nile'\"\u001b[0m\u001b[1;33m)\u001b[0m\u001b[1;33m\u001b[0m\u001b[0m\n\u001b[0m",
      "\u001b[1;32m~\\AppData\\Local\\Programs\\Python\\Python36\\lib\\site-packages\\pg8000\\core.py\u001b[0m in \u001b[0;36mexecute\u001b[1;34m(self, operation, args, stream)\u001b[0m\n\u001b[0;32m    850\u001b[0m             \u001b[1;32mif\u001b[0m \u001b[1;32mnot\u001b[0m \u001b[0mself\u001b[0m\u001b[1;33m.\u001b[0m\u001b[0m_c\u001b[0m\u001b[1;33m.\u001b[0m\u001b[0min_transaction\u001b[0m \u001b[1;32mand\u001b[0m \u001b[1;32mnot\u001b[0m \u001b[0mself\u001b[0m\u001b[1;33m.\u001b[0m\u001b[0m_c\u001b[0m\u001b[1;33m.\u001b[0m\u001b[0mautocommit\u001b[0m\u001b[1;33m:\u001b[0m\u001b[1;33m\u001b[0m\u001b[0m\n\u001b[0;32m    851\u001b[0m                 \u001b[0mself\u001b[0m\u001b[1;33m.\u001b[0m\u001b[0m_c\u001b[0m\u001b[1;33m.\u001b[0m\u001b[0mexecute\u001b[0m\u001b[1;33m(\u001b[0m\u001b[0mself\u001b[0m\u001b[1;33m,\u001b[0m \u001b[1;34m\"begin transaction\"\u001b[0m\u001b[1;33m,\u001b[0m \u001b[1;32mNone\u001b[0m\u001b[1;33m)\u001b[0m\u001b[1;33m\u001b[0m\u001b[0m\n\u001b[1;32m--> 852\u001b[1;33m             \u001b[0mself\u001b[0m\u001b[1;33m.\u001b[0m\u001b[0m_c\u001b[0m\u001b[1;33m.\u001b[0m\u001b[0mexecute\u001b[0m\u001b[1;33m(\u001b[0m\u001b[0mself\u001b[0m\u001b[1;33m,\u001b[0m \u001b[0moperation\u001b[0m\u001b[1;33m,\u001b[0m \u001b[0margs\u001b[0m\u001b[1;33m)\u001b[0m\u001b[1;33m\u001b[0m\u001b[0m\n\u001b[0m\u001b[0;32m    853\u001b[0m         \u001b[1;32mexcept\u001b[0m \u001b[0mAttributeError\u001b[0m \u001b[1;32mas\u001b[0m \u001b[0me\u001b[0m\u001b[1;33m:\u001b[0m\u001b[1;33m\u001b[0m\u001b[0m\n\u001b[0;32m    854\u001b[0m             \u001b[1;32mif\u001b[0m \u001b[0mself\u001b[0m\u001b[1;33m.\u001b[0m\u001b[0m_c\u001b[0m \u001b[1;32mis\u001b[0m \u001b[1;32mNone\u001b[0m\u001b[1;33m:\u001b[0m\u001b[1;33m\u001b[0m\u001b[0m\n",
      "\u001b[1;32m~\\AppData\\Local\\Programs\\Python\\Python36\\lib\\site-packages\\pg8000\\core.py\u001b[0m in \u001b[0;36mexecute\u001b[1;34m(self, cursor, operation, vals)\u001b[0m\n\u001b[0;32m   1739\u001b[0m                     \u001b[1;32mraise\u001b[0m \u001b[0me\u001b[0m\u001b[1;33m\u001b[0m\u001b[0m\n\u001b[0;32m   1740\u001b[0m \u001b[1;33m\u001b[0m\u001b[0m\n\u001b[1;32m-> 1741\u001b[1;33m             \u001b[0mself\u001b[0m\u001b[1;33m.\u001b[0m\u001b[0mhandle_messages\u001b[0m\u001b[1;33m(\u001b[0m\u001b[0mcursor\u001b[0m\u001b[1;33m)\u001b[0m\u001b[1;33m\u001b[0m\u001b[0m\n\u001b[0m\u001b[0;32m   1742\u001b[0m \u001b[1;33m\u001b[0m\u001b[0m\n\u001b[0;32m   1743\u001b[0m             \u001b[1;31m# We've got row_desc that allows us to identify what we're\u001b[0m\u001b[1;33m\u001b[0m\u001b[1;33m\u001b[0m\u001b[0m\n",
      "\u001b[1;32m~\\AppData\\Local\\Programs\\Python\\Python36\\lib\\site-packages\\pg8000\\core.py\u001b[0m in \u001b[0;36mhandle_messages\u001b[1;34m(self, cursor)\u001b[0m\n\u001b[0;32m   1877\u001b[0m \u001b[1;33m\u001b[0m\u001b[0m\n\u001b[0;32m   1878\u001b[0m         \u001b[1;32mif\u001b[0m \u001b[0mself\u001b[0m\u001b[1;33m.\u001b[0m\u001b[0merror\u001b[0m \u001b[1;32mis\u001b[0m \u001b[1;32mnot\u001b[0m \u001b[1;32mNone\u001b[0m\u001b[1;33m:\u001b[0m\u001b[1;33m\u001b[0m\u001b[0m\n\u001b[1;32m-> 1879\u001b[1;33m             \u001b[1;32mraise\u001b[0m \u001b[0mself\u001b[0m\u001b[1;33m.\u001b[0m\u001b[0merror\u001b[0m\u001b[1;33m\u001b[0m\u001b[0m\n\u001b[0m\u001b[0;32m   1880\u001b[0m \u001b[1;33m\u001b[0m\u001b[0m\n\u001b[0;32m   1881\u001b[0m     \u001b[1;31m# Byte1('C') - Identifies the message as a close command.\u001b[0m\u001b[1;33m\u001b[0m\u001b[1;33m\u001b[0m\u001b[0m\n",
      "\u001b[1;31mProgrammingError\u001b[0m: ('ERROR', 'ERROR', '42601', 'syntax error at or near \"SELECTT\"', '1', 'scan.l', '1087', 'scanner_yyerror')"
     ]
    }
   ],
   "source": [
    "cursor = conn.cursor()\n",
    "cursor.execute(\"SELECTT length FROM river WHERE name = 'Nile'\")"
   ]
  },
  {
   "cell_type": "markdown",
   "metadata": {},
   "source": [
    "... you'll get a syntax error. But also you will keep getting errors even when you fix the problem:"
   ]
  },
  {
   "cell_type": "code",
   "execution_count": 32,
   "metadata": {},
   "outputs": [
    {
     "ename": "ProgrammingError",
     "evalue": "('ERROR', 'ERROR', '25P02', 'current transaction is aborted, commands ignored until end of transaction block', 'postgres.c', '1309', 'exec_parse_message')",
     "output_type": "error",
     "traceback": [
      "\u001b[1;31m---------------------------------------------------------------------------\u001b[0m",
      "\u001b[1;31mKeyError\u001b[0m                                  Traceback (most recent call last)",
      "\u001b[1;32m~\\AppData\\Local\\Programs\\Python\\Python36\\lib\\site-packages\\pg8000\\core.py\u001b[0m in \u001b[0;36mexecute\u001b[1;34m(self, cursor, operation, vals)\u001b[0m\n\u001b[0;32m   1692\u001b[0m         \u001b[1;32mtry\u001b[0m\u001b[1;33m:\u001b[0m\u001b[1;33m\u001b[0m\u001b[0m\n\u001b[1;32m-> 1693\u001b[1;33m             \u001b[0mps\u001b[0m \u001b[1;33m=\u001b[0m \u001b[0mcache\u001b[0m\u001b[1;33m[\u001b[0m\u001b[1;34m'ps'\u001b[0m\u001b[1;33m]\u001b[0m\u001b[1;33m[\u001b[0m\u001b[0mkey\u001b[0m\u001b[1;33m]\u001b[0m\u001b[1;33m\u001b[0m\u001b[0m\n\u001b[0m\u001b[0;32m   1694\u001b[0m             \u001b[0mcursor\u001b[0m\u001b[1;33m.\u001b[0m\u001b[0mps\u001b[0m \u001b[1;33m=\u001b[0m \u001b[0mps\u001b[0m\u001b[1;33m\u001b[0m\u001b[0m\n",
      "\u001b[1;31mKeyError\u001b[0m: (\"SELECT length FROM river WHERE name = 'Nile'\", ())",
      "\nDuring handling of the above exception, another exception occurred:\n",
      "\u001b[1;31mProgrammingError\u001b[0m                          Traceback (most recent call last)",
      "\u001b[1;32m<ipython-input-32-c725f5582256>\u001b[0m in \u001b[0;36m<module>\u001b[1;34m()\u001b[0m\n\u001b[0;32m      1\u001b[0m \u001b[0mcursor\u001b[0m \u001b[1;33m=\u001b[0m \u001b[0mconn\u001b[0m\u001b[1;33m.\u001b[0m\u001b[0mcursor\u001b[0m\u001b[1;33m(\u001b[0m\u001b[1;33m)\u001b[0m\u001b[1;33m\u001b[0m\u001b[0m\n\u001b[1;32m----> 2\u001b[1;33m \u001b[0mcursor\u001b[0m\u001b[1;33m.\u001b[0m\u001b[0mexecute\u001b[0m\u001b[1;33m(\u001b[0m\u001b[1;34m\"SELECT length FROM river WHERE name = 'Nile'\"\u001b[0m\u001b[1;33m)\u001b[0m\u001b[1;33m\u001b[0m\u001b[0m\n\u001b[0m",
      "\u001b[1;32m~\\AppData\\Local\\Programs\\Python\\Python36\\lib\\site-packages\\pg8000\\core.py\u001b[0m in \u001b[0;36mexecute\u001b[1;34m(self, operation, args, stream)\u001b[0m\n\u001b[0;32m    850\u001b[0m             \u001b[1;32mif\u001b[0m \u001b[1;32mnot\u001b[0m \u001b[0mself\u001b[0m\u001b[1;33m.\u001b[0m\u001b[0m_c\u001b[0m\u001b[1;33m.\u001b[0m\u001b[0min_transaction\u001b[0m \u001b[1;32mand\u001b[0m \u001b[1;32mnot\u001b[0m \u001b[0mself\u001b[0m\u001b[1;33m.\u001b[0m\u001b[0m_c\u001b[0m\u001b[1;33m.\u001b[0m\u001b[0mautocommit\u001b[0m\u001b[1;33m:\u001b[0m\u001b[1;33m\u001b[0m\u001b[0m\n\u001b[0;32m    851\u001b[0m                 \u001b[0mself\u001b[0m\u001b[1;33m.\u001b[0m\u001b[0m_c\u001b[0m\u001b[1;33m.\u001b[0m\u001b[0mexecute\u001b[0m\u001b[1;33m(\u001b[0m\u001b[0mself\u001b[0m\u001b[1;33m,\u001b[0m \u001b[1;34m\"begin transaction\"\u001b[0m\u001b[1;33m,\u001b[0m \u001b[1;32mNone\u001b[0m\u001b[1;33m)\u001b[0m\u001b[1;33m\u001b[0m\u001b[0m\n\u001b[1;32m--> 852\u001b[1;33m             \u001b[0mself\u001b[0m\u001b[1;33m.\u001b[0m\u001b[0m_c\u001b[0m\u001b[1;33m.\u001b[0m\u001b[0mexecute\u001b[0m\u001b[1;33m(\u001b[0m\u001b[0mself\u001b[0m\u001b[1;33m,\u001b[0m \u001b[0moperation\u001b[0m\u001b[1;33m,\u001b[0m \u001b[0margs\u001b[0m\u001b[1;33m)\u001b[0m\u001b[1;33m\u001b[0m\u001b[0m\n\u001b[0m\u001b[0;32m    853\u001b[0m         \u001b[1;32mexcept\u001b[0m \u001b[0mAttributeError\u001b[0m \u001b[1;32mas\u001b[0m \u001b[0me\u001b[0m\u001b[1;33m:\u001b[0m\u001b[1;33m\u001b[0m\u001b[0m\n\u001b[0;32m    854\u001b[0m             \u001b[1;32mif\u001b[0m \u001b[0mself\u001b[0m\u001b[1;33m.\u001b[0m\u001b[0m_c\u001b[0m \u001b[1;32mis\u001b[0m \u001b[1;32mNone\u001b[0m\u001b[1;33m:\u001b[0m\u001b[1;33m\u001b[0m\u001b[0m\n",
      "\u001b[1;32m~\\AppData\\Local\\Programs\\Python\\Python36\\lib\\site-packages\\pg8000\\core.py\u001b[0m in \u001b[0;36mexecute\u001b[1;34m(self, cursor, operation, vals)\u001b[0m\n\u001b[0;32m   1739\u001b[0m                     \u001b[1;32mraise\u001b[0m \u001b[0me\u001b[0m\u001b[1;33m\u001b[0m\u001b[0m\n\u001b[0;32m   1740\u001b[0m \u001b[1;33m\u001b[0m\u001b[0m\n\u001b[1;32m-> 1741\u001b[1;33m             \u001b[0mself\u001b[0m\u001b[1;33m.\u001b[0m\u001b[0mhandle_messages\u001b[0m\u001b[1;33m(\u001b[0m\u001b[0mcursor\u001b[0m\u001b[1;33m)\u001b[0m\u001b[1;33m\u001b[0m\u001b[0m\n\u001b[0m\u001b[0;32m   1742\u001b[0m \u001b[1;33m\u001b[0m\u001b[0m\n\u001b[0;32m   1743\u001b[0m             \u001b[1;31m# We've got row_desc that allows us to identify what we're\u001b[0m\u001b[1;33m\u001b[0m\u001b[1;33m\u001b[0m\u001b[0m\n",
      "\u001b[1;32m~\\AppData\\Local\\Programs\\Python\\Python36\\lib\\site-packages\\pg8000\\core.py\u001b[0m in \u001b[0;36mhandle_messages\u001b[1;34m(self, cursor)\u001b[0m\n\u001b[0;32m   1877\u001b[0m \u001b[1;33m\u001b[0m\u001b[0m\n\u001b[0;32m   1878\u001b[0m         \u001b[1;32mif\u001b[0m \u001b[0mself\u001b[0m\u001b[1;33m.\u001b[0m\u001b[0merror\u001b[0m \u001b[1;32mis\u001b[0m \u001b[1;32mnot\u001b[0m \u001b[1;32mNone\u001b[0m\u001b[1;33m:\u001b[0m\u001b[1;33m\u001b[0m\u001b[0m\n\u001b[1;32m-> 1879\u001b[1;33m             \u001b[1;32mraise\u001b[0m \u001b[0mself\u001b[0m\u001b[1;33m.\u001b[0m\u001b[0merror\u001b[0m\u001b[1;33m\u001b[0m\u001b[0m\n\u001b[0m\u001b[0;32m   1880\u001b[0m \u001b[1;33m\u001b[0m\u001b[0m\n\u001b[0;32m   1881\u001b[0m     \u001b[1;31m# Byte1('C') - Identifies the message as a close command.\u001b[0m\u001b[1;33m\u001b[0m\u001b[1;33m\u001b[0m\u001b[0m\n",
      "\u001b[1;31mProgrammingError\u001b[0m: ('ERROR', 'ERROR', '25P02', 'current transaction is aborted, commands ignored until end of transaction block', 'postgres.c', '1309', 'exec_parse_message')"
     ]
    }
   ],
   "source": [
    "cursor = conn.cursor()\n",
    "cursor.execute(\"SELECT length FROM river WHERE name = 'Nile'\")"
   ]
  },
  {
   "cell_type": "markdown",
   "metadata": {},
   "source": [
    "The way to fix this problem is to close the connection and re-open it, by calling the connection object's `rollback` method:"
   ]
  },
  {
   "cell_type": "code",
   "execution_count": 33,
   "metadata": {},
   "outputs": [],
   "source": [
    "conn.rollback()"
   ]
  },
  {
   "cell_type": "markdown",
   "metadata": {},
   "source": [
    "Now your queries can proceed as planned:"
   ]
  },
  {
   "cell_type": "code",
   "execution_count": 34,
   "metadata": {},
   "outputs": [
    {
     "data": {
      "text/plain": [
       "[Decimal('3090')]"
      ]
     },
     "execution_count": 34,
     "metadata": {},
     "output_type": "execute_result"
    }
   ],
   "source": [
    "cursor.execute(\"SELECT length FROM river WHERE name = 'Nile'\")\n",
    "cursor.fetchone()"
   ]
  },
  {
   "cell_type": "markdown",
   "metadata": {},
   "source": [
    "## More information\n",
    "\n",
    "For more information, go to [pg8000's documentation](http://pythonhosted.org/pg8000/)."
   ]
  }
 ],
 "metadata": {
  "kernelspec": {
   "display_name": "Python 3",
   "language": "python",
   "name": "python3"
  },
  "language_info": {
   "codemirror_mode": {
    "name": "ipython",
    "version": 3
   },
   "file_extension": ".py",
   "mimetype": "text/x-python",
   "name": "python",
   "nbconvert_exporter": "python",
   "pygments_lexer": "ipython3",
   "version": "3.6.5"
  }
 },
 "nbformat": 4,
 "nbformat_minor": 1
}
